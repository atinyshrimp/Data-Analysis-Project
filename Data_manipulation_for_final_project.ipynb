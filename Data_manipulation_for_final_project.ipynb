{
 "cells": [
  {
   "cell_type": "markdown",
   "id": "8f70c6dc",
   "metadata": {},
   "source": [
    "# Data manipulation for the final project\n",
    "\n",
    "## Table of content\n",
    "* [Data pre-processing](#processing)\n",
    "* [Data visualization](#visualization)\n",
    "* [Modeling](#modeling)"
   ]
  },
  {
   "cell_type": "markdown",
   "id": "68dd601f",
   "metadata": {},
   "source": [
    "<a name=\"processing\">\n",
    "    <h3>Data pre-processing</h3>\n",
    "</a>\n",
    "Encoding, normalization, imputation…"
   ]
  },
  {
   "cell_type": "markdown",
   "id": "1ad3e81f",
   "metadata": {},
   "source": [
    "<a name=\"visualization\">\n",
    "    <h3>Data visualization</h3>\n",
    "</a>\n",
    "Showing the link between the variables and the target."
   ]
  },
  {
   "cell_type": "markdown",
   "id": "f221b7ea",
   "metadata": {},
   "source": [
    "<a name=\"modeling\">\n",
    "    <h3>Modeling</h3>\n",
    "</a>\n",
    "Using the scikit-learn library to try several algorithms, change the hyper parameters, do a grid search, compare the results of your models using graphics"
   ]
  }
 ],
 "metadata": {
  "kernelspec": {
   "display_name": "Python 3 (ipykernel)",
   "language": "python",
   "name": "python3"
  },
  "language_info": {
   "codemirror_mode": {
    "name": "ipython",
    "version": 3
   },
   "file_extension": ".py",
   "mimetype": "text/x-python",
   "name": "python",
   "nbconvert_exporter": "python",
   "pygments_lexer": "ipython3",
   "version": "3.9.7"
  }
 },
 "nbformat": 4,
 "nbformat_minor": 5
}

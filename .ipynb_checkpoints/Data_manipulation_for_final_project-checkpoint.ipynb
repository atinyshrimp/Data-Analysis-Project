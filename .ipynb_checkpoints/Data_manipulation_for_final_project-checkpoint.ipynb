{
 "cells": [
  {
   "cell_type": "markdown",
   "id": "68e598e5",
   "metadata": {},
   "source": [
    "# Data manipulation for the final project\n",
    "\n",
    "## Table of contents\n",
    "* [Data pre-processing](#processing)\n",
    "* [Data visualization](#visualization)\n",
    "* [Modeling](#modeling)"
   ]
  },
  {
   "cell_type": "markdown",
   "id": "5884a270",
   "metadata": {},
   "source": [
    "<a name=\"processing\">\n",
    "    <h2>1. Data pre-processing</h2>\n",
    "</a>\n",
    "Encoding, normalization, imputation…"
   ]
  },
  {
   "cell_type": "markdown",
   "id": "5120ca8d",
   "metadata": {},
   "source": [
    "### 1.1 Loading the data"
   ]
  },
  {
   "cell_type": "code",
   "execution_count": 1,
   "id": "b3fa3f3f",
   "metadata": {},
   "outputs": [],
   "source": [
    "import pandas as pd\n",
    "\n",
    "import warnings\n",
    "warnings.filterwarnings('ignore')"
   ]
  },
  {
   "cell_type": "code",
   "execution_count": 2,
   "id": "6c86a0e6",
   "metadata": {},
   "outputs": [],
   "source": [
    "columns = ['intercolumnar distance', 'upper margin', 'lower margin', 'exploitation', 'row number', 'modular ratio', \n",
    "           'interlinear spacing', 'weight', 'peak number', 'modular ratio / interlinear spacing', 'class']"
   ]
  },
  {
   "cell_type": "code",
   "execution_count": 3,
   "id": "4d331261",
   "metadata": {},
   "outputs": [
    {
     "data": {
      "text/html": [
       "<div>\n",
       "<style scoped>\n",
       "    .dataframe tbody tr th:only-of-type {\n",
       "        vertical-align: middle;\n",
       "    }\n",
       "\n",
       "    .dataframe tbody tr th {\n",
       "        vertical-align: top;\n",
       "    }\n",
       "\n",
       "    .dataframe thead th {\n",
       "        text-align: right;\n",
       "    }\n",
       "</style>\n",
       "<table border=\"1\" class=\"dataframe\">\n",
       "  <thead>\n",
       "    <tr style=\"text-align: right;\">\n",
       "      <th></th>\n",
       "      <th>intercolumnar distance</th>\n",
       "      <th>upper margin</th>\n",
       "      <th>lower margin</th>\n",
       "      <th>exploitation</th>\n",
       "      <th>row number</th>\n",
       "      <th>modular ratio</th>\n",
       "      <th>interlinear spacing</th>\n",
       "      <th>weight</th>\n",
       "      <th>peak number</th>\n",
       "      <th>modular ratio / interlinear spacing</th>\n",
       "      <th>class</th>\n",
       "    </tr>\n",
       "  </thead>\n",
       "  <tbody>\n",
       "    <tr>\n",
       "      <th>0</th>\n",
       "      <td>0.266074</td>\n",
       "      <td>-0.165620</td>\n",
       "      <td>0.320980</td>\n",
       "      <td>0.483299</td>\n",
       "      <td>0.172340</td>\n",
       "      <td>0.273364</td>\n",
       "      <td>0.371178</td>\n",
       "      <td>0.929823</td>\n",
       "      <td>0.251173</td>\n",
       "      <td>0.159345</td>\n",
       "      <td>A</td>\n",
       "    </tr>\n",
       "    <tr>\n",
       "      <th>1</th>\n",
       "      <td>0.130292</td>\n",
       "      <td>0.870736</td>\n",
       "      <td>-3.210528</td>\n",
       "      <td>0.062493</td>\n",
       "      <td>0.261718</td>\n",
       "      <td>1.436060</td>\n",
       "      <td>1.465940</td>\n",
       "      <td>0.636203</td>\n",
       "      <td>0.282354</td>\n",
       "      <td>0.515587</td>\n",
       "      <td>A</td>\n",
       "    </tr>\n",
       "    <tr>\n",
       "      <th>2</th>\n",
       "      <td>-0.116585</td>\n",
       "      <td>0.069915</td>\n",
       "      <td>0.068476</td>\n",
       "      <td>-0.783147</td>\n",
       "      <td>0.261718</td>\n",
       "      <td>0.439463</td>\n",
       "      <td>-0.081827</td>\n",
       "      <td>-0.888236</td>\n",
       "      <td>-0.123005</td>\n",
       "      <td>0.582939</td>\n",
       "      <td>A</td>\n",
       "    </tr>\n",
       "    <tr>\n",
       "      <th>3</th>\n",
       "      <td>0.031541</td>\n",
       "      <td>0.297600</td>\n",
       "      <td>-3.210528</td>\n",
       "      <td>-0.583590</td>\n",
       "      <td>-0.721442</td>\n",
       "      <td>-0.307984</td>\n",
       "      <td>0.710932</td>\n",
       "      <td>1.051693</td>\n",
       "      <td>0.594169</td>\n",
       "      <td>-0.533994</td>\n",
       "      <td>A</td>\n",
       "    </tr>\n",
       "    <tr>\n",
       "      <th>4</th>\n",
       "      <td>0.229043</td>\n",
       "      <td>0.807926</td>\n",
       "      <td>-0.052442</td>\n",
       "      <td>0.082634</td>\n",
       "      <td>0.261718</td>\n",
       "      <td>0.148790</td>\n",
       "      <td>0.635431</td>\n",
       "      <td>0.051062</td>\n",
       "      <td>0.032902</td>\n",
       "      <td>-0.086652</td>\n",
       "      <td>F</td>\n",
       "    </tr>\n",
       "  </tbody>\n",
       "</table>\n",
       "</div>"
      ],
      "text/plain": [
       "   intercolumnar distance  upper margin  lower margin  exploitation  \\\n",
       "0                0.266074     -0.165620      0.320980      0.483299   \n",
       "1                0.130292      0.870736     -3.210528      0.062493   \n",
       "2               -0.116585      0.069915      0.068476     -0.783147   \n",
       "3                0.031541      0.297600     -3.210528     -0.583590   \n",
       "4                0.229043      0.807926     -0.052442      0.082634   \n",
       "\n",
       "   row number  modular ratio  interlinear spacing    weight  peak number  \\\n",
       "0    0.172340       0.273364             0.371178  0.929823     0.251173   \n",
       "1    0.261718       1.436060             1.465940  0.636203     0.282354   \n",
       "2    0.261718       0.439463            -0.081827 -0.888236    -0.123005   \n",
       "3   -0.721442      -0.307984             0.710932  1.051693     0.594169   \n",
       "4    0.261718       0.148790             0.635431  0.051062     0.032902   \n",
       "\n",
       "   modular ratio / interlinear spacing class  \n",
       "0                             0.159345     A  \n",
       "1                             0.515587     A  \n",
       "2                             0.582939     A  \n",
       "3                            -0.533994     A  \n",
       "4                            -0.086652     F  "
      ]
     },
     "execution_count": 3,
     "metadata": {},
     "output_type": "execute_result"
    }
   ],
   "source": [
    "train_data = pd.read_csv('avila/avila-tr.txt', names=columns)\n",
    "train_data.head()"
   ]
  },
  {
   "cell_type": "code",
   "execution_count": 4,
   "id": "6693e767",
   "metadata": {},
   "outputs": [
    {
     "data": {
      "text/html": [
       "<div>\n",
       "<style scoped>\n",
       "    .dataframe tbody tr th:only-of-type {\n",
       "        vertical-align: middle;\n",
       "    }\n",
       "\n",
       "    .dataframe tbody tr th {\n",
       "        vertical-align: top;\n",
       "    }\n",
       "\n",
       "    .dataframe thead th {\n",
       "        text-align: right;\n",
       "    }\n",
       "</style>\n",
       "<table border=\"1\" class=\"dataframe\">\n",
       "  <thead>\n",
       "    <tr style=\"text-align: right;\">\n",
       "      <th></th>\n",
       "      <th>intercolumnar distance</th>\n",
       "      <th>upper margin</th>\n",
       "      <th>lower margin</th>\n",
       "      <th>exploitation</th>\n",
       "      <th>row number</th>\n",
       "      <th>modular ratio</th>\n",
       "      <th>interlinear spacing</th>\n",
       "      <th>weight</th>\n",
       "      <th>peak number</th>\n",
       "      <th>modular ratio / interlinear spacing</th>\n",
       "      <th>class</th>\n",
       "    </tr>\n",
       "  </thead>\n",
       "  <tbody>\n",
       "    <tr>\n",
       "      <th>0</th>\n",
       "      <td>-3.498799</td>\n",
       "      <td>0.250492</td>\n",
       "      <td>0.232070</td>\n",
       "      <td>1.224178</td>\n",
       "      <td>-4.922215</td>\n",
       "      <td>1.145386</td>\n",
       "      <td>0.182426</td>\n",
       "      <td>-0.165983</td>\n",
       "      <td>-0.123005</td>\n",
       "      <td>1.087144</td>\n",
       "      <td>W</td>\n",
       "    </tr>\n",
       "    <tr>\n",
       "      <th>1</th>\n",
       "      <td>0.204355</td>\n",
       "      <td>-0.354049</td>\n",
       "      <td>0.320980</td>\n",
       "      <td>0.410166</td>\n",
       "      <td>-0.989576</td>\n",
       "      <td>-2.218127</td>\n",
       "      <td>0.220177</td>\n",
       "      <td>0.181844</td>\n",
       "      <td>2.090879</td>\n",
       "      <td>-2.009758</td>\n",
       "      <td>A</td>\n",
       "    </tr>\n",
       "    <tr>\n",
       "      <th>2</th>\n",
       "      <td>0.759828</td>\n",
       "      <td>-1.304042</td>\n",
       "      <td>-0.023991</td>\n",
       "      <td>-0.973663</td>\n",
       "      <td>-0.006417</td>\n",
       "      <td>-0.349509</td>\n",
       "      <td>-0.421580</td>\n",
       "      <td>-0.450127</td>\n",
       "      <td>0.469443</td>\n",
       "      <td>0.060952</td>\n",
       "      <td>I</td>\n",
       "    </tr>\n",
       "    <tr>\n",
       "      <th>3</th>\n",
       "      <td>-0.005490</td>\n",
       "      <td>0.360409</td>\n",
       "      <td>0.281860</td>\n",
       "      <td>-0.213479</td>\n",
       "      <td>-1.168333</td>\n",
       "      <td>-1.013906</td>\n",
       "      <td>-0.346080</td>\n",
       "      <td>1.176165</td>\n",
       "      <td>0.968347</td>\n",
       "      <td>-0.627999</td>\n",
       "      <td>E</td>\n",
       "    </tr>\n",
       "    <tr>\n",
       "      <th>4</th>\n",
       "      <td>0.080916</td>\n",
       "      <td>0.101320</td>\n",
       "      <td>0.104040</td>\n",
       "      <td>0.140490</td>\n",
       "      <td>0.261718</td>\n",
       "      <td>0.480988</td>\n",
       "      <td>0.710932</td>\n",
       "      <td>-0.253430</td>\n",
       "      <td>-0.497183</td>\n",
       "      <td>0.155681</td>\n",
       "      <td>A</td>\n",
       "    </tr>\n",
       "  </tbody>\n",
       "</table>\n",
       "</div>"
      ],
      "text/plain": [
       "   intercolumnar distance  upper margin  lower margin  exploitation  \\\n",
       "0               -3.498799      0.250492      0.232070      1.224178   \n",
       "1                0.204355     -0.354049      0.320980      0.410166   \n",
       "2                0.759828     -1.304042     -0.023991     -0.973663   \n",
       "3               -0.005490      0.360409      0.281860     -0.213479   \n",
       "4                0.080916      0.101320      0.104040      0.140490   \n",
       "\n",
       "   row number  modular ratio  interlinear spacing    weight  peak number  \\\n",
       "0   -4.922215       1.145386             0.182426 -0.165983    -0.123005   \n",
       "1   -0.989576      -2.218127             0.220177  0.181844     2.090879   \n",
       "2   -0.006417      -0.349509            -0.421580 -0.450127     0.469443   \n",
       "3   -1.168333      -1.013906            -0.346080  1.176165     0.968347   \n",
       "4    0.261718       0.480988             0.710932 -0.253430    -0.497183   \n",
       "\n",
       "   modular ratio / interlinear spacing class  \n",
       "0                             1.087144     W  \n",
       "1                            -2.009758     A  \n",
       "2                             0.060952     I  \n",
       "3                            -0.627999     E  \n",
       "4                             0.155681     A  "
      ]
     },
     "execution_count": 4,
     "metadata": {},
     "output_type": "execute_result"
    }
   ],
   "source": [
    "test_data = pd.read_csv('avila/avila-ts.txt', names=columns)\n",
    "test_data.head()"
   ]
  },
  {
   "cell_type": "markdown",
   "id": "30f0933f",
   "metadata": {},
   "source": [
    "### 1.2 Data Cleaning"
   ]
  },
  {
   "cell_type": "code",
   "execution_count": 5,
   "id": "ea19cc6f",
   "metadata": {},
   "outputs": [
    {
     "name": "stdout",
     "output_type": "stream",
     "text": [
      "<class 'pandas.core.frame.DataFrame'>\n",
      "RangeIndex: 10430 entries, 0 to 10429\n",
      "Data columns (total 11 columns):\n",
      " #   Column                               Non-Null Count  Dtype  \n",
      "---  ------                               --------------  -----  \n",
      " 0   intercolumnar distance               10430 non-null  float64\n",
      " 1   upper margin                         10430 non-null  float64\n",
      " 2   lower margin                         10430 non-null  float64\n",
      " 3   exploitation                         10430 non-null  float64\n",
      " 4   row number                           10430 non-null  float64\n",
      " 5   modular ratio                        10430 non-null  float64\n",
      " 6   interlinear spacing                  10430 non-null  float64\n",
      " 7   weight                               10430 non-null  float64\n",
      " 8   peak number                          10430 non-null  float64\n",
      " 9   modular ratio / interlinear spacing  10430 non-null  float64\n",
      " 10  class                                10430 non-null  object \n",
      "dtypes: float64(10), object(1)\n",
      "memory usage: 896.5+ KB\n"
     ]
    }
   ],
   "source": [
    "train_data.info()"
   ]
  },
  {
   "cell_type": "code",
   "execution_count": 6,
   "id": "f169547f",
   "metadata": {},
   "outputs": [
    {
     "name": "stdout",
     "output_type": "stream",
     "text": [
      "<class 'pandas.core.frame.DataFrame'>\n",
      "RangeIndex: 10437 entries, 0 to 10436\n",
      "Data columns (total 11 columns):\n",
      " #   Column                               Non-Null Count  Dtype  \n",
      "---  ------                               --------------  -----  \n",
      " 0   intercolumnar distance               10437 non-null  float64\n",
      " 1   upper margin                         10437 non-null  float64\n",
      " 2   lower margin                         10437 non-null  float64\n",
      " 3   exploitation                         10437 non-null  float64\n",
      " 4   row number                           10437 non-null  float64\n",
      " 5   modular ratio                        10437 non-null  float64\n",
      " 6   interlinear spacing                  10437 non-null  float64\n",
      " 7   weight                               10437 non-null  float64\n",
      " 8   peak number                          10437 non-null  float64\n",
      " 9   modular ratio / interlinear spacing  10437 non-null  float64\n",
      " 10  class                                10437 non-null  object \n",
      "dtypes: float64(10), object(1)\n",
      "memory usage: 897.1+ KB\n"
     ]
    }
   ],
   "source": [
    "test_data.info()"
   ]
  },
  {
   "cell_type": "markdown",
   "id": "62eb7766",
   "metadata": {},
   "source": [
    "The data has already been cleaned; there is no missing values and they seem to be in the adequate format, so there is nothing more to do."
   ]
  },
  {
   "cell_type": "markdown",
   "id": "1ece5c19",
   "metadata": {},
   "source": [
    "### 1.3 Data Encoding"
   ]
  },
  {
   "cell_type": "code",
   "execution_count": 7,
   "id": "2261beb3",
   "metadata": {},
   "outputs": [],
   "source": [
    "from sklearn.preprocessing import LabelEncoder "
   ]
  },
  {
   "cell_type": "code",
   "execution_count": 8,
   "id": "08839882",
   "metadata": {},
   "outputs": [],
   "source": [
    "label_encoder = LabelEncoder()"
   ]
  },
  {
   "cell_type": "code",
   "execution_count": 9,
   "id": "edc16e28",
   "metadata": {},
   "outputs": [
    {
     "data": {
      "text/html": [
       "<div>\n",
       "<style scoped>\n",
       "    .dataframe tbody tr th:only-of-type {\n",
       "        vertical-align: middle;\n",
       "    }\n",
       "\n",
       "    .dataframe tbody tr th {\n",
       "        vertical-align: top;\n",
       "    }\n",
       "\n",
       "    .dataframe thead th {\n",
       "        text-align: right;\n",
       "    }\n",
       "</style>\n",
       "<table border=\"1\" class=\"dataframe\">\n",
       "  <thead>\n",
       "    <tr style=\"text-align: right;\">\n",
       "      <th></th>\n",
       "      <th>intercolumnar distance</th>\n",
       "      <th>upper margin</th>\n",
       "      <th>lower margin</th>\n",
       "      <th>exploitation</th>\n",
       "      <th>row number</th>\n",
       "      <th>modular ratio</th>\n",
       "      <th>interlinear spacing</th>\n",
       "      <th>weight</th>\n",
       "      <th>peak number</th>\n",
       "      <th>modular ratio / interlinear spacing</th>\n",
       "      <th>class</th>\n",
       "    </tr>\n",
       "  </thead>\n",
       "  <tbody>\n",
       "    <tr>\n",
       "      <th>0</th>\n",
       "      <td>0.266074</td>\n",
       "      <td>-0.165620</td>\n",
       "      <td>0.320980</td>\n",
       "      <td>0.483299</td>\n",
       "      <td>0.172340</td>\n",
       "      <td>0.273364</td>\n",
       "      <td>0.371178</td>\n",
       "      <td>0.929823</td>\n",
       "      <td>0.251173</td>\n",
       "      <td>0.159345</td>\n",
       "      <td>0</td>\n",
       "    </tr>\n",
       "    <tr>\n",
       "      <th>1</th>\n",
       "      <td>0.130292</td>\n",
       "      <td>0.870736</td>\n",
       "      <td>-3.210528</td>\n",
       "      <td>0.062493</td>\n",
       "      <td>0.261718</td>\n",
       "      <td>1.436060</td>\n",
       "      <td>1.465940</td>\n",
       "      <td>0.636203</td>\n",
       "      <td>0.282354</td>\n",
       "      <td>0.515587</td>\n",
       "      <td>0</td>\n",
       "    </tr>\n",
       "    <tr>\n",
       "      <th>2</th>\n",
       "      <td>-0.116585</td>\n",
       "      <td>0.069915</td>\n",
       "      <td>0.068476</td>\n",
       "      <td>-0.783147</td>\n",
       "      <td>0.261718</td>\n",
       "      <td>0.439463</td>\n",
       "      <td>-0.081827</td>\n",
       "      <td>-0.888236</td>\n",
       "      <td>-0.123005</td>\n",
       "      <td>0.582939</td>\n",
       "      <td>0</td>\n",
       "    </tr>\n",
       "    <tr>\n",
       "      <th>3</th>\n",
       "      <td>0.031541</td>\n",
       "      <td>0.297600</td>\n",
       "      <td>-3.210528</td>\n",
       "      <td>-0.583590</td>\n",
       "      <td>-0.721442</td>\n",
       "      <td>-0.307984</td>\n",
       "      <td>0.710932</td>\n",
       "      <td>1.051693</td>\n",
       "      <td>0.594169</td>\n",
       "      <td>-0.533994</td>\n",
       "      <td>0</td>\n",
       "    </tr>\n",
       "    <tr>\n",
       "      <th>4</th>\n",
       "      <td>0.229043</td>\n",
       "      <td>0.807926</td>\n",
       "      <td>-0.052442</td>\n",
       "      <td>0.082634</td>\n",
       "      <td>0.261718</td>\n",
       "      <td>0.148790</td>\n",
       "      <td>0.635431</td>\n",
       "      <td>0.051062</td>\n",
       "      <td>0.032902</td>\n",
       "      <td>-0.086652</td>\n",
       "      <td>5</td>\n",
       "    </tr>\n",
       "  </tbody>\n",
       "</table>\n",
       "</div>"
      ],
      "text/plain": [
       "   intercolumnar distance  upper margin  lower margin  exploitation  \\\n",
       "0                0.266074     -0.165620      0.320980      0.483299   \n",
       "1                0.130292      0.870736     -3.210528      0.062493   \n",
       "2               -0.116585      0.069915      0.068476     -0.783147   \n",
       "3                0.031541      0.297600     -3.210528     -0.583590   \n",
       "4                0.229043      0.807926     -0.052442      0.082634   \n",
       "\n",
       "   row number  modular ratio  interlinear spacing    weight  peak number  \\\n",
       "0    0.172340       0.273364             0.371178  0.929823     0.251173   \n",
       "1    0.261718       1.436060             1.465940  0.636203     0.282354   \n",
       "2    0.261718       0.439463            -0.081827 -0.888236    -0.123005   \n",
       "3   -0.721442      -0.307984             0.710932  1.051693     0.594169   \n",
       "4    0.261718       0.148790             0.635431  0.051062     0.032902   \n",
       "\n",
       "   modular ratio / interlinear spacing  class  \n",
       "0                             0.159345      0  \n",
       "1                             0.515587      0  \n",
       "2                             0.582939      0  \n",
       "3                            -0.533994      0  \n",
       "4                            -0.086652      5  "
      ]
     },
     "execution_count": 9,
     "metadata": {},
     "output_type": "execute_result"
    }
   ],
   "source": [
    "train_data['class'] = label_encoder.fit_transform(train_data['class'])\n",
    "train_data.head()"
   ]
  },
  {
   "cell_type": "code",
   "execution_count": 10,
   "id": "e2d277e4",
   "metadata": {},
   "outputs": [
    {
     "data": {
      "text/plain": [
       "(0, 11)"
      ]
     },
     "execution_count": 10,
     "metadata": {},
     "output_type": "execute_result"
    }
   ],
   "source": [
    "min(train_data['class']), max(train_data['class'])"
   ]
  },
  {
   "cell_type": "code",
   "execution_count": 11,
   "id": "3ef3b7b1",
   "metadata": {},
   "outputs": [
    {
     "data": {
      "text/html": [
       "<div>\n",
       "<style scoped>\n",
       "    .dataframe tbody tr th:only-of-type {\n",
       "        vertical-align: middle;\n",
       "    }\n",
       "\n",
       "    .dataframe tbody tr th {\n",
       "        vertical-align: top;\n",
       "    }\n",
       "\n",
       "    .dataframe thead th {\n",
       "        text-align: right;\n",
       "    }\n",
       "</style>\n",
       "<table border=\"1\" class=\"dataframe\">\n",
       "  <thead>\n",
       "    <tr style=\"text-align: right;\">\n",
       "      <th></th>\n",
       "      <th>intercolumnar distance</th>\n",
       "      <th>upper margin</th>\n",
       "      <th>lower margin</th>\n",
       "      <th>exploitation</th>\n",
       "      <th>row number</th>\n",
       "      <th>modular ratio</th>\n",
       "      <th>interlinear spacing</th>\n",
       "      <th>weight</th>\n",
       "      <th>peak number</th>\n",
       "      <th>modular ratio / interlinear spacing</th>\n",
       "      <th>class</th>\n",
       "    </tr>\n",
       "  </thead>\n",
       "  <tbody>\n",
       "    <tr>\n",
       "      <th>0</th>\n",
       "      <td>-3.498799</td>\n",
       "      <td>0.250492</td>\n",
       "      <td>0.232070</td>\n",
       "      <td>1.224178</td>\n",
       "      <td>-4.922215</td>\n",
       "      <td>1.145386</td>\n",
       "      <td>0.182426</td>\n",
       "      <td>-0.165983</td>\n",
       "      <td>-0.123005</td>\n",
       "      <td>1.087144</td>\n",
       "      <td>9</td>\n",
       "    </tr>\n",
       "    <tr>\n",
       "      <th>1</th>\n",
       "      <td>0.204355</td>\n",
       "      <td>-0.354049</td>\n",
       "      <td>0.320980</td>\n",
       "      <td>0.410166</td>\n",
       "      <td>-0.989576</td>\n",
       "      <td>-2.218127</td>\n",
       "      <td>0.220177</td>\n",
       "      <td>0.181844</td>\n",
       "      <td>2.090879</td>\n",
       "      <td>-2.009758</td>\n",
       "      <td>0</td>\n",
       "    </tr>\n",
       "    <tr>\n",
       "      <th>2</th>\n",
       "      <td>0.759828</td>\n",
       "      <td>-1.304042</td>\n",
       "      <td>-0.023991</td>\n",
       "      <td>-0.973663</td>\n",
       "      <td>-0.006417</td>\n",
       "      <td>-0.349509</td>\n",
       "      <td>-0.421580</td>\n",
       "      <td>-0.450127</td>\n",
       "      <td>0.469443</td>\n",
       "      <td>0.060952</td>\n",
       "      <td>8</td>\n",
       "    </tr>\n",
       "    <tr>\n",
       "      <th>3</th>\n",
       "      <td>-0.005490</td>\n",
       "      <td>0.360409</td>\n",
       "      <td>0.281860</td>\n",
       "      <td>-0.213479</td>\n",
       "      <td>-1.168333</td>\n",
       "      <td>-1.013906</td>\n",
       "      <td>-0.346080</td>\n",
       "      <td>1.176165</td>\n",
       "      <td>0.968347</td>\n",
       "      <td>-0.627999</td>\n",
       "      <td>4</td>\n",
       "    </tr>\n",
       "    <tr>\n",
       "      <th>4</th>\n",
       "      <td>0.080916</td>\n",
       "      <td>0.101320</td>\n",
       "      <td>0.104040</td>\n",
       "      <td>0.140490</td>\n",
       "      <td>0.261718</td>\n",
       "      <td>0.480988</td>\n",
       "      <td>0.710932</td>\n",
       "      <td>-0.253430</td>\n",
       "      <td>-0.497183</td>\n",
       "      <td>0.155681</td>\n",
       "      <td>0</td>\n",
       "    </tr>\n",
       "  </tbody>\n",
       "</table>\n",
       "</div>"
      ],
      "text/plain": [
       "   intercolumnar distance  upper margin  lower margin  exploitation  \\\n",
       "0               -3.498799      0.250492      0.232070      1.224178   \n",
       "1                0.204355     -0.354049      0.320980      0.410166   \n",
       "2                0.759828     -1.304042     -0.023991     -0.973663   \n",
       "3               -0.005490      0.360409      0.281860     -0.213479   \n",
       "4                0.080916      0.101320      0.104040      0.140490   \n",
       "\n",
       "   row number  modular ratio  interlinear spacing    weight  peak number  \\\n",
       "0   -4.922215       1.145386             0.182426 -0.165983    -0.123005   \n",
       "1   -0.989576      -2.218127             0.220177  0.181844     2.090879   \n",
       "2   -0.006417      -0.349509            -0.421580 -0.450127     0.469443   \n",
       "3   -1.168333      -1.013906            -0.346080  1.176165     0.968347   \n",
       "4    0.261718       0.480988             0.710932 -0.253430    -0.497183   \n",
       "\n",
       "   modular ratio / interlinear spacing  class  \n",
       "0                             1.087144      9  \n",
       "1                            -2.009758      0  \n",
       "2                             0.060952      8  \n",
       "3                            -0.627999      4  \n",
       "4                             0.155681      0  "
      ]
     },
     "execution_count": 11,
     "metadata": {},
     "output_type": "execute_result"
    }
   ],
   "source": [
    "test_data['class'] = label_encoder.fit_transform(test_data['class'])\n",
    "test_data.head()"
   ]
  },
  {
   "cell_type": "code",
   "execution_count": 12,
   "id": "ada5728e",
   "metadata": {},
   "outputs": [
    {
     "data": {
      "text/plain": [
       "(0, 11)"
      ]
     },
     "execution_count": 12,
     "metadata": {},
     "output_type": "execute_result"
    }
   ],
   "source": [
    "min(test_data['class']), max(test_data['class'])"
   ]
  },
  {
   "cell_type": "markdown",
   "id": "c4119297",
   "metadata": {},
   "source": [
    "### 1.4 Splitting"
   ]
  },
  {
   "cell_type": "code",
   "execution_count": 13,
   "id": "3a7b920d",
   "metadata": {},
   "outputs": [
    {
     "data": {
      "text/html": [
       "<div>\n",
       "<style scoped>\n",
       "    .dataframe tbody tr th:only-of-type {\n",
       "        vertical-align: middle;\n",
       "    }\n",
       "\n",
       "    .dataframe tbody tr th {\n",
       "        vertical-align: top;\n",
       "    }\n",
       "\n",
       "    .dataframe thead th {\n",
       "        text-align: right;\n",
       "    }\n",
       "</style>\n",
       "<table border=\"1\" class=\"dataframe\">\n",
       "  <thead>\n",
       "    <tr style=\"text-align: right;\">\n",
       "      <th></th>\n",
       "      <th>intercolumnar distance</th>\n",
       "      <th>upper margin</th>\n",
       "      <th>lower margin</th>\n",
       "      <th>exploitation</th>\n",
       "      <th>row number</th>\n",
       "      <th>modular ratio</th>\n",
       "      <th>interlinear spacing</th>\n",
       "      <th>weight</th>\n",
       "      <th>peak number</th>\n",
       "      <th>modular ratio / interlinear spacing</th>\n",
       "    </tr>\n",
       "  </thead>\n",
       "  <tbody>\n",
       "    <tr>\n",
       "      <th>0</th>\n",
       "      <td>0.266074</td>\n",
       "      <td>-0.165620</td>\n",
       "      <td>0.320980</td>\n",
       "      <td>0.483299</td>\n",
       "      <td>0.172340</td>\n",
       "      <td>0.273364</td>\n",
       "      <td>0.371178</td>\n",
       "      <td>0.929823</td>\n",
       "      <td>0.251173</td>\n",
       "      <td>0.159345</td>\n",
       "    </tr>\n",
       "    <tr>\n",
       "      <th>1</th>\n",
       "      <td>0.130292</td>\n",
       "      <td>0.870736</td>\n",
       "      <td>-3.210528</td>\n",
       "      <td>0.062493</td>\n",
       "      <td>0.261718</td>\n",
       "      <td>1.436060</td>\n",
       "      <td>1.465940</td>\n",
       "      <td>0.636203</td>\n",
       "      <td>0.282354</td>\n",
       "      <td>0.515587</td>\n",
       "    </tr>\n",
       "    <tr>\n",
       "      <th>2</th>\n",
       "      <td>-0.116585</td>\n",
       "      <td>0.069915</td>\n",
       "      <td>0.068476</td>\n",
       "      <td>-0.783147</td>\n",
       "      <td>0.261718</td>\n",
       "      <td>0.439463</td>\n",
       "      <td>-0.081827</td>\n",
       "      <td>-0.888236</td>\n",
       "      <td>-0.123005</td>\n",
       "      <td>0.582939</td>\n",
       "    </tr>\n",
       "    <tr>\n",
       "      <th>3</th>\n",
       "      <td>0.031541</td>\n",
       "      <td>0.297600</td>\n",
       "      <td>-3.210528</td>\n",
       "      <td>-0.583590</td>\n",
       "      <td>-0.721442</td>\n",
       "      <td>-0.307984</td>\n",
       "      <td>0.710932</td>\n",
       "      <td>1.051693</td>\n",
       "      <td>0.594169</td>\n",
       "      <td>-0.533994</td>\n",
       "    </tr>\n",
       "    <tr>\n",
       "      <th>4</th>\n",
       "      <td>0.229043</td>\n",
       "      <td>0.807926</td>\n",
       "      <td>-0.052442</td>\n",
       "      <td>0.082634</td>\n",
       "      <td>0.261718</td>\n",
       "      <td>0.148790</td>\n",
       "      <td>0.635431</td>\n",
       "      <td>0.051062</td>\n",
       "      <td>0.032902</td>\n",
       "      <td>-0.086652</td>\n",
       "    </tr>\n",
       "  </tbody>\n",
       "</table>\n",
       "</div>"
      ],
      "text/plain": [
       "   intercolumnar distance  upper margin  lower margin  exploitation  \\\n",
       "0                0.266074     -0.165620      0.320980      0.483299   \n",
       "1                0.130292      0.870736     -3.210528      0.062493   \n",
       "2               -0.116585      0.069915      0.068476     -0.783147   \n",
       "3                0.031541      0.297600     -3.210528     -0.583590   \n",
       "4                0.229043      0.807926     -0.052442      0.082634   \n",
       "\n",
       "   row number  modular ratio  interlinear spacing    weight  peak number  \\\n",
       "0    0.172340       0.273364             0.371178  0.929823     0.251173   \n",
       "1    0.261718       1.436060             1.465940  0.636203     0.282354   \n",
       "2    0.261718       0.439463            -0.081827 -0.888236    -0.123005   \n",
       "3   -0.721442      -0.307984             0.710932  1.051693     0.594169   \n",
       "4    0.261718       0.148790             0.635431  0.051062     0.032902   \n",
       "\n",
       "   modular ratio / interlinear spacing  \n",
       "0                             0.159345  \n",
       "1                             0.515587  \n",
       "2                             0.582939  \n",
       "3                            -0.533994  \n",
       "4                            -0.086652  "
      ]
     },
     "execution_count": 13,
     "metadata": {},
     "output_type": "execute_result"
    }
   ],
   "source": [
    "x_train = train_data.drop('class', axis=1)\n",
    "x_train.head()"
   ]
  },
  {
   "cell_type": "code",
   "execution_count": 14,
   "id": "8c4323b5",
   "metadata": {
    "scrolled": true
   },
   "outputs": [
    {
     "data": {
      "text/plain": [
       "0         0\n",
       "1         0\n",
       "2         0\n",
       "3         0\n",
       "4         5\n",
       "         ..\n",
       "10425     5\n",
       "10426     5\n",
       "10427     0\n",
       "10428     4\n",
       "10429    10\n",
       "Name: class, Length: 10430, dtype: int32"
      ]
     },
     "execution_count": 14,
     "metadata": {},
     "output_type": "execute_result"
    }
   ],
   "source": [
    "y_train = train_data['class']\n",
    "y_train"
   ]
  },
  {
   "cell_type": "code",
   "execution_count": 15,
   "id": "3ece6731",
   "metadata": {},
   "outputs": [
    {
     "data": {
      "text/html": [
       "<div>\n",
       "<style scoped>\n",
       "    .dataframe tbody tr th:only-of-type {\n",
       "        vertical-align: middle;\n",
       "    }\n",
       "\n",
       "    .dataframe tbody tr th {\n",
       "        vertical-align: top;\n",
       "    }\n",
       "\n",
       "    .dataframe thead th {\n",
       "        text-align: right;\n",
       "    }\n",
       "</style>\n",
       "<table border=\"1\" class=\"dataframe\">\n",
       "  <thead>\n",
       "    <tr style=\"text-align: right;\">\n",
       "      <th></th>\n",
       "      <th>intercolumnar distance</th>\n",
       "      <th>upper margin</th>\n",
       "      <th>lower margin</th>\n",
       "      <th>exploitation</th>\n",
       "      <th>row number</th>\n",
       "      <th>modular ratio</th>\n",
       "      <th>interlinear spacing</th>\n",
       "      <th>weight</th>\n",
       "      <th>peak number</th>\n",
       "      <th>modular ratio / interlinear spacing</th>\n",
       "    </tr>\n",
       "  </thead>\n",
       "  <tbody>\n",
       "    <tr>\n",
       "      <th>0</th>\n",
       "      <td>-3.498799</td>\n",
       "      <td>0.250492</td>\n",
       "      <td>0.232070</td>\n",
       "      <td>1.224178</td>\n",
       "      <td>-4.922215</td>\n",
       "      <td>1.145386</td>\n",
       "      <td>0.182426</td>\n",
       "      <td>-0.165983</td>\n",
       "      <td>-0.123005</td>\n",
       "      <td>1.087144</td>\n",
       "    </tr>\n",
       "    <tr>\n",
       "      <th>1</th>\n",
       "      <td>0.204355</td>\n",
       "      <td>-0.354049</td>\n",
       "      <td>0.320980</td>\n",
       "      <td>0.410166</td>\n",
       "      <td>-0.989576</td>\n",
       "      <td>-2.218127</td>\n",
       "      <td>0.220177</td>\n",
       "      <td>0.181844</td>\n",
       "      <td>2.090879</td>\n",
       "      <td>-2.009758</td>\n",
       "    </tr>\n",
       "    <tr>\n",
       "      <th>2</th>\n",
       "      <td>0.759828</td>\n",
       "      <td>-1.304042</td>\n",
       "      <td>-0.023991</td>\n",
       "      <td>-0.973663</td>\n",
       "      <td>-0.006417</td>\n",
       "      <td>-0.349509</td>\n",
       "      <td>-0.421580</td>\n",
       "      <td>-0.450127</td>\n",
       "      <td>0.469443</td>\n",
       "      <td>0.060952</td>\n",
       "    </tr>\n",
       "    <tr>\n",
       "      <th>3</th>\n",
       "      <td>-0.005490</td>\n",
       "      <td>0.360409</td>\n",
       "      <td>0.281860</td>\n",
       "      <td>-0.213479</td>\n",
       "      <td>-1.168333</td>\n",
       "      <td>-1.013906</td>\n",
       "      <td>-0.346080</td>\n",
       "      <td>1.176165</td>\n",
       "      <td>0.968347</td>\n",
       "      <td>-0.627999</td>\n",
       "    </tr>\n",
       "    <tr>\n",
       "      <th>4</th>\n",
       "      <td>0.080916</td>\n",
       "      <td>0.101320</td>\n",
       "      <td>0.104040</td>\n",
       "      <td>0.140490</td>\n",
       "      <td>0.261718</td>\n",
       "      <td>0.480988</td>\n",
       "      <td>0.710932</td>\n",
       "      <td>-0.253430</td>\n",
       "      <td>-0.497183</td>\n",
       "      <td>0.155681</td>\n",
       "    </tr>\n",
       "  </tbody>\n",
       "</table>\n",
       "</div>"
      ],
      "text/plain": [
       "   intercolumnar distance  upper margin  lower margin  exploitation  \\\n",
       "0               -3.498799      0.250492      0.232070      1.224178   \n",
       "1                0.204355     -0.354049      0.320980      0.410166   \n",
       "2                0.759828     -1.304042     -0.023991     -0.973663   \n",
       "3               -0.005490      0.360409      0.281860     -0.213479   \n",
       "4                0.080916      0.101320      0.104040      0.140490   \n",
       "\n",
       "   row number  modular ratio  interlinear spacing    weight  peak number  \\\n",
       "0   -4.922215       1.145386             0.182426 -0.165983    -0.123005   \n",
       "1   -0.989576      -2.218127             0.220177  0.181844     2.090879   \n",
       "2   -0.006417      -0.349509            -0.421580 -0.450127     0.469443   \n",
       "3   -1.168333      -1.013906            -0.346080  1.176165     0.968347   \n",
       "4    0.261718       0.480988             0.710932 -0.253430    -0.497183   \n",
       "\n",
       "   modular ratio / interlinear spacing  \n",
       "0                             1.087144  \n",
       "1                            -2.009758  \n",
       "2                             0.060952  \n",
       "3                            -0.627999  \n",
       "4                             0.155681  "
      ]
     },
     "execution_count": 15,
     "metadata": {},
     "output_type": "execute_result"
    }
   ],
   "source": [
    "x_test = test_data.drop('class', axis=1)\n",
    "x_test.head()"
   ]
  },
  {
   "cell_type": "code",
   "execution_count": 16,
   "id": "d293a79d",
   "metadata": {},
   "outputs": [
    {
     "data": {
      "text/plain": [
       "0         9\n",
       "1         0\n",
       "2         8\n",
       "3         4\n",
       "4         0\n",
       "         ..\n",
       "10432    10\n",
       "10433     6\n",
       "10434     0\n",
       "10435     5\n",
       "10436     7\n",
       "Name: class, Length: 10437, dtype: int32"
      ]
     },
     "execution_count": 16,
     "metadata": {},
     "output_type": "execute_result"
    }
   ],
   "source": [
    "y_test = test_data['class']\n",
    "y_test"
   ]
  },
  {
   "cell_type": "markdown",
   "id": "654ce1a8",
   "metadata": {},
   "source": [
    "### 1.5 Data Reduction : Feature Selection"
   ]
  },
  {
   "cell_type": "code",
   "execution_count": null,
   "id": "2bb557cc",
   "metadata": {},
   "outputs": [],
   "source": []
  },
  {
   "cell_type": "markdown",
   "id": "4e17742e",
   "metadata": {},
   "source": [
    "<a name=\"visualization\">\n",
    "    <h2>2. Data visualization</h2>\n",
    "</a>\n",
    "Showing the link between the variables and the target."
   ]
  },
  {
   "cell_type": "code",
   "execution_count": 17,
   "id": "f5d529ba",
   "metadata": {},
   "outputs": [],
   "source": [
    "import matplotlib.pyplot as plt\n",
    "import seaborn as sns"
   ]
  },
  {
   "cell_type": "code",
   "execution_count": 18,
   "id": "6cd74f88",
   "metadata": {},
   "outputs": [
    {
     "data": {
      "text/plain": [
       "['Solarize_Light2',\n",
       " '_classic_test_patch',\n",
       " '_mpl-gallery',\n",
       " '_mpl-gallery-nogrid',\n",
       " 'bmh',\n",
       " 'classic',\n",
       " 'dark_background',\n",
       " 'fast',\n",
       " 'fivethirtyeight',\n",
       " 'ggplot',\n",
       " 'grayscale',\n",
       " 'seaborn',\n",
       " 'seaborn-bright',\n",
       " 'seaborn-colorblind',\n",
       " 'seaborn-dark',\n",
       " 'seaborn-dark-palette',\n",
       " 'seaborn-darkgrid',\n",
       " 'seaborn-deep',\n",
       " 'seaborn-muted',\n",
       " 'seaborn-notebook',\n",
       " 'seaborn-paper',\n",
       " 'seaborn-pastel',\n",
       " 'seaborn-poster',\n",
       " 'seaborn-talk',\n",
       " 'seaborn-ticks',\n",
       " 'seaborn-white',\n",
       " 'seaborn-whitegrid',\n",
       " 'tableau-colorblind10']"
      ]
     },
     "execution_count": 18,
     "metadata": {},
     "output_type": "execute_result"
    }
   ],
   "source": [
    "plt.style.available"
   ]
  },
  {
   "cell_type": "code",
   "execution_count": 19,
   "id": "ba3476b8",
   "metadata": {},
   "outputs": [],
   "source": [
    "plt.style.use('fivethirtyeight')"
   ]
  },
  {
   "cell_type": "code",
   "execution_count": 20,
   "id": "661b1792",
   "metadata": {},
   "outputs": [
    {
     "data": {
      "text/html": [
       "<div>\n",
       "<style scoped>\n",
       "    .dataframe tbody tr th:only-of-type {\n",
       "        vertical-align: middle;\n",
       "    }\n",
       "\n",
       "    .dataframe tbody tr th {\n",
       "        vertical-align: top;\n",
       "    }\n",
       "\n",
       "    .dataframe thead th {\n",
       "        text-align: right;\n",
       "    }\n",
       "</style>\n",
       "<table border=\"1\" class=\"dataframe\">\n",
       "  <thead>\n",
       "    <tr style=\"text-align: right;\">\n",
       "      <th></th>\n",
       "      <th>intercolumnar distance</th>\n",
       "      <th>upper margin</th>\n",
       "      <th>lower margin</th>\n",
       "      <th>exploitation</th>\n",
       "      <th>row number</th>\n",
       "      <th>modular ratio</th>\n",
       "      <th>interlinear spacing</th>\n",
       "      <th>weight</th>\n",
       "      <th>peak number</th>\n",
       "      <th>modular ratio / interlinear spacing</th>\n",
       "      <th>class</th>\n",
       "    </tr>\n",
       "  </thead>\n",
       "  <tbody>\n",
       "    <tr>\n",
       "      <th>0</th>\n",
       "      <td>0.266074</td>\n",
       "      <td>-0.165620</td>\n",
       "      <td>0.320980</td>\n",
       "      <td>0.483299</td>\n",
       "      <td>0.172340</td>\n",
       "      <td>0.273364</td>\n",
       "      <td>0.371178</td>\n",
       "      <td>0.929823</td>\n",
       "      <td>0.251173</td>\n",
       "      <td>0.159345</td>\n",
       "      <td>0</td>\n",
       "    </tr>\n",
       "    <tr>\n",
       "      <th>1</th>\n",
       "      <td>0.130292</td>\n",
       "      <td>0.870736</td>\n",
       "      <td>-3.210528</td>\n",
       "      <td>0.062493</td>\n",
       "      <td>0.261718</td>\n",
       "      <td>1.436060</td>\n",
       "      <td>1.465940</td>\n",
       "      <td>0.636203</td>\n",
       "      <td>0.282354</td>\n",
       "      <td>0.515587</td>\n",
       "      <td>0</td>\n",
       "    </tr>\n",
       "    <tr>\n",
       "      <th>2</th>\n",
       "      <td>-0.116585</td>\n",
       "      <td>0.069915</td>\n",
       "      <td>0.068476</td>\n",
       "      <td>-0.783147</td>\n",
       "      <td>0.261718</td>\n",
       "      <td>0.439463</td>\n",
       "      <td>-0.081827</td>\n",
       "      <td>-0.888236</td>\n",
       "      <td>-0.123005</td>\n",
       "      <td>0.582939</td>\n",
       "      <td>0</td>\n",
       "    </tr>\n",
       "    <tr>\n",
       "      <th>3</th>\n",
       "      <td>0.031541</td>\n",
       "      <td>0.297600</td>\n",
       "      <td>-3.210528</td>\n",
       "      <td>-0.583590</td>\n",
       "      <td>-0.721442</td>\n",
       "      <td>-0.307984</td>\n",
       "      <td>0.710932</td>\n",
       "      <td>1.051693</td>\n",
       "      <td>0.594169</td>\n",
       "      <td>-0.533994</td>\n",
       "      <td>0</td>\n",
       "    </tr>\n",
       "    <tr>\n",
       "      <th>4</th>\n",
       "      <td>0.229043</td>\n",
       "      <td>0.807926</td>\n",
       "      <td>-0.052442</td>\n",
       "      <td>0.082634</td>\n",
       "      <td>0.261718</td>\n",
       "      <td>0.148790</td>\n",
       "      <td>0.635431</td>\n",
       "      <td>0.051062</td>\n",
       "      <td>0.032902</td>\n",
       "      <td>-0.086652</td>\n",
       "      <td>5</td>\n",
       "    </tr>\n",
       "  </tbody>\n",
       "</table>\n",
       "</div>"
      ],
      "text/plain": [
       "   intercolumnar distance  upper margin  lower margin  exploitation  \\\n",
       "0                0.266074     -0.165620      0.320980      0.483299   \n",
       "1                0.130292      0.870736     -3.210528      0.062493   \n",
       "2               -0.116585      0.069915      0.068476     -0.783147   \n",
       "3                0.031541      0.297600     -3.210528     -0.583590   \n",
       "4                0.229043      0.807926     -0.052442      0.082634   \n",
       "\n",
       "   row number  modular ratio  interlinear spacing    weight  peak number  \\\n",
       "0    0.172340       0.273364             0.371178  0.929823     0.251173   \n",
       "1    0.261718       1.436060             1.465940  0.636203     0.282354   \n",
       "2    0.261718       0.439463            -0.081827 -0.888236    -0.123005   \n",
       "3   -0.721442      -0.307984             0.710932  1.051693     0.594169   \n",
       "4    0.261718       0.148790             0.635431  0.051062     0.032902   \n",
       "\n",
       "   modular ratio / interlinear spacing  class  \n",
       "0                             0.159345      0  \n",
       "1                             0.515587      0  \n",
       "2                             0.582939      0  \n",
       "3                            -0.533994      0  \n",
       "4                            -0.086652      5  "
      ]
     },
     "execution_count": 20,
     "metadata": {},
     "output_type": "execute_result"
    }
   ],
   "source": [
    "avila = pd.concat([train_data, test_data])\n",
    "avila.head()"
   ]
  },
  {
   "cell_type": "markdown",
   "id": "2987e6a3",
   "metadata": {},
   "source": [
    "### 2.1 Class Distribution Plot"
   ]
  },
  {
   "cell_type": "code",
   "execution_count": 21,
   "id": "924d26f6",
   "metadata": {},
   "outputs": [
    {
     "data": {
      "image/png": "[encoded data removed]",
      "text/plain": [
       "<Figure size 800x600 with 1 Axes>"
      ]
     },
     "metadata": {},
     "output_type": "display_data"
    }
   ],
   "source": [
    "plt.figure(figsize=(8, 6))\n",
    "sns.countplot(x='class', data=avila)\n",
    "plt.title('Class distribution')\n",
    "plt.show()"
   ]
  },
  {
   "cell_type": "markdown",
   "id": "755c5e95",
   "metadata": {},
   "source": [
    "### 2.2 Correlation matrix"
   ]
  },
  {
   "cell_type": "code",
   "execution_count": 22,
   "id": "891f3b2e",
   "metadata": {},
   "outputs": [],
   "source": [
    "import numpy as np"
   ]
  },
  {
   "cell_type": "code",
   "execution_count": 23,
   "id": "14eb6186",
   "metadata": {},
   "outputs": [
    {
     "data": {
      "image/png": "[encoded data removed]",
      "text/plain": [
       "<Figure size 1000x800 with 2 Axes>"
      ]
     },
     "metadata": {},
     "output_type": "display_data"
    }
   ],
   "source": [
    "correlation_matrix = avila.corr()\n",
    "mask = np.triu(np.ones_like(correlation_matrix, dtype=bool))\n",
    "\n",
    "plt.figure(figsize=(10, 8))\n",
    "sns.heatmap(correlation_matrix, annot=True, cmap=\"coolwarm\", mask=mask, \n",
    "            fmt='.2f', vmin=-1, vmax=1)\n",
    "plt.title('Feature Correlation Heatmap')\n",
    "plt.show()"
   ]
  },
  {
   "cell_type": "markdown",
   "id": "76291568",
   "metadata": {},
   "source": [
    "### 2.3 Pair plots with Panel"
   ]
  },
  {
   "cell_type": "code",
   "execution_count": 24,
   "id": "627ef01c",
   "metadata": {},
   "outputs": [],
   "source": [
    "import panel as pn"
   ]
  },
  {
   "cell_type": "code",
   "execution_count": 25,
   "id": "084db5c4",
   "metadata": {},
   "outputs": [
    {
     "data": {
      "application/javascript": [
       "(function(root) {\n",
       "  function now() {\n",
       "    return new Date();\n",
       "  }\n",
       "\n",
       "  var force = true;\n",
       "\n",
       "  if (typeof root._bokeh_onload_callbacks === \"undefined\" || force === true) {\n",
       "    root._bokeh_onload_callbacks = [];\n",
       "    root._bokeh_is_loading = undefined;\n",
       "  }\n",
       "\n",
       "  if (typeof (root._bokeh_timeout) === \"undefined\" || force === true) {\n",
       "    root._bokeh_timeout = Date.now() + 5000;\n",
       "    root._bokeh_failed_load = false;\n",
       "  }\n",
       "\n",
       "  function run_callbacks() {\n",
       "    try {\n",
       "      root._bokeh_onload_callbacks.forEach(function(callback) {\n",
       "        if (callback != null)\n",
       "          callback();\n",
       "      });\n",
       "    } finally {\n",
       "      delete root._bokeh_onload_callbacks\n",
       "    }\n",
       "    console.debug(\"Bokeh: all callbacks have finished\");\n",
       "  }\n",
       "\n",
       "  function load_libs(css_urls, js_urls, js_modules, callback) {\n",
       "    if (css_urls == null) css_urls = [];\n",
       "    if (js_urls == null) js_urls = [];\n",
       "    if (js_modules == null) js_modules = [];\n",
       "\n",
       "    root._bokeh_onload_callbacks.push(callback);\n",
       "    if (root._bokeh_is_loading > 0) {\n",
       "      console.debug(\"Bokeh: BokehJS is being loaded, scheduling callback at\", now());\n",
       "      return null;\n",
       "    }\n",
       "    if (js_urls.length === 0 && js_modules.length === 0) {\n",
       "      run_callbacks();\n",
       "      return null;\n",
       "    }\n",
       "    console.debug(\"Bokeh: BokehJS not loaded, scheduling load and callback at\", now());\n",
       "\n",
       "    function on_load() {\n",
       "      root._bokeh_is_loading--;\n",
       "      if (root._bokeh_is_loading === 0) {\n",
       "        console.debug(\"Bokeh: all BokehJS libraries/stylesheets loaded\");\n",
       "        run_callbacks()\n",
       "      }\n",
       "    }\n",
       "\n",
       "    function on_error() {\n",
       "      console.error(\"failed to load \" + url);\n",
       "    }\n",
       "\n",
       "    for (var i = 0; i < css_urls.length; i++) {\n",
       "      var url = css_urls[i];\n",
       "      const element = document.createElement(\"link\");\n",
       "      element.onload = on_load;\n",
       "      element.onerror = on_error;\n",
       "      element.rel = \"stylesheet\";\n",
       "      element.type = \"text/css\";\n",
       "      element.href = url;\n",
       "      console.debug(\"Bokeh: injecting link tag for BokehJS stylesheet: \", url);\n",
       "      document.body.appendChild(element);\n",
       "    }\n",
       "\n",
       "    var skip = [];\n",
       "    if (window.requirejs) {\n",
       "      window.requirejs.config({'packages': {}, 'paths': {'gridstack': 'https://cdn.jsdelivr.net/npm/gridstack@4.2.5/dist/gridstack-h5', 'notyf': 'https://cdn.jsdelivr.net/npm/notyf@3/notyf.min'}, 'shim': {'gridstack': {'exports': 'GridStack'}}});\n",
       "      require([\"gridstack\"], function(GridStack) {\n",
       "\twindow.GridStack = GridStack\n",
       "\ton_load()\n",
       "      })\n",
       "      require([\"notyf\"], function() {\n",
       "\ton_load()\n",
       "      })\n",
       "      root._bokeh_is_loading = css_urls.length + 2;\n",
       "    } else {\n",
       "      root._bokeh_is_loading = css_urls.length + js_urls.length + js_modules.length;\n",
       "    }    if (((window['GridStack'] !== undefined) && (!(window['GridStack'] instanceof HTMLElement))) || window.requirejs) {\n",
       "      var urls = ['https://cdn.jsdelivr.net/npm/gridstack@4.2.5/dist/gridstack-h5.js'];\n",
       "      for (var i = 0; i < urls.length; i++) {\n",
       "        skip.push(urls[i])\n",
       "      }\n",
       "    }    if (((window['Notyf'] !== undefined) && (!(window['Notyf'] instanceof HTMLElement))) || window.requirejs) {\n",
       "      var urls = ['https://cdn.jsdelivr.net/npm/notyf@3/notyf.min.js'];\n",
       "      for (var i = 0; i < urls.length; i++) {\n",
       "        skip.push(urls[i])\n",
       "      }\n",
       "    }    for (var i = 0; i < js_urls.length; i++) {\n",
       "      var url = js_urls[i];\n",
       "      if (skip.indexOf(url) >= 0) {\n",
       "\tif (!window.requirejs) {\n",
       "\t  on_load();\n",
       "\t}\n",
       "\tcontinue;\n",
       "      }\n",
       "      var element = document.createElement('script');\n",
       "      element.onload = on_load;\n",
       "      element.onerror = on_error;\n",
       "      element.async = false;\n",
       "      element.src = url;\n",
       "      console.debug(\"Bokeh: injecting script tag for BokehJS library: \", url);\n",
       "      document.head.appendChild(element);\n",
       "    }\n",
       "    for (var i = 0; i < js_modules.length; i++) {\n",
       "      var url = js_modules[i];\n",
       "      if (skip.indexOf(url) >= 0) {\n",
       "\tif (!window.requirejs) {\n",
       "\t  on_load();\n",
       "\t}\n",
       "\tcontinue;\n",
       "      }\n",
       "      var element = document.createElement('script');\n",
       "      element.onload = on_load;\n",
       "      element.onerror = on_error;\n",
       "      element.async = false;\n",
       "      element.src = url;\n",
       "      element.type = \"module\";\n",
       "      console.debug(\"Bokeh: injecting script tag for BokehJS library: \", url);\n",
       "      document.head.appendChild(element);\n",
       "    }\n",
       "    if (!js_urls.length && !js_modules.length) {\n",
       "      on_load()\n",
       "    }\n",
       "  };\n",
       "\n",
       "  function inject_raw_css(css) {\n",
       "    const element = document.createElement(\"style\");\n",
       "    element.appendChild(document.createTextNode(css));\n",
       "    document.body.appendChild(element);\n",
       "  }\n",
       "\n",
       "  var js_urls = [\"https://cdn.bokeh.org/bokeh/release/bokeh-2.4.3.min.js\", \"https://cdn.bokeh.org/bokeh/release/bokeh-gl-2.4.3.min.js\", \"https://cdn.bokeh.org/bokeh/release/bokeh-widgets-2.4.3.min.js\", \"https://cdn.bokeh.org/bokeh/release/bokeh-tables-2.4.3.min.js\", \"https://cdn.bokeh.org/bokeh/release/bokeh-mathjax-2.4.3.min.js\", \"https://cdn.jsdelivr.net/npm/notyf@3/notyf.min.js\", \"https://unpkg.com/@holoviz/panel@0.13.1/dist/panel.min.js\"];\n",
       "  var js_modules = [];\n",
       "  var css_urls = [\"https://cdn.jsdelivr.net/npm/notyf@3/notyf.min.css\", \"https://cdnjs.cloudflare.com/ajax/libs/font-awesome/5.15.1/css/all.min.css\", \"https://unpkg.com/@holoviz/panel@0.13.1/dist/css/alerts.css\", \"https://unpkg.com/@holoviz/panel@0.13.1/dist/css/card.css\", \"https://unpkg.com/@holoviz/panel@0.13.1/dist/css/dataframe.css\", \"https://unpkg.com/@holoviz/panel@0.13.1/dist/css/debugger.css\", \"https://unpkg.com/@holoviz/panel@0.13.1/dist/css/json.css\", \"https://unpkg.com/@holoviz/panel@0.13.1/dist/css/loading.css\", \"https://unpkg.com/@holoviz/panel@0.13.1/dist/css/markdown.css\", \"https://unpkg.com/@holoviz/panel@0.13.1/dist/css/widgets.css\"];\n",
       "  var inline_js = [    function(Bokeh) {\n",
       "      inject_raw_css(\"\\n    .bk.pn-loading.arcs:before {\\n      background-image: url(\\\"data:image/svg+xml;base64,PHN2ZyB4bWxucz0iaHR0cDovL3d3dy53My5vcmcvMjAwMC9zdmciIHhtbG5zOnhsaW5rPSJodHRwOi8vd3d3LnczLm9yZy8xOTk5L3hsaW5rIiBzdHlsZT0ibWFyZ2luOiBhdXRvOyBiYWNrZ3JvdW5kOiBub25lOyBkaXNwbGF5OiBibG9jazsgc2hhcGUtcmVuZGVyaW5nOiBhdXRvOyIgdmlld0JveD0iMCAwIDEwMCAxMDAiIHByZXNlcnZlQXNwZWN0UmF0aW89InhNaWRZTWlkIj4gIDxjaXJjbGUgY3g9IjUwIiBjeT0iNTAiIHI9IjMyIiBzdHJva2Utd2lkdGg9IjgiIHN0cm9rZT0iI2MzYzNjMyIgc3Ryb2tlLWRhc2hhcnJheT0iNTAuMjY1NDgyNDU3NDM2NjkgNTAuMjY1NDgyNDU3NDM2NjkiIGZpbGw9Im5vbmUiIHN0cm9rZS1saW5lY2FwPSJyb3VuZCI+ICAgIDxhbmltYXRlVHJhbnNmb3JtIGF0dHJpYnV0ZU5hbWU9InRyYW5zZm9ybSIgdHlwZT0icm90YXRlIiByZXBlYXRDb3VudD0iaW5kZWZpbml0ZSIgZHVyPSIxcyIga2V5VGltZXM9IjA7MSIgdmFsdWVzPSIwIDUwIDUwOzM2MCA1MCA1MCI+PC9hbmltYXRlVHJhbnNmb3JtPiAgPC9jaXJjbGU+PC9zdmc+\\\");\\n      background-size: auto calc(min(50%, 400px));\\n    }\\n    \");\n",
       "    },    function(Bokeh) {\n",
       "      Bokeh.set_log_level(\"info\");\n",
       "    },\n",
       "function(Bokeh) {} // ensure no trailing comma for IE\n",
       "  ];\n",
       "\n",
       "  function run_inline_js() {\n",
       "    if ((root.Bokeh !== undefined) || (force === true)) {\n",
       "      for (var i = 0; i < inline_js.length; i++) {\n",
       "        inline_js[i].call(root, root.Bokeh);\n",
       "      }} else if (Date.now() < root._bokeh_timeout) {\n",
       "      setTimeout(run_inline_js, 100);\n",
       "    } else if (!root._bokeh_failed_load) {\n",
       "      console.log(\"Bokeh: BokehJS failed to load within specified timeout.\");\n",
       "      root._bokeh_failed_load = true;\n",
       "    }\n",
       "  }\n",
       "\n",
       "  if (root._bokeh_is_loading === 0) {\n",
       "    console.debug(\"Bokeh: BokehJS loaded, going straight to plotting\");\n",
       "    run_inline_js();\n",
       "  } else {\n",
       "    load_libs(css_urls, js_urls, js_modules, function() {\n",
       "      console.debug(\"Bokeh: BokehJS plotting callback run at\", now());\n",
       "      run_inline_js();\n",
       "    });\n",
       "  }\n",
       "}(window));"
      ],
      "application/vnd.holoviews_load.v0+json": "(function(root) {\n  function now() {\n    return new Date();\n  }\n\n  var force = true;\n\n  if (typeof root._bokeh_onload_callbacks === \"undefined\" || force === true) {\n    root._bokeh_onload_callbacks = [];\n    root._bokeh_is_loading = undefined;\n  }\n\n  if (typeof (root._bokeh_timeout) === \"undefined\" || force === true) {\n    root._bokeh_timeout = Date.now() + 5000;\n    root._bokeh_failed_load = false;\n  }\n\n  function run_callbacks() {\n    try {\n      root._bokeh_onload_callbacks.forEach(function(callback) {\n        if (callback != null)\n          callback();\n      });\n    } finally {\n      delete root._bokeh_onload_callbacks\n    }\n    console.debug(\"Bokeh: all callbacks have finished\");\n  }\n\n  function load_libs(css_urls, js_urls, js_modules, callback) {\n    if (css_urls == null) css_urls = [];\n    if (js_urls == null) js_urls = [];\n    if (js_modules == null) js_modules = [];\n\n    root._bokeh_onload_callbacks.push(callback);\n    if (root._bokeh_is_loading > 0) {\n      console.debug(\"Bokeh: BokehJS is being loaded, scheduling callback at\", now());\n      return null;\n    }\n    if (js_urls.length === 0 && js_modules.length === 0) {\n      run_callbacks();\n      return null;\n    }\n    console.debug(\"Bokeh: BokehJS not loaded, scheduling load and callback at\", now());\n\n    function on_load() {\n      root._bokeh_is_loading--;\n      if (root._bokeh_is_loading === 0) {\n        console.debug(\"Bokeh: all BokehJS libraries/stylesheets loaded\");\n        run_callbacks()\n      }\n    }\n\n    function on_error() {\n      console.error(\"failed to load \" + url);\n    }\n\n    for (var i = 0; i < css_urls.length; i++) {\n      var url = css_urls[i];\n      const element = document.createElement(\"link\");\n      element.onload = on_load;\n      element.onerror = on_error;\n      element.rel = \"stylesheet\";\n      element.type = \"text/css\";\n      element.href = url;\n      console.debug(\"Bokeh: injecting link tag for BokehJS stylesheet: \", url);\n      document.body.appendChild(element);\n    }\n\n    var skip = [];\n    if (window.requirejs) {\n      window.requirejs.config({'packages': {}, 'paths': {'gridstack': 'https://cdn.jsdelivr.net/npm/gridstack@4.2.5/dist/gridstack-h5', 'notyf': 'https://cdn.jsdelivr.net/npm/notyf@3/notyf.min'}, 'shim': {'gridstack': {'exports': 'GridStack'}}});\n      require([\"gridstack\"], function(GridStack) {\n\twindow.GridStack = GridStack\n\ton_load()\n      })\n      require([\"notyf\"], function() {\n\ton_load()\n      })\n      root._bokeh_is_loading = css_urls.length + 2;\n    } else {\n      root._bokeh_is_loading = css_urls.length + js_urls.length + js_modules.length;\n    }    if (((window['GridStack'] !== undefined) && (!(window['GridStack'] instanceof HTMLElement))) || window.requirejs) {\n      var urls = ['https://cdn.jsdelivr.net/npm/gridstack@4.2.5/dist/gridstack-h5.js'];\n      for (var i = 0; i < urls.length; i++) {\n        skip.push(urls[i])\n      }\n    }    if (((window['Notyf'] !== undefined) && (!(window['Notyf'] instanceof HTMLElement))) || window.requirejs) {\n      var urls = ['https://cdn.jsdelivr.net/npm/notyf@3/notyf.min.js'];\n      for (var i = 0; i < urls.length; i++) {\n        skip.push(urls[i])\n      }\n    }    for (var i = 0; i < js_urls.length; i++) {\n      var url = js_urls[i];\n      if (skip.indexOf(url) >= 0) {\n\tif (!window.requirejs) {\n\t  on_load();\n\t}\n\tcontinue;\n      }\n      var element = document.createElement('script');\n      element.onload = on_load;\n      element.onerror = on_error;\n      element.async = false;\n      element.src = url;\n      console.debug(\"Bokeh: injecting script tag for BokehJS library: \", url);\n      document.head.appendChild(element);\n    }\n    for (var i = 0; i < js_modules.length; i++) {\n      var url = js_modules[i];\n      if (skip.indexOf(url) >= 0) {\n\tif (!window.requirejs) {\n\t  on_load();\n\t}\n\tcontinue;\n      }\n      var element = document.createElement('script');\n      element.onload = on_load;\n      element.onerror = on_error;\n      element.async = false;\n      element.src = url;\n      element.type = \"module\";\n      console.debug(\"Bokeh: injecting script tag for BokehJS library: \", url);\n      document.head.appendChild(element);\n    }\n    if (!js_urls.length && !js_modules.length) {\n      on_load()\n    }\n  };\n\n  function inject_raw_css(css) {\n    const element = document.createElement(\"style\");\n    element.appendChild(document.createTextNode(css));\n    document.body.appendChild(element);\n  }\n\n  var js_urls = [\"https://cdn.bokeh.org/bokeh/release/bokeh-2.4.3.min.js\", \"https://cdn.bokeh.org/bokeh/release/bokeh-gl-2.4.3.min.js\", \"https://cdn.bokeh.org/bokeh/release/bokeh-widgets-2.4.3.min.js\", \"https://cdn.bokeh.org/bokeh/release/bokeh-tables-2.4.3.min.js\", \"https://cdn.bokeh.org/bokeh/release/bokeh-mathjax-2.4.3.min.js\", \"https://cdn.jsdelivr.net/npm/notyf@3/notyf.min.js\", \"https://unpkg.com/@holoviz/panel@0.13.1/dist/panel.min.js\"];\n  var js_modules = [];\n  var css_urls = [\"https://cdn.jsdelivr.net/npm/notyf@3/notyf.min.css\", \"https://cdnjs.cloudflare.com/ajax/libs/font-awesome/5.15.1/css/all.min.css\", \"https://unpkg.com/@holoviz/panel@0.13.1/dist/css/alerts.css\", \"https://unpkg.com/@holoviz/panel@0.13.1/dist/css/card.css\", \"https://unpkg.com/@holoviz/panel@0.13.1/dist/css/dataframe.css\", \"https://unpkg.com/@holoviz/panel@0.13.1/dist/css/debugger.css\", \"https://unpkg.com/@holoviz/panel@0.13.1/dist/css/json.css\", \"https://unpkg.com/@holoviz/panel@0.13.1/dist/css/loading.css\", \"https://unpkg.com/@holoviz/panel@0.13.1/dist/css/markdown.css\", \"https://unpkg.com/@holoviz/panel@0.13.1/dist/css/widgets.css\"];\n  var inline_js = [    function(Bokeh) {\n      inject_raw_css(\"\\n    .bk.pn-loading.arcs:before {\\n      background-image: url(\\\"data:image/svg+xml;base64,PHN2ZyB4bWxucz0iaHR0cDovL3d3dy53My5vcmcvMjAwMC9zdmciIHhtbG5zOnhsaW5rPSJodHRwOi8vd3d3LnczLm9yZy8xOTk5L3hsaW5rIiBzdHlsZT0ibWFyZ2luOiBhdXRvOyBiYWNrZ3JvdW5kOiBub25lOyBkaXNwbGF5OiBibG9jazsgc2hhcGUtcmVuZGVyaW5nOiBhdXRvOyIgdmlld0JveD0iMCAwIDEwMCAxMDAiIHByZXNlcnZlQXNwZWN0UmF0aW89InhNaWRZTWlkIj4gIDxjaXJjbGUgY3g9IjUwIiBjeT0iNTAiIHI9IjMyIiBzdHJva2Utd2lkdGg9IjgiIHN0cm9rZT0iI2MzYzNjMyIgc3Ryb2tlLWRhc2hhcnJheT0iNTAuMjY1NDgyNDU3NDM2NjkgNTAuMjY1NDgyNDU3NDM2NjkiIGZpbGw9Im5vbmUiIHN0cm9rZS1saW5lY2FwPSJyb3VuZCI+ICAgIDxhbmltYXRlVHJhbnNmb3JtIGF0dHJpYnV0ZU5hbWU9InRyYW5zZm9ybSIgdHlwZT0icm90YXRlIiByZXBlYXRDb3VudD0iaW5kZWZpbml0ZSIgZHVyPSIxcyIga2V5VGltZXM9IjA7MSIgdmFsdWVzPSIwIDUwIDUwOzM2MCA1MCA1MCI+PC9hbmltYXRlVHJhbnNmb3JtPiAgPC9jaXJjbGU+PC9zdmc+\\\");\\n      background-size: auto calc(min(50%, 400px));\\n    }\\n    \");\n    },    function(Bokeh) {\n      Bokeh.set_log_level(\"info\");\n    },\nfunction(Bokeh) {} // ensure no trailing comma for IE\n  ];\n\n  function run_inline_js() {\n    if ((root.Bokeh !== undefined) || (force === true)) {\n      for (var i = 0; i < inline_js.length; i++) {\n        inline_js[i].call(root, root.Bokeh);\n      }} else if (Date.now() < root._bokeh_timeout) {\n      setTimeout(run_inline_js, 100);\n    } else if (!root._bokeh_failed_load) {\n      console.log(\"Bokeh: BokehJS failed to load within specified timeout.\");\n      root._bokeh_failed_load = true;\n    }\n  }\n\n  if (root._bokeh_is_loading === 0) {\n    console.debug(\"Bokeh: BokehJS loaded, going straight to plotting\");\n    run_inline_js();\n  } else {\n    load_libs(css_urls, js_urls, js_modules, function() {\n      console.debug(\"Bokeh: BokehJS plotting callback run at\", now());\n      run_inline_js();\n    });\n  }\n}(window));"
     },
     "metadata": {},
     "output_type": "display_data"
    },
    {
     "data": {
      "application/javascript": [
       "\n",
       "if ((window.PyViz === undefined) || (window.PyViz instanceof HTMLElement)) {\n",
       "  window.PyViz = {comms: {}, comm_status:{}, kernels:{}, receivers: {}, plot_index: []}\n",
       "}\n",
       "\n",
       "\n",
       "    function JupyterCommManager() {\n",
       "    }\n",
       "\n",
       "    JupyterCommManager.prototype.register_target = function(plot_id, comm_id, msg_handler) {\n",
       "      if (window.comm_manager || ((window.Jupyter !== undefined) && (Jupyter.notebook.kernel != null))) {\n",
       "        var comm_manager = window.comm_manager || Jupyter.notebook.kernel.comm_manager;\n",
       "        comm_manager.register_target(comm_id, function(comm) {\n",
       "          comm.on_msg(msg_handler);\n",
       "        });\n",
       "      } else if ((plot_id in window.PyViz.kernels) && (window.PyViz.kernels[plot_id])) {\n",
       "        window.PyViz.kernels[plot_id].registerCommTarget(comm_id, function(comm) {\n",
       "          comm.onMsg = msg_handler;\n",
       "        });\n",
       "      } else if (typeof google != 'undefined' && google.colab.kernel != null) {\n",
       "        google.colab.kernel.comms.registerTarget(comm_id, (comm) => {\n",
       "          var messages = comm.messages[Symbol.asyncIterator]();\n",
       "          function processIteratorResult(result) {\n",
       "            var message = result.value;\n",
       "            console.log(message)\n",
       "            var content = {data: message.data, comm_id};\n",
       "            var buffers = []\n",
       "            for (var buffer of message.buffers || []) {\n",
       "              buffers.push(new DataView(buffer))\n",
       "            }\n",
       "            var metadata = message.metadata || {};\n",
       "            var msg = {content, buffers, metadata}\n",
       "            msg_handler(msg);\n",
       "            return messages.next().then(processIteratorResult);\n",
       "          }\n",
       "          return messages.next().then(processIteratorResult);\n",
       "        })\n",
       "      }\n",
       "    }\n",
       "\n",
       "    JupyterCommManager.prototype.get_client_comm = function(plot_id, comm_id, msg_handler) {\n",
       "      if (comm_id in window.PyViz.comms) {\n",
       "        return window.PyViz.comms[comm_id];\n",
       "      } else if (window.comm_manager || ((window.Jupyter !== undefined) && (Jupyter.notebook.kernel != null))) {\n",
       "        var comm_manager = window.comm_manager || Jupyter.notebook.kernel.comm_manager;\n",
       "        var comm = comm_manager.new_comm(comm_id, {}, {}, {}, comm_id);\n",
       "        if (msg_handler) {\n",
       "          comm.on_msg(msg_handler);\n",
       "        }\n",
       "      } else if ((plot_id in window.PyViz.kernels) && (window.PyViz.kernels[plot_id])) {\n",
       "        var comm = window.PyViz.kernels[plot_id].connectToComm(comm_id);\n",
       "        comm.open();\n",
       "        if (msg_handler) {\n",
       "          comm.onMsg = msg_handler;\n",
       "        }\n",
       "      } else if (typeof google != 'undefined' && google.colab.kernel != null) {\n",
       "        var comm_promise = google.colab.kernel.comms.open(comm_id)\n",
       "        comm_promise.then((comm) => {\n",
       "          window.PyViz.comms[comm_id] = comm;\n",
       "          if (msg_handler) {\n",
       "            var messages = comm.messages[Symbol.asyncIterator]();\n",
       "            function processIteratorResult(result) {\n",
       "              var message = result.value;\n",
       "              var content = {data: message.data};\n",
       "              var metadata = message.metadata || {comm_id};\n",
       "              var msg = {content, metadata}\n",
       "              msg_handler(msg);\n",
       "              return messages.next().then(processIteratorResult);\n",
       "            }\n",
       "            return messages.next().then(processIteratorResult);\n",
       "          }\n",
       "        }) \n",
       "        var sendClosure = (data, metadata, buffers, disposeOnDone) => {\n",
       "          return comm_promise.then((comm) => {\n",
       "            comm.send(data, metadata, buffers, disposeOnDone);\n",
       "          });\n",
       "        };\n",
       "        var comm = {\n",
       "          send: sendClosure\n",
       "        };\n",
       "      }\n",
       "      window.PyViz.comms[comm_id] = comm;\n",
       "      return comm;\n",
       "    }\n",
       "    window.PyViz.comm_manager = new JupyterCommManager();\n",
       "    \n",
       "\n",
       "\n",
       "var JS_MIME_TYPE = 'application/javascript';\n",
       "var HTML_MIME_TYPE = 'text/html';\n",
       "var EXEC_MIME_TYPE = 'application/vnd.holoviews_exec.v0+json';\n",
       "var CLASS_NAME = 'output';\n",
       "\n",
       "/**\n",
       " * Render data to the DOM node\n",
       " */\n",
       "function render(props, node) {\n",
       "  var div = document.createElement(\"div\");\n",
       "  var script = document.createElement(\"script\");\n",
       "  node.appendChild(div);\n",
       "  node.appendChild(script);\n",
       "}\n",
       "\n",
       "/**\n",
       " * Handle when a new output is added\n",
       " */\n",
       "function handle_add_output(event, handle) {\n",
       "  var output_area = handle.output_area;\n",
       "  var output = handle.output;\n",
       "  if ((output.data == undefined) || (!output.data.hasOwnProperty(EXEC_MIME_TYPE))) {\n",
       "    return\n",
       "  }\n",
       "  var id = output.metadata[EXEC_MIME_TYPE][\"id\"];\n",
       "  var toinsert = output_area.element.find(\".\" + CLASS_NAME.split(' ')[0]);\n",
       "  if (id !== undefined) {\n",
       "    var nchildren = toinsert.length;\n",
       "    var html_node = toinsert[nchildren-1].children[0];\n",
       "    html_node.innerHTML = output.data[HTML_MIME_TYPE];\n",
       "    var scripts = [];\n",
       "    var nodelist = html_node.querySelectorAll(\"script\");\n",
       "    for (var i in nodelist) {\n",
       "      if (nodelist.hasOwnProperty(i)) {\n",
       "        scripts.push(nodelist[i])\n",
       "      }\n",
       "    }\n",
       "\n",
       "    scripts.forEach( function (oldScript) {\n",
       "      var newScript = document.createElement(\"script\");\n",
       "      var attrs = [];\n",
       "      var nodemap = oldScript.attributes;\n",
       "      for (var j in nodemap) {\n",
       "        if (nodemap.hasOwnProperty(j)) {\n",
       "          attrs.push(nodemap[j])\n",
       "        }\n",
       "      }\n",
       "      attrs.forEach(function(attr) { newScript.setAttribute(attr.name, attr.value) });\n",
       "      newScript.appendChild(document.createTextNode(oldScript.innerHTML));\n",
       "      oldScript.parentNode.replaceChild(newScript, oldScript);\n",
       "    });\n",
       "    if (JS_MIME_TYPE in output.data) {\n",
       "      toinsert[nchildren-1].children[1].textContent = output.data[JS_MIME_TYPE];\n",
       "    }\n",
       "    output_area._hv_plot_id = id;\n",
       "    if ((window.Bokeh !== undefined) && (id in Bokeh.index)) {\n",
       "      window.PyViz.plot_index[id] = Bokeh.index[id];\n",
       "    } else {\n",
       "      window.PyViz.plot_index[id] = null;\n",
       "    }\n",
       "  } else if (output.metadata[EXEC_MIME_TYPE][\"server_id\"] !== undefined) {\n",
       "    var bk_div = document.createElement(\"div\");\n",
       "    bk_div.innerHTML = output.data[HTML_MIME_TYPE];\n",
       "    var script_attrs = bk_div.children[0].attributes;\n",
       "    for (var i = 0; i < script_attrs.length; i++) {\n",
       "      toinsert[toinsert.length - 1].childNodes[1].setAttribute(script_attrs[i].name, script_attrs[i].value);\n",
       "    }\n",
       "    // store reference to server id on output_area\n",
       "    output_area._bokeh_server_id = output.metadata[EXEC_MIME_TYPE][\"server_id\"];\n",
       "  }\n",
       "}\n",
       "\n",
       "/**\n",
       " * Handle when an output is cleared or removed\n",
       " */\n",
       "function handle_clear_output(event, handle) {\n",
       "  var id = handle.cell.output_area._hv_plot_id;\n",
       "  var server_id = handle.cell.output_area._bokeh_server_id;\n",
       "  if (((id === undefined) || !(id in PyViz.plot_index)) && (server_id !== undefined)) { return; }\n",
       "  var comm = window.PyViz.comm_manager.get_client_comm(\"hv-extension-comm\", \"hv-extension-comm\", function () {});\n",
       "  if (server_id !== null) {\n",
       "    comm.send({event_type: 'server_delete', 'id': server_id});\n",
       "    return;\n",
       "  } else if (comm !== null) {\n",
       "    comm.send({event_type: 'delete', 'id': id});\n",
       "  }\n",
       "  delete PyViz.plot_index[id];\n",
       "  if ((window.Bokeh !== undefined) & (id in window.Bokeh.index)) {\n",
       "    var doc = window.Bokeh.index[id].model.document\n",
       "    doc.clear();\n",
       "    const i = window.Bokeh.documents.indexOf(doc);\n",
       "    if (i > -1) {\n",
       "      window.Bokeh.documents.splice(i, 1);\n",
       "    }\n",
       "  }\n",
       "}\n",
       "\n",
       "/**\n",
       " * Handle kernel restart event\n",
       " */\n",
       "function handle_kernel_cleanup(event, handle) {\n",
       "  delete PyViz.comms[\"hv-extension-comm\"];\n",
       "  window.PyViz.plot_index = {}\n",
       "}\n",
       "\n",
       "/**\n",
       " * Handle update_display_data messages\n",
       " */\n",
       "function handle_update_output(event, handle) {\n",
       "  handle_clear_output(event, {cell: {output_area: handle.output_area}})\n",
       "  handle_add_output(event, handle)\n",
       "}\n",
       "\n",
       "function register_renderer(events, OutputArea) {\n",
       "  function append_mime(data, metadata, element) {\n",
       "    // create a DOM node to render to\n",
       "    var toinsert = this.create_output_subarea(\n",
       "    metadata,\n",
       "    CLASS_NAME,\n",
       "    EXEC_MIME_TYPE\n",
       "    );\n",
       "    this.keyboard_manager.register_events(toinsert);\n",
       "    // Render to node\n",
       "    var props = {data: data, metadata: metadata[EXEC_MIME_TYPE]};\n",
       "    render(props, toinsert[0]);\n",
       "    element.append(toinsert);\n",
       "    return toinsert\n",
       "  }\n",
       "\n",
       "  events.on('output_added.OutputArea', handle_add_output);\n",
       "  events.on('output_updated.OutputArea', handle_update_output);\n",
       "  events.on('clear_output.CodeCell', handle_clear_output);\n",
       "  events.on('delete.Cell', handle_clear_output);\n",
       "  events.on('kernel_ready.Kernel', handle_kernel_cleanup);\n",
       "\n",
       "  OutputArea.prototype.register_mime_type(EXEC_MIME_TYPE, append_mime, {\n",
       "    safe: true,\n",
       "    index: 0\n",
       "  });\n",
       "}\n",
       "\n",
       "if (window.Jupyter !== undefined) {\n",
       "  try {\n",
       "    var events = require('base/js/events');\n",
       "    var OutputArea = require('notebook/js/outputarea').OutputArea;\n",
       "    if (OutputArea.prototype.mime_types().indexOf(EXEC_MIME_TYPE) == -1) {\n",
       "      register_renderer(events, OutputArea);\n",
       "    }\n",
       "  } catch(err) {\n",
       "  }\n",
       "}\n"
      ],
      "application/vnd.holoviews_load.v0+json": "\nif ((window.PyViz === undefined) || (window.PyViz instanceof HTMLElement)) {\n  window.PyViz = {comms: {}, comm_status:{}, kernels:{}, receivers: {}, plot_index: []}\n}\n\n\n    function JupyterCommManager() {\n    }\n\n    JupyterCommManager.prototype.register_target = function(plot_id, comm_id, msg_handler) {\n      if (window.comm_manager || ((window.Jupyter !== undefined) && (Jupyter.notebook.kernel != null))) {\n        var comm_manager = window.comm_manager || Jupyter.notebook.kernel.comm_manager;\n        comm_manager.register_target(comm_id, function(comm) {\n          comm.on_msg(msg_handler);\n        });\n      } else if ((plot_id in window.PyViz.kernels) && (window.PyViz.kernels[plot_id])) {\n        window.PyViz.kernels[plot_id].registerCommTarget(comm_id, function(comm) {\n          comm.onMsg = msg_handler;\n        });\n      } else if (typeof google != 'undefined' && google.colab.kernel != null) {\n        google.colab.kernel.comms.registerTarget(comm_id, (comm) => {\n          var messages = comm.messages[Symbol.asyncIterator]();\n          function processIteratorResult(result) {\n            var message = result.value;\n            console.log(message)\n            var content = {data: message.data, comm_id};\n            var buffers = []\n            for (var buffer of message.buffers || []) {\n              buffers.push(new DataView(buffer))\n            }\n            var metadata = message.metadata || {};\n            var msg = {content, buffers, metadata}\n            msg_handler(msg);\n            return messages.next().then(processIteratorResult);\n          }\n          return messages.next().then(processIteratorResult);\n        })\n      }\n    }\n\n    JupyterCommManager.prototype.get_client_comm = function(plot_id, comm_id, msg_handler) {\n      if (comm_id in window.PyViz.comms) {\n        return window.PyViz.comms[comm_id];\n      } else if (window.comm_manager || ((window.Jupyter !== undefined) && (Jupyter.notebook.kernel != null))) {\n        var comm_manager = window.comm_manager || Jupyter.notebook.kernel.comm_manager;\n        var comm = comm_manager.new_comm(comm_id, {}, {}, {}, comm_id);\n        if (msg_handler) {\n          comm.on_msg(msg_handler);\n        }\n      } else if ((plot_id in window.PyViz.kernels) && (window.PyViz.kernels[plot_id])) {\n        var comm = window.PyViz.kernels[plot_id].connectToComm(comm_id);\n        comm.open();\n        if (msg_handler) {\n          comm.onMsg = msg_handler;\n        }\n      } else if (typeof google != 'undefined' && google.colab.kernel != null) {\n        var comm_promise = google.colab.kernel.comms.open(comm_id)\n        comm_promise.then((comm) => {\n          window.PyViz.comms[comm_id] = comm;\n          if (msg_handler) {\n            var messages = comm.messages[Symbol.asyncIterator]();\n            function processIteratorResult(result) {\n              var message = result.value;\n              var content = {data: message.data};\n              var metadata = message.metadata || {comm_id};\n              var msg = {content, metadata}\n              msg_handler(msg);\n              return messages.next().then(processIteratorResult);\n            }\n            return messages.next().then(processIteratorResult);\n          }\n        }) \n        var sendClosure = (data, metadata, buffers, disposeOnDone) => {\n          return comm_promise.then((comm) => {\n            comm.send(data, metadata, buffers, disposeOnDone);\n          });\n        };\n        var comm = {\n          send: sendClosure\n        };\n      }\n      window.PyViz.comms[comm_id] = comm;\n      return comm;\n    }\n    window.PyViz.comm_manager = new JupyterCommManager();\n    \n\n\nvar JS_MIME_TYPE = 'application/javascript';\nvar HTML_MIME_TYPE = 'text/html';\nvar EXEC_MIME_TYPE = 'application/vnd.holoviews_exec.v0+json';\nvar CLASS_NAME = 'output';\n\n/**\n * Render data to the DOM node\n */\nfunction render(props, node) {\n  var div = document.createElement(\"div\");\n  var script = document.createElement(\"script\");\n  node.appendChild(div);\n  node.appendChild(script);\n}\n\n/**\n * Handle when a new output is added\n */\nfunction handle_add_output(event, handle) {\n  var output_area = handle.output_area;\n  var output = handle.output;\n  if ((output.data == undefined) || (!output.data.hasOwnProperty(EXEC_MIME_TYPE))) {\n    return\n  }\n  var id = output.metadata[EXEC_MIME_TYPE][\"id\"];\n  var toinsert = output_area.element.find(\".\" + CLASS_NAME.split(' ')[0]);\n  if (id !== undefined) {\n    var nchildren = toinsert.length;\n    var html_node = toinsert[nchildren-1].children[0];\n    html_node.innerHTML = output.data[HTML_MIME_TYPE];\n    var scripts = [];\n    var nodelist = html_node.querySelectorAll(\"script\");\n    for (var i in nodelist) {\n      if (nodelist.hasOwnProperty(i)) {\n        scripts.push(nodelist[i])\n      }\n    }\n\n    scripts.forEach( function (oldScript) {\n      var newScript = document.createElement(\"script\");\n      var attrs = [];\n      var nodemap = oldScript.attributes;\n      for (var j in nodemap) {\n        if (nodemap.hasOwnProperty(j)) {\n          attrs.push(nodemap[j])\n        }\n      }\n      attrs.forEach(function(attr) { newScript.setAttribute(attr.name, attr.value) });\n      newScript.appendChild(document.createTextNode(oldScript.innerHTML));\n      oldScript.parentNode.replaceChild(newScript, oldScript);\n    });\n    if (JS_MIME_TYPE in output.data) {\n      toinsert[nchildren-1].children[1].textContent = output.data[JS_MIME_TYPE];\n    }\n    output_area._hv_plot_id = id;\n    if ((window.Bokeh !== undefined) && (id in Bokeh.index)) {\n      window.PyViz.plot_index[id] = Bokeh.index[id];\n    } else {\n      window.PyViz.plot_index[id] = null;\n    }\n  } else if (output.metadata[EXEC_MIME_TYPE][\"server_id\"] !== undefined) {\n    var bk_div = document.createElement(\"div\");\n    bk_div.innerHTML = output.data[HTML_MIME_TYPE];\n    var script_attrs = bk_div.children[0].attributes;\n    for (var i = 0; i < script_attrs.length; i++) {\n      toinsert[toinsert.length - 1].childNodes[1].setAttribute(script_attrs[i].name, script_attrs[i].value);\n    }\n    // store reference to server id on output_area\n    output_area._bokeh_server_id = output.metadata[EXEC_MIME_TYPE][\"server_id\"];\n  }\n}\n\n/**\n * Handle when an output is cleared or removed\n */\nfunction handle_clear_output(event, handle) {\n  var id = handle.cell.output_area._hv_plot_id;\n  var server_id = handle.cell.output_area._bokeh_server_id;\n  if (((id === undefined) || !(id in PyViz.plot_index)) && (server_id !== undefined)) { return; }\n  var comm = window.PyViz.comm_manager.get_client_comm(\"hv-extension-comm\", \"hv-extension-comm\", function () {});\n  if (server_id !== null) {\n    comm.send({event_type: 'server_delete', 'id': server_id});\n    return;\n  } else if (comm !== null) {\n    comm.send({event_type: 'delete', 'id': id});\n  }\n  delete PyViz.plot_index[id];\n  if ((window.Bokeh !== undefined) & (id in window.Bokeh.index)) {\n    var doc = window.Bokeh.index[id].model.document\n    doc.clear();\n    const i = window.Bokeh.documents.indexOf(doc);\n    if (i > -1) {\n      window.Bokeh.documents.splice(i, 1);\n    }\n  }\n}\n\n/**\n * Handle kernel restart event\n */\nfunction handle_kernel_cleanup(event, handle) {\n  delete PyViz.comms[\"hv-extension-comm\"];\n  window.PyViz.plot_index = {}\n}\n\n/**\n * Handle update_display_data messages\n */\nfunction handle_update_output(event, handle) {\n  handle_clear_output(event, {cell: {output_area: handle.output_area}})\n  handle_add_output(event, handle)\n}\n\nfunction register_renderer(events, OutputArea) {\n  function append_mime(data, metadata, element) {\n    // create a DOM node to render to\n    var toinsert = this.create_output_subarea(\n    metadata,\n    CLASS_NAME,\n    EXEC_MIME_TYPE\n    );\n    this.keyboard_manager.register_events(toinsert);\n    // Render to node\n    var props = {data: data, metadata: metadata[EXEC_MIME_TYPE]};\n    render(props, toinsert[0]);\n    element.append(toinsert);\n    return toinsert\n  }\n\n  events.on('output_added.OutputArea', handle_add_output);\n  events.on('output_updated.OutputArea', handle_update_output);\n  events.on('clear_output.CodeCell', handle_clear_output);\n  events.on('delete.Cell', handle_clear_output);\n  events.on('kernel_ready.Kernel', handle_kernel_cleanup);\n\n  OutputArea.prototype.register_mime_type(EXEC_MIME_TYPE, append_mime, {\n    safe: true,\n    index: 0\n  });\n}\n\nif (window.Jupyter !== undefined) {\n  try {\n    var events = require('base/js/events');\n    var OutputArea = require('notebook/js/outputarea').OutputArea;\n    if (OutputArea.prototype.mime_types().indexOf(EXEC_MIME_TYPE) == -1) {\n      register_renderer(events, OutputArea);\n    }\n  } catch(err) {\n  }\n}\n"
     },
     "metadata": {},
     "output_type": "display_data"
    },
    {
     "data": {
      "text/html": [
       "<style>.bk-root, .bk-root .bk:before, .bk-root .bk:after {\n",
       "  font-family: var(--jp-ui-font-size1);\n",
       "  font-size: var(--jp-ui-font-size1);\n",
       "  color: var(--jp-ui-font-color1);\n",
       "}\n",
       "</style>"
      ]
     },
     "metadata": {},
     "output_type": "display_data"
    }
   ],
   "source": [
    "pn.extension()"
   ]
  },
  {
   "cell_type": "code",
   "execution_count": 26,
   "id": "a0da65b5",
   "metadata": {},
   "outputs": [
    {
     "data": {
      "text/plain": [
       "Index(['intercolumnar distance', 'upper margin', 'lower margin',\n",
       "       'exploitation', 'row number', 'modular ratio', 'interlinear spacing',\n",
       "       'weight', 'peak number', 'modular ratio / interlinear spacing',\n",
       "       'class'],\n",
       "      dtype='object')"
      ]
     },
     "execution_count": 26,
     "metadata": {},
     "output_type": "execute_result"
    }
   ],
   "source": [
    "avila.columns"
   ]
  },
  {
   "cell_type": "code",
   "execution_count": 27,
   "id": "c6792762",
   "metadata": {},
   "outputs": [
    {
     "data": {},
     "metadata": {},
     "output_type": "display_data"
    },
    {
     "data": {
      "application/vnd.holoviews_exec.v0+json": "",
      "text/html": [
       "<div id='1002'>\n",
       "  <div class=\"bk-root\" id=\"fb372e52-ea7c-420b-a49d-9a56c32acec1\" data-root-id=\"1002\"></div>\n",
       "</div>\n",
       "<script type=\"application/javascript\">(function(root) {\n",
       "  function embed_document(root) {\n",
       "    var docs_json = {\"6161fe21-aa8b-4b5d-b0b8-50f349ed003b\":{\"defs\":[{\"extends\":null,\"module\":null,\"name\":\"ReactiveHTML1\",\"overrides\":[],\"properties\":[]},{\"extends\":null,\"module\":null,\"name\":\"FlexBox1\",\"overrides\":[],\"properties\":[{\"default\":\"flex-start\",\"kind\":null,\"name\":\"align_content\"},{\"default\":\"flex-start\",\"kind\":null,\"name\":\"align_items\"},{\"default\":\"row\",\"kind\":null,\"name\":\"flex_direction\"},{\"default\":\"wrap\",\"kind\":null,\"name\":\"flex_wrap\"},{\"default\":\"flex-start\",\"kind\":null,\"name\":\"justify_content\"}]},{\"extends\":null,\"module\":null,\"name\":\"GridStack1\",\"overrides\":[],\"properties\":[{\"default\":\"warn\",\"kind\":null,\"name\":\"mode\"},{\"default\":null,\"kind\":null,\"name\":\"ncols\"},{\"default\":null,\"kind\":null,\"name\":\"nrows\"},{\"default\":true,\"kind\":null,\"name\":\"allow_resize\"},{\"default\":true,\"kind\":null,\"name\":\"allow_drag\"},{\"default\":[],\"kind\":null,\"name\":\"state\"}]},{\"extends\":null,\"module\":null,\"name\":\"click1\",\"overrides\":[],\"properties\":[{\"default\":\"\",\"kind\":null,\"name\":\"terminal_output\"},{\"default\":\"\",\"kind\":null,\"name\":\"debug_name\"},{\"default\":0,\"kind\":null,\"name\":\"clears\"}]},{\"extends\":null,\"module\":null,\"name\":\"NotificationAreaBase1\",\"overrides\":[],\"properties\":[{\"default\":\"bottom-right\",\"kind\":null,\"name\":\"position\"},{\"default\":0,\"kind\":null,\"name\":\"_clear\"}]},{\"extends\":null,\"module\":null,\"name\":\"NotificationArea1\",\"overrides\":[],\"properties\":[{\"default\":[],\"kind\":null,\"name\":\"notifications\"},{\"default\":\"bottom-right\",\"kind\":null,\"name\":\"position\"},{\"default\":0,\"kind\":null,\"name\":\"_clear\"},{\"default\":[{\"background\":\"#ffc107\",\"icon\":{\"className\":\"fas fa-exclamation-triangle\",\"color\":\"white\",\"tagName\":\"i\"},\"type\":\"warning\"},{\"background\":\"#007bff\",\"icon\":{\"className\":\"fas fa-info-circle\",\"color\":\"white\",\"tagName\":\"i\"},\"type\":\"info\"}],\"kind\":null,\"name\":\"types\"}]},{\"extends\":null,\"module\":null,\"name\":\"Notification\",\"overrides\":[],\"properties\":[{\"default\":null,\"kind\":null,\"name\":\"background\"},{\"default\":3000,\"kind\":null,\"name\":\"duration\"},{\"default\":null,\"kind\":null,\"name\":\"icon\"},{\"default\":\"\",\"kind\":null,\"name\":\"message\"},{\"default\":null,\"kind\":null,\"name\":\"notification_type\"},{\"default\":false,\"kind\":null,\"name\":\"_destroyed\"}]},{\"extends\":null,\"module\":null,\"name\":\"TemplateActions1\",\"overrides\":[],\"properties\":[{\"default\":0,\"kind\":null,\"name\":\"open_modal\"},{\"default\":0,\"kind\":null,\"name\":\"close_modal\"}]},{\"extends\":null,\"module\":null,\"name\":\"MaterialTemplateActions1\",\"overrides\":[],\"properties\":[{\"default\":0,\"kind\":null,\"name\":\"open_modal\"},{\"default\":0,\"kind\":null,\"name\":\"close_modal\"}]}],\"roots\":{\"references\":[{\"attributes\":{\"margin\":[5,10,5,10],\"options\":[\"intercolumnar distance\",\"upper margin\",\"lower margin\",\"exploitation\",\"row number\",\"modular ratio\",\"interlinear spacing\",\"weight\",\"peak number\",\"modular ratio / interlinear spacing\"],\"title\":\"x\",\"value\":\"intercolumnar distance\"},\"id\":\"1002\",\"type\":\"panel.models.widgets.CustomSelect\"},{\"attributes\":{\"client_comm_id\":\"639336ae8ab549c2bc8228deaf869b3f\",\"comm_id\":\"23a2d9c6831f4b348881f05f157e0a97\",\"plot_id\":\"1002\"},\"id\":\"1003\",\"type\":\"panel.models.comm_manager.CommManager\"},{\"attributes\":{\"reload\":false},\"id\":\"1004\",\"type\":\"panel.models.location.Location\"}],\"root_ids\":[\"1002\",\"1003\",\"1004\"]},\"title\":\"Bokeh Application\",\"version\":\"2.4.3\"}};\n",
       "    var render_items = [{\"docid\":\"6161fe21-aa8b-4b5d-b0b8-50f349ed003b\",\"root_ids\":[\"1002\"],\"roots\":{\"1002\":\"fb372e52-ea7c-420b-a49d-9a56c32acec1\"}}];\n",
       "    root.Bokeh.embed.embed_items_notebook(docs_json, render_items);\n",
       "  }\n",
       "  if (root.Bokeh !== undefined && root.Bokeh.Panel !== undefined) {\n",
       "    embed_document(root);\n",
       "  } else {\n",
       "    var attempts = 0;\n",
       "    var timer = setInterval(function(root) {\n",
       "      if (root.Bokeh !== undefined && root.Bokeh.Panel !== undefined) {\n",
       "        clearInterval(timer);\n",
       "        embed_document(root);\n",
       "      } else if (document.readyState == \"complete\") {\n",
       "        attempts++;\n",
       "        if (attempts > 200) {\n",
       "          clearInterval(timer);\n",
       "          console.log(\"Bokeh: ERROR: Unable to run BokehJS code because BokehJS library is missing\");\n",
       "        }\n",
       "      }\n",
       "    }, 25, root)\n",
       "  }\n",
       "})(window);</script>"
      ],
      "text/plain": [
       "Select(name='x', options=['intercolumnar distance',...], value='intercolumnar distance')"
      ]
     },
     "execution_count": 27,
     "metadata": {
      "application/vnd.holoviews_exec.v0+json": {
       "id": "1002"
      }
     },
     "output_type": "execute_result"
    }
   ],
   "source": [
    "x = pn.widgets.Select(name='x', options=list(avila.drop('class', axis=1).columns), value='intercolumnar distance')\n",
    "x"
   ]
  },
  {
   "cell_type": "code",
   "execution_count": 28,
   "id": "d8180e3f",
   "metadata": {},
   "outputs": [
    {
     "data": {},
     "metadata": {},
     "output_type": "display_data"
    },
    {
     "data": {
      "application/vnd.holoviews_exec.v0+json": "",
      "text/html": [
       "<div id='1005'>\n",
       "  <div class=\"bk-root\" id=\"42437d74-869e-4e0b-ac6a-33f9d33c7858\" data-root-id=\"1005\"></div>\n",
       "</div>\n",
       "<script type=\"application/javascript\">(function(root) {\n",
       "  function embed_document(root) {\n",
       "    var docs_json = {\"4d219e6d-e9bb-407f-940d-f7938f0b092b\":{\"defs\":[{\"extends\":null,\"module\":null,\"name\":\"ReactiveHTML1\",\"overrides\":[],\"properties\":[]},{\"extends\":null,\"module\":null,\"name\":\"FlexBox1\",\"overrides\":[],\"properties\":[{\"default\":\"flex-start\",\"kind\":null,\"name\":\"align_content\"},{\"default\":\"flex-start\",\"kind\":null,\"name\":\"align_items\"},{\"default\":\"row\",\"kind\":null,\"name\":\"flex_direction\"},{\"default\":\"wrap\",\"kind\":null,\"name\":\"flex_wrap\"},{\"default\":\"flex-start\",\"kind\":null,\"name\":\"justify_content\"}]},{\"extends\":null,\"module\":null,\"name\":\"GridStack1\",\"overrides\":[],\"properties\":[{\"default\":\"warn\",\"kind\":null,\"name\":\"mode\"},{\"default\":null,\"kind\":null,\"name\":\"ncols\"},{\"default\":null,\"kind\":null,\"name\":\"nrows\"},{\"default\":true,\"kind\":null,\"name\":\"allow_resize\"},{\"default\":true,\"kind\":null,\"name\":\"allow_drag\"},{\"default\":[],\"kind\":null,\"name\":\"state\"}]},{\"extends\":null,\"module\":null,\"name\":\"click1\",\"overrides\":[],\"properties\":[{\"default\":\"\",\"kind\":null,\"name\":\"terminal_output\"},{\"default\":\"\",\"kind\":null,\"name\":\"debug_name\"},{\"default\":0,\"kind\":null,\"name\":\"clears\"}]},{\"extends\":null,\"module\":null,\"name\":\"NotificationAreaBase1\",\"overrides\":[],\"properties\":[{\"default\":\"bottom-right\",\"kind\":null,\"name\":\"position\"},{\"default\":0,\"kind\":null,\"name\":\"_clear\"}]},{\"extends\":null,\"module\":null,\"name\":\"NotificationArea1\",\"overrides\":[],\"properties\":[{\"default\":[],\"kind\":null,\"name\":\"notifications\"},{\"default\":\"bottom-right\",\"kind\":null,\"name\":\"position\"},{\"default\":0,\"kind\":null,\"name\":\"_clear\"},{\"default\":[{\"background\":\"#ffc107\",\"icon\":{\"className\":\"fas fa-exclamation-triangle\",\"color\":\"white\",\"tagName\":\"i\"},\"type\":\"warning\"},{\"background\":\"#007bff\",\"icon\":{\"className\":\"fas fa-info-circle\",\"color\":\"white\",\"tagName\":\"i\"},\"type\":\"info\"}],\"kind\":null,\"name\":\"types\"}]},{\"extends\":null,\"module\":null,\"name\":\"Notification\",\"overrides\":[],\"properties\":[{\"default\":null,\"kind\":null,\"name\":\"background\"},{\"default\":3000,\"kind\":null,\"name\":\"duration\"},{\"default\":null,\"kind\":null,\"name\":\"icon\"},{\"default\":\"\",\"kind\":null,\"name\":\"message\"},{\"default\":null,\"kind\":null,\"name\":\"notification_type\"},{\"default\":false,\"kind\":null,\"name\":\"_destroyed\"}]},{\"extends\":null,\"module\":null,\"name\":\"TemplateActions1\",\"overrides\":[],\"properties\":[{\"default\":0,\"kind\":null,\"name\":\"open_modal\"},{\"default\":0,\"kind\":null,\"name\":\"close_modal\"}]},{\"extends\":null,\"module\":null,\"name\":\"MaterialTemplateActions1\",\"overrides\":[],\"properties\":[{\"default\":0,\"kind\":null,\"name\":\"open_modal\"},{\"default\":0,\"kind\":null,\"name\":\"close_modal\"}]}],\"roots\":{\"references\":[{\"attributes\":{\"margin\":[5,10,5,10],\"options\":[\"intercolumnar distance\",\"upper margin\",\"lower margin\",\"exploitation\",\"row number\",\"modular ratio\",\"interlinear spacing\",\"weight\",\"peak number\",\"modular ratio / interlinear spacing\"],\"title\":\"y\",\"value\":\"peak number\"},\"id\":\"1005\",\"type\":\"panel.models.widgets.CustomSelect\"},{\"attributes\":{\"client_comm_id\":\"7f1753ab856043c88ce9b6099977221a\",\"comm_id\":\"86438d62dd8e40adbb533cf193e53347\",\"plot_id\":\"1005\"},\"id\":\"1006\",\"type\":\"panel.models.comm_manager.CommManager\"}],\"root_ids\":[\"1005\",\"1006\"]},\"title\":\"Bokeh Application\",\"version\":\"2.4.3\"}};\n",
       "    var render_items = [{\"docid\":\"4d219e6d-e9bb-407f-940d-f7938f0b092b\",\"root_ids\":[\"1005\"],\"roots\":{\"1005\":\"42437d74-869e-4e0b-ac6a-33f9d33c7858\"}}];\n",
       "    root.Bokeh.embed.embed_items_notebook(docs_json, render_items);\n",
       "  }\n",
       "  if (root.Bokeh !== undefined && root.Bokeh.Panel !== undefined) {\n",
       "    embed_document(root);\n",
       "  } else {\n",
       "    var attempts = 0;\n",
       "    var timer = setInterval(function(root) {\n",
       "      if (root.Bokeh !== undefined && root.Bokeh.Panel !== undefined) {\n",
       "        clearInterval(timer);\n",
       "        embed_document(root);\n",
       "      } else if (document.readyState == \"complete\") {\n",
       "        attempts++;\n",
       "        if (attempts > 200) {\n",
       "          clearInterval(timer);\n",
       "          console.log(\"Bokeh: ERROR: Unable to run BokehJS code because BokehJS library is missing\");\n",
       "        }\n",
       "      }\n",
       "    }, 25, root)\n",
       "  }\n",
       "})(window);</script>"
      ],
      "text/plain": [
       "Select(name='y', options=['intercolumnar distance',...], value='peak number')"
      ]
     },
     "execution_count": 28,
     "metadata": {
      "application/vnd.holoviews_exec.v0+json": {
       "id": "1005"
      }
     },
     "output_type": "execute_result"
    }
   ],
   "source": [
    "y = pn.widgets.Select(name='y', options=list(avila.drop('class', axis=1).columns), value='peak number')\n",
    "y"
   ]
  },
  {
   "cell_type": "code",
   "execution_count": 29,
   "id": "778ef8b8",
   "metadata": {},
   "outputs": [],
   "source": [
    "def scatter(x, y):\n",
    "    fig = plt.figure(figsize=(8, 6))\n",
    "    ax = fig.subplots()\n",
    "    sns.scatterplot(data=avila, x=x, y=y, hue='class', ax=ax)\n",
    "    ax.set_title('Pair Plot of Features by Class')\n",
    "    plot = pn.pane.Matplotlib(fig, dpi=144, tight=True)\n",
    "    plt.close(fig) # Close the figure to avoid displaying it in the cell\n",
    "    return plot"
   ]
  },
  {
   "cell_type": "code",
   "execution_count": 30,
   "id": "e4056448",
   "metadata": {},
   "outputs": [],
   "source": [
    "interactive_plot = pn.bind(scatter, x, y)"
   ]
  },
  {
   "cell_type": "code",
   "execution_count": 31,
   "id": "445b43d3",
   "metadata": {},
   "outputs": [
    {
     "data": {},
     "metadata": {},
     "output_type": "display_data"
    },
    {
     "data": {
      "application/vnd.holoviews_exec.v0+json": "",
      "text/html": [
       "<div id='1007'>\n",
       "  <div class=\"bk-root\" id=\"abb002de-c975-43bf-affe-ed848d3fb6ae\" data-root-id=\"1007\"></div>\n",
       "</div>\n",
       "<script type=\"application/javascript\">(function(root) {\n",
       "  function embed_document(root) {\n",
       "    var docs_json = {\"4cd497bf-ba65-4f9f-b7f1-12bb018d059e\":{\"defs\":[{\"extends\":null,\"module\":null,\"name\":\"ReactiveHTML1\",\"overrides\":[],\"properties\":[]},{\"extends\":null,\"module\":null,\"name\":\"FlexBox1\",\"overrides\":[],\"properties\":[{\"default\":\"flex-start\",\"kind\":null,\"name\":\"align_content\"},{\"default\":\"flex-start\",\"kind\":null,\"name\":\"align_items\"},{\"default\":\"row\",\"kind\":null,\"name\":\"flex_direction\"},{\"default\":\"wrap\",\"kind\":null,\"name\":\"flex_wrap\"},{\"default\":\"flex-start\",\"kind\":null,\"name\":\"justify_content\"}]},{\"extends\":null,\"module\":null,\"name\":\"GridStack1\",\"overrides\":[],\"properties\":[{\"default\":\"warn\",\"kind\":null,\"name\":\"mode\"},{\"default\":null,\"kind\":null,\"name\":\"ncols\"},{\"default\":null,\"kind\":null,\"name\":\"nrows\"},{\"default\":true,\"kind\":null,\"name\":\"allow_resize\"},{\"default\":true,\"kind\":null,\"name\":\"allow_drag\"},{\"default\":[],\"kind\":null,\"name\":\"state\"}]},{\"extends\":null,\"module\":null,\"name\":\"click1\",\"overrides\":[],\"properties\":[{\"default\":\"\",\"kind\":null,\"name\":\"terminal_output\"},{\"default\":\"\",\"kind\":null,\"name\":\"debug_name\"},{\"default\":0,\"kind\":null,\"name\":\"clears\"}]},{\"extends\":null,\"module\":null,\"name\":\"NotificationAreaBase1\",\"overrides\":[],\"properties\":[{\"default\":\"bottom-right\",\"kind\":null,\"name\":\"position\"},{\"default\":0,\"kind\":null,\"name\":\"_clear\"}]},{\"extends\":null,\"module\":null,\"name\":\"NotificationArea1\",\"overrides\":[],\"properties\":[{\"default\":[],\"kind\":null,\"name\":\"notifications\"},{\"default\":\"bottom-right\",\"kind\":null,\"name\":\"position\"},{\"default\":0,\"kind\":null,\"name\":\"_clear\"},{\"default\":[{\"background\":\"#ffc107\",\"icon\":{\"className\":\"fas fa-exclamation-triangle\",\"color\":\"white\",\"tagName\":\"i\"},\"type\":\"warning\"},{\"background\":\"#007bff\",\"icon\":{\"className\":\"fas fa-info-circle\",\"color\":\"white\",\"tagName\":\"i\"},\"type\":\"info\"}],\"kind\":null,\"name\":\"types\"}]},{\"extends\":null,\"module\":null,\"name\":\"Notification\",\"overrides\":[],\"properties\":[{\"default\":null,\"kind\":null,\"name\":\"background\"},{\"default\":3000,\"kind\":null,\"name\":\"duration\"},{\"default\":null,\"kind\":null,\"name\":\"icon\"},{\"default\":\"\",\"kind\":null,\"name\":\"message\"},{\"default\":null,\"kind\":null,\"name\":\"notification_type\"},{\"default\":false,\"kind\":null,\"name\":\"_destroyed\"}]},{\"extends\":null,\"module\":null,\"name\":\"TemplateActions1\",\"overrides\":[],\"properties\":[{\"default\":0,\"kind\":null,\"name\":\"open_modal\"},{\"default\":0,\"kind\":null,\"name\":\"close_modal\"}]},{\"extends\":null,\"module\":null,\"name\":\"MaterialTemplateActions1\",\"overrides\":[],\"properties\":[{\"default\":0,\"kind\":null,\"name\":\"open_modal\"},{\"default\":0,\"kind\":null,\"name\":\"close_modal\"}]}],\"roots\":{\"references\":[{\"attributes\":{\"margin\":[5,10,5,10],\"options\":[\"intercolumnar distance\",\"upper margin\",\"lower margin\",\"exploitation\",\"row number\",\"modular ratio\",\"interlinear spacing\",\"weight\",\"peak number\",\"modular ratio / interlinear spacing\"],\"title\":\"y\",\"value\":\"peak number\"},\"id\":\"1011\",\"type\":\"panel.models.widgets.CustomSelect\"},{\"attributes\":{\"margin\":[5,10,5,10],\"options\":[\"intercolumnar distance\",\"upper margin\",\"lower margin\",\"exploitation\",\"row number\",\"modular ratio\",\"interlinear spacing\",\"weight\",\"peak number\",\"modular ratio / interlinear spacing\"],\"title\":\"x\",\"value\":\"intercolumnar distance\"},\"id\":\"1010\",\"type\":\"panel.models.widgets.CustomSelect\"},{\"attributes\":{\"children\":[{\"id\":\"1008\"},{\"id\":\"1012\"}],\"margin\":[0,0,0,0],\"name\":\"Column00119\"},\"id\":\"1007\",\"type\":\"Column\"},{\"attributes\":{\"client_comm_id\":\"a13be9a53f464ae1a4a784d6bc5791d9\",\"comm_id\":\"fd0ef222c60f4bcda50324573979a5bc\",\"plot_id\":\"1007\"},\"id\":\"1014\",\"type\":\"panel.models.comm_manager.CommManager\"},{\"attributes\":{\"children\":[{\"id\":\"1009\"}],\"css_classes\":[\"panel-widget-box\"],\"margin\":[5,5,5,5],\"name\":\"WidgetBox00109\"},\"id\":\"1008\",\"type\":\"Column\"},{\"attributes\":{\"children\":[{\"id\":\"1010\"},{\"id\":\"1011\"}],\"margin\":[0,0,0,0],\"name\":\"Column00108\"},\"id\":\"1009\",\"type\":\"Column\"},{\"attributes\":{\"height\":588,\"margin\":[5,5,5,5],\"name\":\"Matplotlib00115\",\"text\":\"&lt;img src=&quot;data:image/png;base64,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&quot; width=&quot;774px&quot; height=&quot;588px&quot; alt=&quot;&quot;&gt;&lt;/img&gt;\",\"width\":774},\"id\":\"1013\",\"type\":\"panel.models.markup.HTML\"},{\"attributes\":{\"children\":[{\"id\":\"1013\"}],\"margin\":[0,0,0,0],\"name\":\"Row00114\"},\"id\":\"1012\",\"type\":\"Row\"}],\"root_ids\":[\"1007\",\"1014\"]},\"title\":\"Bokeh Application\",\"version\":\"2.4.3\"}};\n",
       "    var render_items = [{\"docid\":\"4cd497bf-ba65-4f9f-b7f1-12bb018d059e\",\"root_ids\":[\"1007\"],\"roots\":{\"1007\":\"abb002de-c975-43bf-affe-ed848d3fb6ae\"}}];\n",
       "    root.Bokeh.embed.embed_items_notebook(docs_json, render_items);\n",
       "  }\n",
       "  if (root.Bokeh !== undefined && root.Bokeh.Panel !== undefined) {\n",
       "    embed_document(root);\n",
       "  } else {\n",
       "    var attempts = 0;\n",
       "    var timer = setInterval(function(root) {\n",
       "      if (root.Bokeh !== undefined && root.Bokeh.Panel !== undefined) {\n",
       "        clearInterval(timer);\n",
       "        embed_document(root);\n",
       "      } else if (document.readyState == \"complete\") {\n",
       "        attempts++;\n",
       "        if (attempts > 200) {\n",
       "          clearInterval(timer);\n",
       "          console.log(\"Bokeh: ERROR: Unable to run BokehJS code because BokehJS library is missing\");\n",
       "        }\n",
       "      }\n",
       "    }, 25, root)\n",
       "  }\n",
       "})(window);</script>"
      ],
      "text/plain": [
       "Column\n",
       "    [0] WidgetBox\n",
       "        [0] Column\n",
       "            [0] Select(name='x', options=['intercolumnar distance',...], value='intercolumnar distance')\n",
       "            [1] Select(name='y', options=['intercolumnar distance',...], value='peak number')\n",
       "    [1] ParamFunction(function)"
      ]
     },
     "execution_count": 31,
     "metadata": {
      "application/vnd.holoviews_exec.v0+json": {
       "id": "1007"
      }
     },
     "output_type": "execute_result"
    }
   ],
   "source": [
    "pairplot = pn.Column(pn.WidgetBox(pn.Column(x, y)),\n",
    "                     interactive_plot)\n",
    "pairplot"
   ]
  },
  {
   "cell_type": "markdown",
   "id": "66eb951a",
   "metadata": {},
   "source": [
    "***to comment***"
   ]
  },
  {
   "cell_type": "markdown",
   "id": "4b3a27a9",
   "metadata": {},
   "source": [
    "### 2.4 Median of features per class (w/ Panel)"
   ]
  },
  {
   "cell_type": "code",
   "execution_count": 121,
   "id": "56a0b64a",
   "metadata": {},
   "outputs": [
    {
     "data": {
      "application/javascript": [
       "(function(root) {\n",
       "  function now() {\n",
       "    return new Date();\n",
       "  }\n",
       "\n",
       "  var force = true;\n",
       "\n",
       "  if (typeof root._bokeh_onload_callbacks === \"undefined\" || force === true) {\n",
       "    root._bokeh_onload_callbacks = [];\n",
       "    root._bokeh_is_loading = undefined;\n",
       "  }\n",
       "\n",
       "  if (typeof (root._bokeh_timeout) === \"undefined\" || force === true) {\n",
       "    root._bokeh_timeout = Date.now() + 5000;\n",
       "    root._bokeh_failed_load = false;\n",
       "  }\n",
       "\n",
       "  function run_callbacks() {\n",
       "    try {\n",
       "      root._bokeh_onload_callbacks.forEach(function(callback) {\n",
       "        if (callback != null)\n",
       "          callback();\n",
       "      });\n",
       "    } finally {\n",
       "      delete root._bokeh_onload_callbacks\n",
       "    }\n",
       "    console.debug(\"Bokeh: all callbacks have finished\");\n",
       "  }\n",
       "\n",
       "  function load_libs(css_urls, js_urls, js_modules, callback) {\n",
       "    if (css_urls == null) css_urls = [];\n",
       "    if (js_urls == null) js_urls = [];\n",
       "    if (js_modules == null) js_modules = [];\n",
       "\n",
       "    root._bokeh_onload_callbacks.push(callback);\n",
       "    if (root._bokeh_is_loading > 0) {\n",
       "      console.debug(\"Bokeh: BokehJS is being loaded, scheduling callback at\", now());\n",
       "      return null;\n",
       "    }\n",
       "    if (js_urls.length === 0 && js_modules.length === 0) {\n",
       "      run_callbacks();\n",
       "      return null;\n",
       "    }\n",
       "    console.debug(\"Bokeh: BokehJS not loaded, scheduling load and callback at\", now());\n",
       "\n",
       "    function on_load() {\n",
       "      root._bokeh_is_loading--;\n",
       "      if (root._bokeh_is_loading === 0) {\n",
       "        console.debug(\"Bokeh: all BokehJS libraries/stylesheets loaded\");\n",
       "        run_callbacks()\n",
       "      }\n",
       "    }\n",
       "\n",
       "    function on_error() {\n",
       "      console.error(\"failed to load \" + url);\n",
       "    }\n",
       "\n",
       "    for (var i = 0; i < css_urls.length; i++) {\n",
       "      var url = css_urls[i];\n",
       "      const element = document.createElement(\"link\");\n",
       "      element.onload = on_load;\n",
       "      element.onerror = on_error;\n",
       "      element.rel = \"stylesheet\";\n",
       "      element.type = \"text/css\";\n",
       "      element.href = url;\n",
       "      console.debug(\"Bokeh: injecting link tag for BokehJS stylesheet: \", url);\n",
       "      document.body.appendChild(element);\n",
       "    }\n",
       "\n",
       "    var skip = [];\n",
       "    if (window.requirejs) {\n",
       "      window.requirejs.config({'packages': {}, 'paths': {'plotly': 'https://cdn.plot.ly/plotly-2.10.1.min', 'gridstack': 'https://cdn.jsdelivr.net/npm/gridstack@4.2.5/dist/gridstack-h5', 'notyf': 'https://cdn.jsdelivr.net/npm/notyf@3/notyf.min'}, 'shim': {'gridstack': {'exports': 'GridStack'}}});\n",
       "      require([\"plotly\"], function(Plotly) {\n",
       "\twindow.Plotly = Plotly\n",
       "\ton_load()\n",
       "      })\n",
       "      require([\"gridstack\"], function(GridStack) {\n",
       "\twindow.GridStack = GridStack\n",
       "\ton_load()\n",
       "      })\n",
       "      require([\"notyf\"], function() {\n",
       "\ton_load()\n",
       "      })\n",
       "      root._bokeh_is_loading = css_urls.length + 3;\n",
       "    } else {\n",
       "      root._bokeh_is_loading = css_urls.length + js_urls.length + js_modules.length;\n",
       "    }    if (((window['Plotly'] !== undefined) && (!(window['Plotly'] instanceof HTMLElement))) || window.requirejs) {\n",
       "      var urls = ['https://cdn.plot.ly/plotly-2.10.1.min.js'];\n",
       "      for (var i = 0; i < urls.length; i++) {\n",
       "        skip.push(urls[i])\n",
       "      }\n",
       "    }    if (((window['GridStack'] !== undefined) && (!(window['GridStack'] instanceof HTMLElement))) || window.requirejs) {\n",
       "      var urls = ['https://cdn.jsdelivr.net/npm/gridstack@4.2.5/dist/gridstack-h5.js'];\n",
       "      for (var i = 0; i < urls.length; i++) {\n",
       "        skip.push(urls[i])\n",
       "      }\n",
       "    }    if (((window['Notyf'] !== undefined) && (!(window['Notyf'] instanceof HTMLElement))) || window.requirejs) {\n",
       "      var urls = ['https://cdn.jsdelivr.net/npm/notyf@3/notyf.min.js'];\n",
       "      for (var i = 0; i < urls.length; i++) {\n",
       "        skip.push(urls[i])\n",
       "      }\n",
       "    }    for (var i = 0; i < js_urls.length; i++) {\n",
       "      var url = js_urls[i];\n",
       "      if (skip.indexOf(url) >= 0) {\n",
       "\tif (!window.requirejs) {\n",
       "\t  on_load();\n",
       "\t}\n",
       "\tcontinue;\n",
       "      }\n",
       "      var element = document.createElement('script');\n",
       "      element.onload = on_load;\n",
       "      element.onerror = on_error;\n",
       "      element.async = false;\n",
       "      element.src = url;\n",
       "      console.debug(\"Bokeh: injecting script tag for BokehJS library: \", url);\n",
       "      document.head.appendChild(element);\n",
       "    }\n",
       "    for (var i = 0; i < js_modules.length; i++) {\n",
       "      var url = js_modules[i];\n",
       "      if (skip.indexOf(url) >= 0) {\n",
       "\tif (!window.requirejs) {\n",
       "\t  on_load();\n",
       "\t}\n",
       "\tcontinue;\n",
       "      }\n",
       "      var element = document.createElement('script');\n",
       "      element.onload = on_load;\n",
       "      element.onerror = on_error;\n",
       "      element.async = false;\n",
       "      element.src = url;\n",
       "      element.type = \"module\";\n",
       "      console.debug(\"Bokeh: injecting script tag for BokehJS library: \", url);\n",
       "      document.head.appendChild(element);\n",
       "    }\n",
       "    if (!js_urls.length && !js_modules.length) {\n",
       "      on_load()\n",
       "    }\n",
       "  };\n",
       "\n",
       "  function inject_raw_css(css) {\n",
       "    const element = document.createElement(\"style\");\n",
       "    element.appendChild(document.createTextNode(css));\n",
       "    document.body.appendChild(element);\n",
       "  }\n",
       "\n",
       "  var js_urls = [\"https://cdn.jsdelivr.net/npm/jquery@3.5.1/dist/jquery.slim.min.js\", \"https://cdn.plot.ly/plotly-2.10.1.min.js\", \"https://cdn.bokeh.org/bokeh/release/bokeh-2.4.3.min.js\", \"https://cdn.bokeh.org/bokeh/release/bokeh-gl-2.4.3.min.js\", \"https://cdn.bokeh.org/bokeh/release/bokeh-widgets-2.4.3.min.js\", \"https://cdn.bokeh.org/bokeh/release/bokeh-tables-2.4.3.min.js\", \"https://cdn.bokeh.org/bokeh/release/bokeh-mathjax-2.4.3.min.js\", \"https://cdn.jsdelivr.net/npm/notyf@3/notyf.min.js\", \"https://unpkg.com/@holoviz/panel@0.13.1/dist/panel.min.js\"];\n",
       "  var js_modules = [];\n",
       "  var css_urls = [\"https://cdn.jsdelivr.net/npm/notyf@3/notyf.min.css\", \"https://cdnjs.cloudflare.com/ajax/libs/font-awesome/5.15.1/css/all.min.css\", \"https://unpkg.com/@holoviz/panel@0.13.1/dist/css/alerts.css\", \"https://unpkg.com/@holoviz/panel@0.13.1/dist/css/card.css\", \"https://unpkg.com/@holoviz/panel@0.13.1/dist/css/dataframe.css\", \"https://unpkg.com/@holoviz/panel@0.13.1/dist/css/debugger.css\", \"https://unpkg.com/@holoviz/panel@0.13.1/dist/css/json.css\", \"https://unpkg.com/@holoviz/panel@0.13.1/dist/css/loading.css\", \"https://unpkg.com/@holoviz/panel@0.13.1/dist/css/markdown.css\", \"https://unpkg.com/@holoviz/panel@0.13.1/dist/css/widgets.css\"];\n",
       "  var inline_js = [    function(Bokeh) {\n",
       "      inject_raw_css(\"\\n    .bk.pn-loading.arcs:before {\\n      background-image: url(\\\"data:image/svg+xml;base64,PHN2ZyB4bWxucz0iaHR0cDovL3d3dy53My5vcmcvMjAwMC9zdmciIHhtbG5zOnhsaW5rPSJodHRwOi8vd3d3LnczLm9yZy8xOTk5L3hsaW5rIiBzdHlsZT0ibWFyZ2luOiBhdXRvOyBiYWNrZ3JvdW5kOiBub25lOyBkaXNwbGF5OiBibG9jazsgc2hhcGUtcmVuZGVyaW5nOiBhdXRvOyIgdmlld0JveD0iMCAwIDEwMCAxMDAiIHByZXNlcnZlQXNwZWN0UmF0aW89InhNaWRZTWlkIj4gIDxjaXJjbGUgY3g9IjUwIiBjeT0iNTAiIHI9IjMyIiBzdHJva2Utd2lkdGg9IjgiIHN0cm9rZT0iI2MzYzNjMyIgc3Ryb2tlLWRhc2hhcnJheT0iNTAuMjY1NDgyNDU3NDM2NjkgNTAuMjY1NDgyNDU3NDM2NjkiIGZpbGw9Im5vbmUiIHN0cm9rZS1saW5lY2FwPSJyb3VuZCI+ICAgIDxhbmltYXRlVHJhbnNmb3JtIGF0dHJpYnV0ZU5hbWU9InRyYW5zZm9ybSIgdHlwZT0icm90YXRlIiByZXBlYXRDb3VudD0iaW5kZWZpbml0ZSIgZHVyPSIxcyIga2V5VGltZXM9IjA7MSIgdmFsdWVzPSIwIDUwIDUwOzM2MCA1MCA1MCI+PC9hbmltYXRlVHJhbnNmb3JtPiAgPC9jaXJjbGU+PC9zdmc+\\\");\\n      background-size: auto calc(min(50%, 400px));\\n    }\\n    \");\n",
       "    },    function(Bokeh) {\n",
       "      Bokeh.set_log_level(\"info\");\n",
       "    },\n",
       "function(Bokeh) {} // ensure no trailing comma for IE\n",
       "  ];\n",
       "\n",
       "  function run_inline_js() {\n",
       "    if ((root.Bokeh !== undefined) || (force === true)) {\n",
       "      for (var i = 0; i < inline_js.length; i++) {\n",
       "        inline_js[i].call(root, root.Bokeh);\n",
       "      }} else if (Date.now() < root._bokeh_timeout) {\n",
       "      setTimeout(run_inline_js, 100);\n",
       "    } else if (!root._bokeh_failed_load) {\n",
       "      console.log(\"Bokeh: BokehJS failed to load within specified timeout.\");\n",
       "      root._bokeh_failed_load = true;\n",
       "    }\n",
       "  }\n",
       "\n",
       "  if (root._bokeh_is_loading === 0) {\n",
       "    console.debug(\"Bokeh: BokehJS loaded, going straight to plotting\");\n",
       "    run_inline_js();\n",
       "  } else {\n",
       "    load_libs(css_urls, js_urls, js_modules, function() {\n",
       "      console.debug(\"Bokeh: BokehJS plotting callback run at\", now());\n",
       "      run_inline_js();\n",
       "    });\n",
       "  }\n",
       "}(window));"
      ],
      "application/vnd.holoviews_load.v0+json": "(function(root) {\n  function now() {\n    return new Date();\n  }\n\n  var force = true;\n\n  if (typeof root._bokeh_onload_callbacks === \"undefined\" || force === true) {\n    root._bokeh_onload_callbacks = [];\n    root._bokeh_is_loading = undefined;\n  }\n\n  if (typeof (root._bokeh_timeout) === \"undefined\" || force === true) {\n    root._bokeh_timeout = Date.now() + 5000;\n    root._bokeh_failed_load = false;\n  }\n\n  function run_callbacks() {\n    try {\n      root._bokeh_onload_callbacks.forEach(function(callback) {\n        if (callback != null)\n          callback();\n      });\n    } finally {\n      delete root._bokeh_onload_callbacks\n    }\n    console.debug(\"Bokeh: all callbacks have finished\");\n  }\n\n  function load_libs(css_urls, js_urls, js_modules, callback) {\n    if (css_urls == null) css_urls = [];\n    if (js_urls == null) js_urls = [];\n    if (js_modules == null) js_modules = [];\n\n    root._bokeh_onload_callbacks.push(callback);\n    if (root._bokeh_is_loading > 0) {\n      console.debug(\"Bokeh: BokehJS is being loaded, scheduling callback at\", now());\n      return null;\n    }\n    if (js_urls.length === 0 && js_modules.length === 0) {\n      run_callbacks();\n      return null;\n    }\n    console.debug(\"Bokeh: BokehJS not loaded, scheduling load and callback at\", now());\n\n    function on_load() {\n      root._bokeh_is_loading--;\n      if (root._bokeh_is_loading === 0) {\n        console.debug(\"Bokeh: all BokehJS libraries/stylesheets loaded\");\n        run_callbacks()\n      }\n    }\n\n    function on_error() {\n      console.error(\"failed to load \" + url);\n    }\n\n    for (var i = 0; i < css_urls.length; i++) {\n      var url = css_urls[i];\n      const element = document.createElement(\"link\");\n      element.onload = on_load;\n      element.onerror = on_error;\n      element.rel = \"stylesheet\";\n      element.type = \"text/css\";\n      element.href = url;\n      console.debug(\"Bokeh: injecting link tag for BokehJS stylesheet: \", url);\n      document.body.appendChild(element);\n    }\n\n    var skip = [];\n    if (window.requirejs) {\n      window.requirejs.config({'packages': {}, 'paths': {'plotly': 'https://cdn.plot.ly/plotly-2.10.1.min', 'gridstack': 'https://cdn.jsdelivr.net/npm/gridstack@4.2.5/dist/gridstack-h5', 'notyf': 'https://cdn.jsdelivr.net/npm/notyf@3/notyf.min'}, 'shim': {'gridstack': {'exports': 'GridStack'}}});\n      require([\"plotly\"], function(Plotly) {\n\twindow.Plotly = Plotly\n\ton_load()\n      })\n      require([\"gridstack\"], function(GridStack) {\n\twindow.GridStack = GridStack\n\ton_load()\n      })\n      require([\"notyf\"], function() {\n\ton_load()\n      })\n      root._bokeh_is_loading = css_urls.length + 3;\n    } else {\n      root._bokeh_is_loading = css_urls.length + js_urls.length + js_modules.length;\n    }    if (((window['Plotly'] !== undefined) && (!(window['Plotly'] instanceof HTMLElement))) || window.requirejs) {\n      var urls = ['https://cdn.plot.ly/plotly-2.10.1.min.js'];\n      for (var i = 0; i < urls.length; i++) {\n        skip.push(urls[i])\n      }\n    }    if (((window['GridStack'] !== undefined) && (!(window['GridStack'] instanceof HTMLElement))) || window.requirejs) {\n      var urls = ['https://cdn.jsdelivr.net/npm/gridstack@4.2.5/dist/gridstack-h5.js'];\n      for (var i = 0; i < urls.length; i++) {\n        skip.push(urls[i])\n      }\n    }    if (((window['Notyf'] !== undefined) && (!(window['Notyf'] instanceof HTMLElement))) || window.requirejs) {\n      var urls = ['https://cdn.jsdelivr.net/npm/notyf@3/notyf.min.js'];\n      for (var i = 0; i < urls.length; i++) {\n        skip.push(urls[i])\n      }\n    }    for (var i = 0; i < js_urls.length; i++) {\n      var url = js_urls[i];\n      if (skip.indexOf(url) >= 0) {\n\tif (!window.requirejs) {\n\t  on_load();\n\t}\n\tcontinue;\n      }\n      var element = document.createElement('script');\n      element.onload = on_load;\n      element.onerror = on_error;\n      element.async = false;\n      element.src = url;\n      console.debug(\"Bokeh: injecting script tag for BokehJS library: \", url);\n      document.head.appendChild(element);\n    }\n    for (var i = 0; i < js_modules.length; i++) {\n      var url = js_modules[i];\n      if (skip.indexOf(url) >= 0) {\n\tif (!window.requirejs) {\n\t  on_load();\n\t}\n\tcontinue;\n      }\n      var element = document.createElement('script');\n      element.onload = on_load;\n      element.onerror = on_error;\n      element.async = false;\n      element.src = url;\n      element.type = \"module\";\n      console.debug(\"Bokeh: injecting script tag for BokehJS library: \", url);\n      document.head.appendChild(element);\n    }\n    if (!js_urls.length && !js_modules.length) {\n      on_load()\n    }\n  };\n\n  function inject_raw_css(css) {\n    const element = document.createElement(\"style\");\n    element.appendChild(document.createTextNode(css));\n    document.body.appendChild(element);\n  }\n\n  var js_urls = [\"https://cdn.jsdelivr.net/npm/jquery@3.5.1/dist/jquery.slim.min.js\", \"https://cdn.plot.ly/plotly-2.10.1.min.js\", \"https://cdn.bokeh.org/bokeh/release/bokeh-2.4.3.min.js\", \"https://cdn.bokeh.org/bokeh/release/bokeh-gl-2.4.3.min.js\", \"https://cdn.bokeh.org/bokeh/release/bokeh-widgets-2.4.3.min.js\", \"https://cdn.bokeh.org/bokeh/release/bokeh-tables-2.4.3.min.js\", \"https://cdn.bokeh.org/bokeh/release/bokeh-mathjax-2.4.3.min.js\", \"https://cdn.jsdelivr.net/npm/notyf@3/notyf.min.js\", \"https://unpkg.com/@holoviz/panel@0.13.1/dist/panel.min.js\"];\n  var js_modules = [];\n  var css_urls = [\"https://cdn.jsdelivr.net/npm/notyf@3/notyf.min.css\", \"https://cdnjs.cloudflare.com/ajax/libs/font-awesome/5.15.1/css/all.min.css\", \"https://unpkg.com/@holoviz/panel@0.13.1/dist/css/alerts.css\", \"https://unpkg.com/@holoviz/panel@0.13.1/dist/css/card.css\", \"https://unpkg.com/@holoviz/panel@0.13.1/dist/css/dataframe.css\", \"https://unpkg.com/@holoviz/panel@0.13.1/dist/css/debugger.css\", \"https://unpkg.com/@holoviz/panel@0.13.1/dist/css/json.css\", \"https://unpkg.com/@holoviz/panel@0.13.1/dist/css/loading.css\", \"https://unpkg.com/@holoviz/panel@0.13.1/dist/css/markdown.css\", \"https://unpkg.com/@holoviz/panel@0.13.1/dist/css/widgets.css\"];\n  var inline_js = [    function(Bokeh) {\n      inject_raw_css(\"\\n    .bk.pn-loading.arcs:before {\\n      background-image: url(\\\"data:image/svg+xml;base64,PHN2ZyB4bWxucz0iaHR0cDovL3d3dy53My5vcmcvMjAwMC9zdmciIHhtbG5zOnhsaW5rPSJodHRwOi8vd3d3LnczLm9yZy8xOTk5L3hsaW5rIiBzdHlsZT0ibWFyZ2luOiBhdXRvOyBiYWNrZ3JvdW5kOiBub25lOyBkaXNwbGF5OiBibG9jazsgc2hhcGUtcmVuZGVyaW5nOiBhdXRvOyIgdmlld0JveD0iMCAwIDEwMCAxMDAiIHByZXNlcnZlQXNwZWN0UmF0aW89InhNaWRZTWlkIj4gIDxjaXJjbGUgY3g9IjUwIiBjeT0iNTAiIHI9IjMyIiBzdHJva2Utd2lkdGg9IjgiIHN0cm9rZT0iI2MzYzNjMyIgc3Ryb2tlLWRhc2hhcnJheT0iNTAuMjY1NDgyNDU3NDM2NjkgNTAuMjY1NDgyNDU3NDM2NjkiIGZpbGw9Im5vbmUiIHN0cm9rZS1saW5lY2FwPSJyb3VuZCI+ICAgIDxhbmltYXRlVHJhbnNmb3JtIGF0dHJpYnV0ZU5hbWU9InRyYW5zZm9ybSIgdHlwZT0icm90YXRlIiByZXBlYXRDb3VudD0iaW5kZWZpbml0ZSIgZHVyPSIxcyIga2V5VGltZXM9IjA7MSIgdmFsdWVzPSIwIDUwIDUwOzM2MCA1MCA1MCI+PC9hbmltYXRlVHJhbnNmb3JtPiAgPC9jaXJjbGU+PC9zdmc+\\\");\\n      background-size: auto calc(min(50%, 400px));\\n    }\\n    \");\n    },    function(Bokeh) {\n      Bokeh.set_log_level(\"info\");\n    },\nfunction(Bokeh) {} // ensure no trailing comma for IE\n  ];\n\n  function run_inline_js() {\n    if ((root.Bokeh !== undefined) || (force === true)) {\n      for (var i = 0; i < inline_js.length; i++) {\n        inline_js[i].call(root, root.Bokeh);\n      }} else if (Date.now() < root._bokeh_timeout) {\n      setTimeout(run_inline_js, 100);\n    } else if (!root._bokeh_failed_load) {\n      console.log(\"Bokeh: BokehJS failed to load within specified timeout.\");\n      root._bokeh_failed_load = true;\n    }\n  }\n\n  if (root._bokeh_is_loading === 0) {\n    console.debug(\"Bokeh: BokehJS loaded, going straight to plotting\");\n    run_inline_js();\n  } else {\n    load_libs(css_urls, js_urls, js_modules, function() {\n      console.debug(\"Bokeh: BokehJS plotting callback run at\", now());\n      run_inline_js();\n    });\n  }\n}(window));"
     },
     "metadata": {},
     "output_type": "display_data"
    },
    {
     "data": {
      "application/javascript": [
       "\n",
       "if ((window.PyViz === undefined) || (window.PyViz instanceof HTMLElement)) {\n",
       "  window.PyViz = {comms: {}, comm_status:{}, kernels:{}, receivers: {}, plot_index: []}\n",
       "}\n",
       "\n",
       "\n",
       "    function JupyterCommManager() {\n",
       "    }\n",
       "\n",
       "    JupyterCommManager.prototype.register_target = function(plot_id, comm_id, msg_handler) {\n",
       "      if (window.comm_manager || ((window.Jupyter !== undefined) && (Jupyter.notebook.kernel != null))) {\n",
       "        var comm_manager = window.comm_manager || Jupyter.notebook.kernel.comm_manager;\n",
       "        comm_manager.register_target(comm_id, function(comm) {\n",
       "          comm.on_msg(msg_handler);\n",
       "        });\n",
       "      } else if ((plot_id in window.PyViz.kernels) && (window.PyViz.kernels[plot_id])) {\n",
       "        window.PyViz.kernels[plot_id].registerCommTarget(comm_id, function(comm) {\n",
       "          comm.onMsg = msg_handler;\n",
       "        });\n",
       "      } else if (typeof google != 'undefined' && google.colab.kernel != null) {\n",
       "        google.colab.kernel.comms.registerTarget(comm_id, (comm) => {\n",
       "          var messages = comm.messages[Symbol.asyncIterator]();\n",
       "          function processIteratorResult(result) {\n",
       "            var message = result.value;\n",
       "            console.log(message)\n",
       "            var content = {data: message.data, comm_id};\n",
       "            var buffers = []\n",
       "            for (var buffer of message.buffers || []) {\n",
       "              buffers.push(new DataView(buffer))\n",
       "            }\n",
       "            var metadata = message.metadata || {};\n",
       "            var msg = {content, buffers, metadata}\n",
       "            msg_handler(msg);\n",
       "            return messages.next().then(processIteratorResult);\n",
       "          }\n",
       "          return messages.next().then(processIteratorResult);\n",
       "        })\n",
       "      }\n",
       "    }\n",
       "\n",
       "    JupyterCommManager.prototype.get_client_comm = function(plot_id, comm_id, msg_handler) {\n",
       "      if (comm_id in window.PyViz.comms) {\n",
       "        return window.PyViz.comms[comm_id];\n",
       "      } else if (window.comm_manager || ((window.Jupyter !== undefined) && (Jupyter.notebook.kernel != null))) {\n",
       "        var comm_manager = window.comm_manager || Jupyter.notebook.kernel.comm_manager;\n",
       "        var comm = comm_manager.new_comm(comm_id, {}, {}, {}, comm_id);\n",
       "        if (msg_handler) {\n",
       "          comm.on_msg(msg_handler);\n",
       "        }\n",
       "      } else if ((plot_id in window.PyViz.kernels) && (window.PyViz.kernels[plot_id])) {\n",
       "        var comm = window.PyViz.kernels[plot_id].connectToComm(comm_id);\n",
       "        comm.open();\n",
       "        if (msg_handler) {\n",
       "          comm.onMsg = msg_handler;\n",
       "        }\n",
       "      } else if (typeof google != 'undefined' && google.colab.kernel != null) {\n",
       "        var comm_promise = google.colab.kernel.comms.open(comm_id)\n",
       "        comm_promise.then((comm) => {\n",
       "          window.PyViz.comms[comm_id] = comm;\n",
       "          if (msg_handler) {\n",
       "            var messages = comm.messages[Symbol.asyncIterator]();\n",
       "            function processIteratorResult(result) {\n",
       "              var message = result.value;\n",
       "              var content = {data: message.data};\n",
       "              var metadata = message.metadata || {comm_id};\n",
       "              var msg = {content, metadata}\n",
       "              msg_handler(msg);\n",
       "              return messages.next().then(processIteratorResult);\n",
       "            }\n",
       "            return messages.next().then(processIteratorResult);\n",
       "          }\n",
       "        }) \n",
       "        var sendClosure = (data, metadata, buffers, disposeOnDone) => {\n",
       "          return comm_promise.then((comm) => {\n",
       "            comm.send(data, metadata, buffers, disposeOnDone);\n",
       "          });\n",
       "        };\n",
       "        var comm = {\n",
       "          send: sendClosure\n",
       "        };\n",
       "      }\n",
       "      window.PyViz.comms[comm_id] = comm;\n",
       "      return comm;\n",
       "    }\n",
       "    window.PyViz.comm_manager = new JupyterCommManager();\n",
       "    \n",
       "\n",
       "\n",
       "var JS_MIME_TYPE = 'application/javascript';\n",
       "var HTML_MIME_TYPE = 'text/html';\n",
       "var EXEC_MIME_TYPE = 'application/vnd.holoviews_exec.v0+json';\n",
       "var CLASS_NAME = 'output';\n",
       "\n",
       "/**\n",
       " * Render data to the DOM node\n",
       " */\n",
       "function render(props, node) {\n",
       "  var div = document.createElement(\"div\");\n",
       "  var script = document.createElement(\"script\");\n",
       "  node.appendChild(div);\n",
       "  node.appendChild(script);\n",
       "}\n",
       "\n",
       "/**\n",
       " * Handle when a new output is added\n",
       " */\n",
       "function handle_add_output(event, handle) {\n",
       "  var output_area = handle.output_area;\n",
       "  var output = handle.output;\n",
       "  if ((output.data == undefined) || (!output.data.hasOwnProperty(EXEC_MIME_TYPE))) {\n",
       "    return\n",
       "  }\n",
       "  var id = output.metadata[EXEC_MIME_TYPE][\"id\"];\n",
       "  var toinsert = output_area.element.find(\".\" + CLASS_NAME.split(' ')[0]);\n",
       "  if (id !== undefined) {\n",
       "    var nchildren = toinsert.length;\n",
       "    var html_node = toinsert[nchildren-1].children[0];\n",
       "    html_node.innerHTML = output.data[HTML_MIME_TYPE];\n",
       "    var scripts = [];\n",
       "    var nodelist = html_node.querySelectorAll(\"script\");\n",
       "    for (var i in nodelist) {\n",
       "      if (nodelist.hasOwnProperty(i)) {\n",
       "        scripts.push(nodelist[i])\n",
       "      }\n",
       "    }\n",
       "\n",
       "    scripts.forEach( function (oldScript) {\n",
       "      var newScript = document.createElement(\"script\");\n",
       "      var attrs = [];\n",
       "      var nodemap = oldScript.attributes;\n",
       "      for (var j in nodemap) {\n",
       "        if (nodemap.hasOwnProperty(j)) {\n",
       "          attrs.push(nodemap[j])\n",
       "        }\n",
       "      }\n",
       "      attrs.forEach(function(attr) { newScript.setAttribute(attr.name, attr.value) });\n",
       "      newScript.appendChild(document.createTextNode(oldScript.innerHTML));\n",
       "      oldScript.parentNode.replaceChild(newScript, oldScript);\n",
       "    });\n",
       "    if (JS_MIME_TYPE in output.data) {\n",
       "      toinsert[nchildren-1].children[1].textContent = output.data[JS_MIME_TYPE];\n",
       "    }\n",
       "    output_area._hv_plot_id = id;\n",
       "    if ((window.Bokeh !== undefined) && (id in Bokeh.index)) {\n",
       "      window.PyViz.plot_index[id] = Bokeh.index[id];\n",
       "    } else {\n",
       "      window.PyViz.plot_index[id] = null;\n",
       "    }\n",
       "  } else if (output.metadata[EXEC_MIME_TYPE][\"server_id\"] !== undefined) {\n",
       "    var bk_div = document.createElement(\"div\");\n",
       "    bk_div.innerHTML = output.data[HTML_MIME_TYPE];\n",
       "    var script_attrs = bk_div.children[0].attributes;\n",
       "    for (var i = 0; i < script_attrs.length; i++) {\n",
       "      toinsert[toinsert.length - 1].childNodes[1].setAttribute(script_attrs[i].name, script_attrs[i].value);\n",
       "    }\n",
       "    // store reference to server id on output_area\n",
       "    output_area._bokeh_server_id = output.metadata[EXEC_MIME_TYPE][\"server_id\"];\n",
       "  }\n",
       "}\n",
       "\n",
       "/**\n",
       " * Handle when an output is cleared or removed\n",
       " */\n",
       "function handle_clear_output(event, handle) {\n",
       "  var id = handle.cell.output_area._hv_plot_id;\n",
       "  var server_id = handle.cell.output_area._bokeh_server_id;\n",
       "  if (((id === undefined) || !(id in PyViz.plot_index)) && (server_id !== undefined)) { return; }\n",
       "  var comm = window.PyViz.comm_manager.get_client_comm(\"hv-extension-comm\", \"hv-extension-comm\", function () {});\n",
       "  if (server_id !== null) {\n",
       "    comm.send({event_type: 'server_delete', 'id': server_id});\n",
       "    return;\n",
       "  } else if (comm !== null) {\n",
       "    comm.send({event_type: 'delete', 'id': id});\n",
       "  }\n",
       "  delete PyViz.plot_index[id];\n",
       "  if ((window.Bokeh !== undefined) & (id in window.Bokeh.index)) {\n",
       "    var doc = window.Bokeh.index[id].model.document\n",
       "    doc.clear();\n",
       "    const i = window.Bokeh.documents.indexOf(doc);\n",
       "    if (i > -1) {\n",
       "      window.Bokeh.documents.splice(i, 1);\n",
       "    }\n",
       "  }\n",
       "}\n",
       "\n",
       "/**\n",
       " * Handle kernel restart event\n",
       " */\n",
       "function handle_kernel_cleanup(event, handle) {\n",
       "  delete PyViz.comms[\"hv-extension-comm\"];\n",
       "  window.PyViz.plot_index = {}\n",
       "}\n",
       "\n",
       "/**\n",
       " * Handle update_display_data messages\n",
       " */\n",
       "function handle_update_output(event, handle) {\n",
       "  handle_clear_output(event, {cell: {output_area: handle.output_area}})\n",
       "  handle_add_output(event, handle)\n",
       "}\n",
       "\n",
       "function register_renderer(events, OutputArea) {\n",
       "  function append_mime(data, metadata, element) {\n",
       "    // create a DOM node to render to\n",
       "    var toinsert = this.create_output_subarea(\n",
       "    metadata,\n",
       "    CLASS_NAME,\n",
       "    EXEC_MIME_TYPE\n",
       "    );\n",
       "    this.keyboard_manager.register_events(toinsert);\n",
       "    // Render to node\n",
       "    var props = {data: data, metadata: metadata[EXEC_MIME_TYPE]};\n",
       "    render(props, toinsert[0]);\n",
       "    element.append(toinsert);\n",
       "    return toinsert\n",
       "  }\n",
       "\n",
       "  events.on('output_added.OutputArea', handle_add_output);\n",
       "  events.on('output_updated.OutputArea', handle_update_output);\n",
       "  events.on('clear_output.CodeCell', handle_clear_output);\n",
       "  events.on('delete.Cell', handle_clear_output);\n",
       "  events.on('kernel_ready.Kernel', handle_kernel_cleanup);\n",
       "\n",
       "  OutputArea.prototype.register_mime_type(EXEC_MIME_TYPE, append_mime, {\n",
       "    safe: true,\n",
       "    index: 0\n",
       "  });\n",
       "}\n",
       "\n",
       "if (window.Jupyter !== undefined) {\n",
       "  try {\n",
       "    var events = require('base/js/events');\n",
       "    var OutputArea = require('notebook/js/outputarea').OutputArea;\n",
       "    if (OutputArea.prototype.mime_types().indexOf(EXEC_MIME_TYPE) == -1) {\n",
       "      register_renderer(events, OutputArea);\n",
       "    }\n",
       "  } catch(err) {\n",
       "  }\n",
       "}\n"
      ],
      "application/vnd.holoviews_load.v0+json": "\nif ((window.PyViz === undefined) || (window.PyViz instanceof HTMLElement)) {\n  window.PyViz = {comms: {}, comm_status:{}, kernels:{}, receivers: {}, plot_index: []}\n}\n\n\n    function JupyterCommManager() {\n    }\n\n    JupyterCommManager.prototype.register_target = function(plot_id, comm_id, msg_handler) {\n      if (window.comm_manager || ((window.Jupyter !== undefined) && (Jupyter.notebook.kernel != null))) {\n        var comm_manager = window.comm_manager || Jupyter.notebook.kernel.comm_manager;\n        comm_manager.register_target(comm_id, function(comm) {\n          comm.on_msg(msg_handler);\n        });\n      } else if ((plot_id in window.PyViz.kernels) && (window.PyViz.kernels[plot_id])) {\n        window.PyViz.kernels[plot_id].registerCommTarget(comm_id, function(comm) {\n          comm.onMsg = msg_handler;\n        });\n      } else if (typeof google != 'undefined' && google.colab.kernel != null) {\n        google.colab.kernel.comms.registerTarget(comm_id, (comm) => {\n          var messages = comm.messages[Symbol.asyncIterator]();\n          function processIteratorResult(result) {\n            var message = result.value;\n            console.log(message)\n            var content = {data: message.data, comm_id};\n            var buffers = []\n            for (var buffer of message.buffers || []) {\n              buffers.push(new DataView(buffer))\n            }\n            var metadata = message.metadata || {};\n            var msg = {content, buffers, metadata}\n            msg_handler(msg);\n            return messages.next().then(processIteratorResult);\n          }\n          return messages.next().then(processIteratorResult);\n        })\n      }\n    }\n\n    JupyterCommManager.prototype.get_client_comm = function(plot_id, comm_id, msg_handler) {\n      if (comm_id in window.PyViz.comms) {\n        return window.PyViz.comms[comm_id];\n      } else if (window.comm_manager || ((window.Jupyter !== undefined) && (Jupyter.notebook.kernel != null))) {\n        var comm_manager = window.comm_manager || Jupyter.notebook.kernel.comm_manager;\n        var comm = comm_manager.new_comm(comm_id, {}, {}, {}, comm_id);\n        if (msg_handler) {\n          comm.on_msg(msg_handler);\n        }\n      } else if ((plot_id in window.PyViz.kernels) && (window.PyViz.kernels[plot_id])) {\n        var comm = window.PyViz.kernels[plot_id].connectToComm(comm_id);\n        comm.open();\n        if (msg_handler) {\n          comm.onMsg = msg_handler;\n        }\n      } else if (typeof google != 'undefined' && google.colab.kernel != null) {\n        var comm_promise = google.colab.kernel.comms.open(comm_id)\n        comm_promise.then((comm) => {\n          window.PyViz.comms[comm_id] = comm;\n          if (msg_handler) {\n            var messages = comm.messages[Symbol.asyncIterator]();\n            function processIteratorResult(result) {\n              var message = result.value;\n              var content = {data: message.data};\n              var metadata = message.metadata || {comm_id};\n              var msg = {content, metadata}\n              msg_handler(msg);\n              return messages.next().then(processIteratorResult);\n            }\n            return messages.next().then(processIteratorResult);\n          }\n        }) \n        var sendClosure = (data, metadata, buffers, disposeOnDone) => {\n          return comm_promise.then((comm) => {\n            comm.send(data, metadata, buffers, disposeOnDone);\n          });\n        };\n        var comm = {\n          send: sendClosure\n        };\n      }\n      window.PyViz.comms[comm_id] = comm;\n      return comm;\n    }\n    window.PyViz.comm_manager = new JupyterCommManager();\n    \n\n\nvar JS_MIME_TYPE = 'application/javascript';\nvar HTML_MIME_TYPE = 'text/html';\nvar EXEC_MIME_TYPE = 'application/vnd.holoviews_exec.v0+json';\nvar CLASS_NAME = 'output';\n\n/**\n * Render data to the DOM node\n */\nfunction render(props, node) {\n  var div = document.createElement(\"div\");\n  var script = document.createElement(\"script\");\n  node.appendChild(div);\n  node.appendChild(script);\n}\n\n/**\n * Handle when a new output is added\n */\nfunction handle_add_output(event, handle) {\n  var output_area = handle.output_area;\n  var output = handle.output;\n  if ((output.data == undefined) || (!output.data.hasOwnProperty(EXEC_MIME_TYPE))) {\n    return\n  }\n  var id = output.metadata[EXEC_MIME_TYPE][\"id\"];\n  var toinsert = output_area.element.find(\".\" + CLASS_NAME.split(' ')[0]);\n  if (id !== undefined) {\n    var nchildren = toinsert.length;\n    var html_node = toinsert[nchildren-1].children[0];\n    html_node.innerHTML = output.data[HTML_MIME_TYPE];\n    var scripts = [];\n    var nodelist = html_node.querySelectorAll(\"script\");\n    for (var i in nodelist) {\n      if (nodelist.hasOwnProperty(i)) {\n        scripts.push(nodelist[i])\n      }\n    }\n\n    scripts.forEach( function (oldScript) {\n      var newScript = document.createElement(\"script\");\n      var attrs = [];\n      var nodemap = oldScript.attributes;\n      for (var j in nodemap) {\n        if (nodemap.hasOwnProperty(j)) {\n          attrs.push(nodemap[j])\n        }\n      }\n      attrs.forEach(function(attr) { newScript.setAttribute(attr.name, attr.value) });\n      newScript.appendChild(document.createTextNode(oldScript.innerHTML));\n      oldScript.parentNode.replaceChild(newScript, oldScript);\n    });\n    if (JS_MIME_TYPE in output.data) {\n      toinsert[nchildren-1].children[1].textContent = output.data[JS_MIME_TYPE];\n    }\n    output_area._hv_plot_id = id;\n    if ((window.Bokeh !== undefined) && (id in Bokeh.index)) {\n      window.PyViz.plot_index[id] = Bokeh.index[id];\n    } else {\n      window.PyViz.plot_index[id] = null;\n    }\n  } else if (output.metadata[EXEC_MIME_TYPE][\"server_id\"] !== undefined) {\n    var bk_div = document.createElement(\"div\");\n    bk_div.innerHTML = output.data[HTML_MIME_TYPE];\n    var script_attrs = bk_div.children[0].attributes;\n    for (var i = 0; i < script_attrs.length; i++) {\n      toinsert[toinsert.length - 1].childNodes[1].setAttribute(script_attrs[i].name, script_attrs[i].value);\n    }\n    // store reference to server id on output_area\n    output_area._bokeh_server_id = output.metadata[EXEC_MIME_TYPE][\"server_id\"];\n  }\n}\n\n/**\n * Handle when an output is cleared or removed\n */\nfunction handle_clear_output(event, handle) {\n  var id = handle.cell.output_area._hv_plot_id;\n  var server_id = handle.cell.output_area._bokeh_server_id;\n  if (((id === undefined) || !(id in PyViz.plot_index)) && (server_id !== undefined)) { return; }\n  var comm = window.PyViz.comm_manager.get_client_comm(\"hv-extension-comm\", \"hv-extension-comm\", function () {});\n  if (server_id !== null) {\n    comm.send({event_type: 'server_delete', 'id': server_id});\n    return;\n  } else if (comm !== null) {\n    comm.send({event_type: 'delete', 'id': id});\n  }\n  delete PyViz.plot_index[id];\n  if ((window.Bokeh !== undefined) & (id in window.Bokeh.index)) {\n    var doc = window.Bokeh.index[id].model.document\n    doc.clear();\n    const i = window.Bokeh.documents.indexOf(doc);\n    if (i > -1) {\n      window.Bokeh.documents.splice(i, 1);\n    }\n  }\n}\n\n/**\n * Handle kernel restart event\n */\nfunction handle_kernel_cleanup(event, handle) {\n  delete PyViz.comms[\"hv-extension-comm\"];\n  window.PyViz.plot_index = {}\n}\n\n/**\n * Handle update_display_data messages\n */\nfunction handle_update_output(event, handle) {\n  handle_clear_output(event, {cell: {output_area: handle.output_area}})\n  handle_add_output(event, handle)\n}\n\nfunction register_renderer(events, OutputArea) {\n  function append_mime(data, metadata, element) {\n    // create a DOM node to render to\n    var toinsert = this.create_output_subarea(\n    metadata,\n    CLASS_NAME,\n    EXEC_MIME_TYPE\n    );\n    this.keyboard_manager.register_events(toinsert);\n    // Render to node\n    var props = {data: data, metadata: metadata[EXEC_MIME_TYPE]};\n    render(props, toinsert[0]);\n    element.append(toinsert);\n    return toinsert\n  }\n\n  events.on('output_added.OutputArea', handle_add_output);\n  events.on('output_updated.OutputArea', handle_update_output);\n  events.on('clear_output.CodeCell', handle_clear_output);\n  events.on('delete.Cell', handle_clear_output);\n  events.on('kernel_ready.Kernel', handle_kernel_cleanup);\n\n  OutputArea.prototype.register_mime_type(EXEC_MIME_TYPE, append_mime, {\n    safe: true,\n    index: 0\n  });\n}\n\nif (window.Jupyter !== undefined) {\n  try {\n    var events = require('base/js/events');\n    var OutputArea = require('notebook/js/outputarea').OutputArea;\n    if (OutputArea.prototype.mime_types().indexOf(EXEC_MIME_TYPE) == -1) {\n      register_renderer(events, OutputArea);\n    }\n  } catch(err) {\n  }\n}\n"
     },
     "metadata": {},
     "output_type": "display_data"
    },
    {
     "data": {
      "text/html": [
       "<style>.bk-root, .bk-root .bk:before, .bk-root .bk:after {\n",
       "  font-family: var(--jp-ui-font-size1);\n",
       "  font-size: var(--jp-ui-font-size1);\n",
       "  color: var(--jp-ui-font-color1);\n",
       "}\n",
       "</style>"
      ]
     },
     "metadata": {},
     "output_type": "display_data"
    }
   ],
   "source": [
    "import plotly.graph_objects as go\n",
    "pn.extension('plotly')"
   ]
  },
  {
   "cell_type": "code",
   "execution_count": 42,
   "id": "7e04d73a",
   "metadata": {},
   "outputs": [
    {
     "data": {
      "text/html": [
       "<div>\n",
       "<style scoped>\n",
       "    .dataframe tbody tr th:only-of-type {\n",
       "        vertical-align: middle;\n",
       "    }\n",
       "\n",
       "    .dataframe tbody tr th {\n",
       "        vertical-align: top;\n",
       "    }\n",
       "\n",
       "    .dataframe thead th {\n",
       "        text-align: right;\n",
       "    }\n",
       "</style>\n",
       "<table border=\"1\" class=\"dataframe\">\n",
       "  <thead>\n",
       "    <tr style=\"text-align: right;\">\n",
       "      <th></th>\n",
       "      <th>intercolumnar distance</th>\n",
       "      <th>upper margin</th>\n",
       "      <th>lower margin</th>\n",
       "      <th>exploitation</th>\n",
       "      <th>row number</th>\n",
       "      <th>modular ratio</th>\n",
       "      <th>interlinear spacing</th>\n",
       "      <th>weight</th>\n",
       "      <th>peak number</th>\n",
       "      <th>modular ratio / interlinear spacing</th>\n",
       "    </tr>\n",
       "    <tr>\n",
       "      <th>class</th>\n",
       "      <th></th>\n",
       "      <th></th>\n",
       "      <th></th>\n",
       "      <th></th>\n",
       "      <th></th>\n",
       "      <th></th>\n",
       "      <th></th>\n",
       "      <th></th>\n",
       "      <th></th>\n",
       "      <th></th>\n",
       "    </tr>\n",
       "  </thead>\n",
       "  <tbody>\n",
       "    <tr>\n",
       "      <th>0</th>\n",
       "      <td>0.105604</td>\n",
       "      <td>-0.032150</td>\n",
       "      <td>0.175168</td>\n",
       "      <td>0.176773</td>\n",
       "      <td>0.261718</td>\n",
       "      <td>0.190314</td>\n",
       "      <td>0.295677</td>\n",
       "      <td>0.089223</td>\n",
       "      <td>-0.091823</td>\n",
       "      <td>0.087106</td>\n",
       "    </tr>\n",
       "    <tr>\n",
       "      <th>1</th>\n",
       "      <td>-0.128929</td>\n",
       "      <td>12.655362</td>\n",
       "      <td>-0.162690</td>\n",
       "      <td>1.993015</td>\n",
       "      <td>-3.224030</td>\n",
       "      <td>0.771662</td>\n",
       "      <td>0.050300</td>\n",
       "      <td>1.036694</td>\n",
       "      <td>1.233389</td>\n",
       "      <td>0.812733</td>\n",
       "    </tr>\n",
       "    <tr>\n",
       "      <th>2</th>\n",
       "      <td>-0.104241</td>\n",
       "      <td>-0.157769</td>\n",
       "      <td>0.562816</td>\n",
       "      <td>-0.670986</td>\n",
       "      <td>0.172340</td>\n",
       "      <td>-0.515608</td>\n",
       "      <td>0.144676</td>\n",
       "      <td>-0.263458</td>\n",
       "      <td>0.064084</td>\n",
       "      <td>-0.449710</td>\n",
       "    </tr>\n",
       "    <tr>\n",
       "      <th>3</th>\n",
       "      <td>-0.202992</td>\n",
       "      <td>-0.220579</td>\n",
       "      <td>0.413447</td>\n",
       "      <td>-0.026932</td>\n",
       "      <td>0.172340</td>\n",
       "      <td>0.024215</td>\n",
       "      <td>0.182426</td>\n",
       "      <td>0.018482</td>\n",
       "      <td>0.064084</td>\n",
       "      <td>0.007849</td>\n",
       "    </tr>\n",
       "    <tr>\n",
       "      <th>4</th>\n",
       "      <td>-0.227680</td>\n",
       "      <td>-0.055704</td>\n",
       "      <td>0.296086</td>\n",
       "      <td>0.064954</td>\n",
       "      <td>0.261718</td>\n",
       "      <td>-0.141884</td>\n",
       "      <td>0.257927</td>\n",
       "      <td>0.249594</td>\n",
       "      <td>0.531806</td>\n",
       "      <td>-0.182942</td>\n",
       "    </tr>\n",
       "    <tr>\n",
       "      <th>5</th>\n",
       "      <td>0.056229</td>\n",
       "      <td>-0.126364</td>\n",
       "      <td>0.239183</td>\n",
       "      <td>-0.107256</td>\n",
       "      <td>0.261718</td>\n",
       "      <td>-0.197251</td>\n",
       "      <td>0.182426</td>\n",
       "      <td>0.012580</td>\n",
       "      <td>-0.123005</td>\n",
       "      <td>-0.210590</td>\n",
       "    </tr>\n",
       "    <tr>\n",
       "      <th>6</th>\n",
       "      <td>0.043885</td>\n",
       "      <td>0.431070</td>\n",
       "      <td>0.086258</td>\n",
       "      <td>-0.183850</td>\n",
       "      <td>0.261718</td>\n",
       "      <td>-0.391033</td>\n",
       "      <td>0.333428</td>\n",
       "      <td>0.027472</td>\n",
       "      <td>0.282354</td>\n",
       "      <td>-0.411405</td>\n",
       "    </tr>\n",
       "    <tr>\n",
       "      <th>7</th>\n",
       "      <td>0.056229</td>\n",
       "      <td>0.085618</td>\n",
       "      <td>0.310311</td>\n",
       "      <td>-0.356523</td>\n",
       "      <td>0.261718</td>\n",
       "      <td>-0.598658</td>\n",
       "      <td>0.295677</td>\n",
       "      <td>-0.001437</td>\n",
       "      <td>0.469443</td>\n",
       "      <td>-0.586469</td>\n",
       "    </tr>\n",
       "    <tr>\n",
       "      <th>8</th>\n",
       "      <td>0.624046</td>\n",
       "      <td>-0.220579</td>\n",
       "      <td>0.107596</td>\n",
       "      <td>0.080127</td>\n",
       "      <td>0.976743</td>\n",
       "      <td>-0.847807</td>\n",
       "      <td>-1.176589</td>\n",
       "      <td>0.021667</td>\n",
       "      <td>1.061891</td>\n",
       "      <td>0.004076</td>\n",
       "    </tr>\n",
       "    <tr>\n",
       "      <th>9</th>\n",
       "      <td>-0.696746</td>\n",
       "      <td>-0.055704</td>\n",
       "      <td>0.445454</td>\n",
       "      <td>0.628849</td>\n",
       "      <td>0.082961</td>\n",
       "      <td>0.480988</td>\n",
       "      <td>0.446679</td>\n",
       "      <td>0.521264</td>\n",
       "      <td>0.001721</td>\n",
       "      <td>0.399725</td>\n",
       "    </tr>\n",
       "    <tr>\n",
       "      <th>10</th>\n",
       "      <td>-0.264711</td>\n",
       "      <td>-0.079257</td>\n",
       "      <td>0.377883</td>\n",
       "      <td>1.243006</td>\n",
       "      <td>0.172340</td>\n",
       "      <td>0.522513</td>\n",
       "      <td>0.182426</td>\n",
       "      <td>0.785459</td>\n",
       "      <td>1.654339</td>\n",
       "      <td>0.720409</td>\n",
       "    </tr>\n",
       "    <tr>\n",
       "      <th>11</th>\n",
       "      <td>-0.128929</td>\n",
       "      <td>-0.197025</td>\n",
       "      <td>0.552147</td>\n",
       "      <td>0.987562</td>\n",
       "      <td>0.619230</td>\n",
       "      <td>-0.100360</td>\n",
       "      <td>-1.289840</td>\n",
       "      <td>0.345438</td>\n",
       "      <td>0.687713</td>\n",
       "      <td>0.727962</td>\n",
       "    </tr>\n",
       "  </tbody>\n",
       "</table>\n",
       "</div>"
      ],
      "text/plain": [
       "       intercolumnar distance  upper margin  lower margin  exploitation  \\\n",
       "class                                                                     \n",
       "0                    0.105604     -0.032150      0.175168      0.176773   \n",
       "1                   -0.128929     12.655362     -0.162690      1.993015   \n",
       "2                   -0.104241     -0.157769      0.562816     -0.670986   \n",
       "3                   -0.202992     -0.220579      0.413447     -0.026932   \n",
       "4                   -0.227680     -0.055704      0.296086      0.064954   \n",
       "5                    0.056229     -0.126364      0.239183     -0.107256   \n",
       "6                    0.043885      0.431070      0.086258     -0.183850   \n",
       "7                    0.056229      0.085618      0.310311     -0.356523   \n",
       "8                    0.624046     -0.220579      0.107596      0.080127   \n",
       "9                   -0.696746     -0.055704      0.445454      0.628849   \n",
       "10                  -0.264711     -0.079257      0.377883      1.243006   \n",
       "11                  -0.128929     -0.197025      0.552147      0.987562   \n",
       "\n",
       "       row number  modular ratio  interlinear spacing    weight  peak number  \\\n",
       "class                                                                          \n",
       "0        0.261718       0.190314             0.295677  0.089223    -0.091823   \n",
       "1       -3.224030       0.771662             0.050300  1.036694     1.233389   \n",
       "2        0.172340      -0.515608             0.144676 -0.263458     0.064084   \n",
       "3        0.172340       0.024215             0.182426  0.018482     0.064084   \n",
       "4        0.261718      -0.141884             0.257927  0.249594     0.531806   \n",
       "5        0.261718      -0.197251             0.182426  0.012580    -0.123005   \n",
       "6        0.261718      -0.391033             0.333428  0.027472     0.282354   \n",
       "7        0.261718      -0.598658             0.295677 -0.001437     0.469443   \n",
       "8        0.976743      -0.847807            -1.176589  0.021667     1.061891   \n",
       "9        0.082961       0.480988             0.446679  0.521264     0.001721   \n",
       "10       0.172340       0.522513             0.182426  0.785459     1.654339   \n",
       "11       0.619230      -0.100360            -1.289840  0.345438     0.687713   \n",
       "\n",
       "       modular ratio / interlinear spacing  \n",
       "class                                       \n",
       "0                                 0.087106  \n",
       "1                                 0.812733  \n",
       "2                                -0.449710  \n",
       "3                                 0.007849  \n",
       "4                                -0.182942  \n",
       "5                                -0.210590  \n",
       "6                                -0.411405  \n",
       "7                                -0.586469  \n",
       "8                                 0.004076  \n",
       "9                                 0.399725  \n",
       "10                                0.720409  \n",
       "11                                0.727962  "
      ]
     },
     "execution_count": 42,
     "metadata": {},
     "output_type": "execute_result"
    }
   ],
   "source": [
    "df_median_per_class = avila.groupby('class').median()\n",
    "df_median_per_class"
   ]
  },
  {
   "cell_type": "code",
   "execution_count": 109,
   "id": "1c438543",
   "metadata": {},
   "outputs": [
    {
     "data": {
      "image/png": "[encoded data removed]",
      "text/plain": [
       "<Figure size 800x600 with 1 Axes>"
      ]
     },
     "metadata": {},
     "output_type": "display_data"
    }
   ],
   "source": [
    "fig = plt.figure(figsize=(8, 6))\n",
    "ax = fig.subplots()\n",
    "plt.plot(df_median_per_class.index.astype(str), df_median_per_class['lower margin'])\n",
    "ax.set_title('Lower margin Median by Class')\n",
    "plt.show()"
   ]
  },
  {
   "cell_type": "code",
   "execution_count": 112,
   "id": "3988aedb",
   "metadata": {},
   "outputs": [
    {
     "data": {
      "application/vnd.plotly.v1+json": {
       "config": {
        "plotlyServerURL": "https://plot.ly"
       },
       "data": [
        {
         "mode": "lines+markers",
         "name": "lines+markers",
         "type": "scatter",
         "x": [
          0,
          1,
          2,
          3,
          4,
          5,
          6,
          7,
          8,
          9,
          10,
          11
         ],
         "y": [
          0.175168,
          -0.16269,
          0.562816,
          0.413447,
          0.296086,
          0.239183,
          0.086258,
          0.310311,
          0.107596,
          0.445454,
          0.377883,
          0.552147
         ]
        }
       ],
       "layout": {
        "template": {
         "data": {
          "bar": [
           {
            "error_x": {
             "color": "#2a3f5f"
            },
            "error_y": {
             "color": "#2a3f5f"
            },
            "marker": {
             "line": {
              "color": "#E5ECF6",
              "width": 0.5
             },
             "pattern": {
              "fillmode": "overlay",
              "size": 10,
              "solidity": 0.2
             }
            },
            "type": "bar"
           }
          ],
          "barpolar": [
           {
            "marker": {
             "line": {
              "color": "#E5ECF6",
              "width": 0.5
             },
             "pattern": {
              "fillmode": "overlay",
              "size": 10,
              "solidity": 0.2
             }
            },
            "type": "barpolar"
           }
          ],
          "carpet": [
           {
            "aaxis": {
             "endlinecolor": "#2a3f5f",
             "gridcolor": "white",
             "linecolor": "white",
             "minorgridcolor": "white",
             "startlinecolor": "#2a3f5f"
            },
            "baxis": {
             "endlinecolor": "#2a3f5f",
             "gridcolor": "white",
             "linecolor": "white",
             "minorgridcolor": "white",
             "startlinecolor": "#2a3f5f"
            },
            "type": "carpet"
           }
          ],
          "choropleth": [
           {
            "colorbar": {
             "outlinewidth": 0,
             "ticks": ""
            },
            "type": "choropleth"
           }
          ],
          "contour": [
           {
            "colorbar": {
             "outlinewidth": 0,
             "ticks": ""
            },
            "colorscale": [
             [
              0,
              "#0d0887"
             ],
             [
              0.1111111111111111,
              "#46039f"
             ],
             [
              0.2222222222222222,
              "#7201a8"
             ],
             [
              0.3333333333333333,
              "#9c179e"
             ],
             [
              0.4444444444444444,
              "#bd3786"
             ],
             [
              0.5555555555555556,
              "#d8576b"
             ],
             [
              0.6666666666666666,
              "#ed7953"
             ],
             [
              0.7777777777777778,
              "#fb9f3a"
             ],
             [
              0.8888888888888888,
              "#fdca26"
             ],
             [
              1,
              "#f0f921"
             ]
            ],
            "type": "contour"
           }
          ],
          "contourcarpet": [
           {
            "colorbar": {
             "outlinewidth": 0,
             "ticks": ""
            },
            "type": "contourcarpet"
           }
          ],
          "heatmap": [
           {
            "colorbar": {
             "outlinewidth": 0,
             "ticks": ""
            },
            "colorscale": [
             [
              0,
              "#0d0887"
             ],
             [
              0.1111111111111111,
              "#46039f"
             ],
             [
              0.2222222222222222,
              "#7201a8"
             ],
             [
              0.3333333333333333,
              "#9c179e"
             ],
             [
              0.4444444444444444,
              "#bd3786"
             ],
             [
              0.5555555555555556,
              "#d8576b"
             ],
             [
              0.6666666666666666,
              "#ed7953"
             ],
             [
              0.7777777777777778,
              "#fb9f3a"
             ],
             [
              0.8888888888888888,
              "#fdca26"
             ],
             [
              1,
              "#f0f921"
             ]
            ],
            "type": "heatmap"
           }
          ],
          "heatmapgl": [
           {
            "colorbar": {
             "outlinewidth": 0,
             "ticks": ""
            },
            "colorscale": [
             [
              0,
              "#0d0887"
             ],
             [
              0.1111111111111111,
              "#46039f"
             ],
             [
              0.2222222222222222,
              "#7201a8"
             ],
             [
              0.3333333333333333,
              "#9c179e"
             ],
             [
              0.4444444444444444,
              "#bd3786"
             ],
             [
              0.5555555555555556,
              "#d8576b"
             ],
             [
              0.6666666666666666,
              "#ed7953"
             ],
             [
              0.7777777777777778,
              "#fb9f3a"
             ],
             [
              0.8888888888888888,
              "#fdca26"
             ],
             [
              1,
              "#f0f921"
             ]
            ],
            "type": "heatmapgl"
           }
          ],
          "histogram": [
           {
            "marker": {
             "pattern": {
              "fillmode": "overlay",
              "size": 10,
              "solidity": 0.2
             }
            },
            "type": "histogram"
           }
          ],
          "histogram2d": [
           {
            "colorbar": {
             "outlinewidth": 0,
             "ticks": ""
            },
            "colorscale": [
             [
              0,
              "#0d0887"
             ],
             [
              0.1111111111111111,
              "#46039f"
             ],
             [
              0.2222222222222222,
              "#7201a8"
             ],
             [
              0.3333333333333333,
              "#9c179e"
             ],
             [
              0.4444444444444444,
              "#bd3786"
             ],
             [
              0.5555555555555556,
              "#d8576b"
             ],
             [
              0.6666666666666666,
              "#ed7953"
             ],
             [
              0.7777777777777778,
              "#fb9f3a"
             ],
             [
              0.8888888888888888,
              "#fdca26"
             ],
             [
              1,
              "#f0f921"
             ]
            ],
            "type": "histogram2d"
           }
          ],
          "histogram2dcontour": [
           {
            "colorbar": {
             "outlinewidth": 0,
             "ticks": ""
            },
            "colorscale": [
             [
              0,
              "#0d0887"
             ],
             [
              0.1111111111111111,
              "#46039f"
             ],
             [
              0.2222222222222222,
              "#7201a8"
             ],
             [
              0.3333333333333333,
              "#9c179e"
             ],
             [
              0.4444444444444444,
              "#bd3786"
             ],
             [
              0.5555555555555556,
              "#d8576b"
             ],
             [
              0.6666666666666666,
              "#ed7953"
             ],
             [
              0.7777777777777778,
              "#fb9f3a"
             ],
             [
              0.8888888888888888,
              "#fdca26"
             ],
             [
              1,
              "#f0f921"
             ]
            ],
            "type": "histogram2dcontour"
           }
          ],
          "mesh3d": [
           {
            "colorbar": {
             "outlinewidth": 0,
             "ticks": ""
            },
            "type": "mesh3d"
           }
          ],
          "parcoords": [
           {
            "line": {
             "colorbar": {
              "outlinewidth": 0,
              "ticks": ""
             }
            },
            "type": "parcoords"
           }
          ],
          "pie": [
           {
            "automargin": true,
            "type": "pie"
           }
          ],
          "scatter": [
           {
            "fillpattern": {
             "fillmode": "overlay",
             "size": 10,
             "solidity": 0.2
            },
            "type": "scatter"
           }
          ],
          "scatter3d": [
           {
            "line": {
             "colorbar": {
              "outlinewidth": 0,
              "ticks": ""
             }
            },
            "marker": {
             "colorbar": {
              "outlinewidth": 0,
              "ticks": ""
             }
            },
            "type": "scatter3d"
           }
          ],
          "scattercarpet": [
           {
            "marker": {
             "colorbar": {
              "outlinewidth": 0,
              "ticks": ""
             }
            },
            "type": "scattercarpet"
           }
          ],
          "scattergeo": [
           {
            "marker": {
             "colorbar": {
              "outlinewidth": 0,
              "ticks": ""
             }
            },
            "type": "scattergeo"
           }
          ],
          "scattergl": [
           {
            "marker": {
             "colorbar": {
              "outlinewidth": 0,
              "ticks": ""
             }
            },
            "type": "scattergl"
           }
          ],
          "scattermapbox": [
           {
            "marker": {
             "colorbar": {
              "outlinewidth": 0,
              "ticks": ""
             }
            },
            "type": "scattermapbox"
           }
          ],
          "scatterpolar": [
           {
            "marker": {
             "colorbar": {
              "outlinewidth": 0,
              "ticks": ""
             }
            },
            "type": "scatterpolar"
           }
          ],
          "scatterpolargl": [
           {
            "marker": {
             "colorbar": {
              "outlinewidth": 0,
              "ticks": ""
             }
            },
            "type": "scatterpolargl"
           }
          ],
          "scatterternary": [
           {
            "marker": {
             "colorbar": {
              "outlinewidth": 0,
              "ticks": ""
             }
            },
            "type": "scatterternary"
           }
          ],
          "surface": [
           {
            "colorbar": {
             "outlinewidth": 0,
             "ticks": ""
            },
            "colorscale": [
             [
              0,
              "#0d0887"
             ],
             [
              0.1111111111111111,
              "#46039f"
             ],
             [
              0.2222222222222222,
              "#7201a8"
             ],
             [
              0.3333333333333333,
              "#9c179e"
             ],
             [
              0.4444444444444444,
              "#bd3786"
             ],
             [
              0.5555555555555556,
              "#d8576b"
             ],
             [
              0.6666666666666666,
              "#ed7953"
             ],
             [
              0.7777777777777778,
              "#fb9f3a"
             ],
             [
              0.8888888888888888,
              "#fdca26"
             ],
             [
              1,
              "#f0f921"
             ]
            ],
            "type": "surface"
           }
          ],
          "table": [
           {
            "cells": {
             "fill": {
              "color": "#EBF0F8"
             },
             "line": {
              "color": "white"
             }
            },
            "header": {
             "fill": {
              "color": "#C8D4E3"
             },
             "line": {
              "color": "white"
             }
            },
            "type": "table"
           }
          ]
         },
         "layout": {
          "annotationdefaults": {
           "arrowcolor": "#2a3f5f",
           "arrowhead": 0,
           "arrowwidth": 1
          },
          "autotypenumbers": "strict",
          "coloraxis": {
           "colorbar": {
            "outlinewidth": 0,
            "ticks": ""
           }
          },
          "colorscale": {
           "diverging": [
            [
             0,
             "#8e0152"
            ],
            [
             0.1,
             "#c51b7d"
            ],
            [
             0.2,
             "#de77ae"
            ],
            [
             0.3,
             "#f1b6da"
            ],
            [
             0.4,
             "#fde0ef"
            ],
            [
             0.5,
             "#f7f7f7"
            ],
            [
             0.6,
             "#e6f5d0"
            ],
            [
             0.7,
             "#b8e186"
            ],
            [
             0.8,
             "#7fbc41"
            ],
            [
             0.9,
             "#4d9221"
            ],
            [
             1,
             "#276419"
            ]
           ],
           "sequential": [
            [
             0,
             "#0d0887"
            ],
            [
             0.1111111111111111,
             "#46039f"
            ],
            [
             0.2222222222222222,
             "#7201a8"
            ],
            [
             0.3333333333333333,
             "#9c179e"
            ],
            [
             0.4444444444444444,
             "#bd3786"
            ],
            [
             0.5555555555555556,
             "#d8576b"
            ],
            [
             0.6666666666666666,
             "#ed7953"
            ],
            [
             0.7777777777777778,
             "#fb9f3a"
            ],
            [
             0.8888888888888888,
             "#fdca26"
            ],
            [
             1,
             "#f0f921"
            ]
           ],
           "sequentialminus": [
            [
             0,
             "#0d0887"
            ],
            [
             0.1111111111111111,
             "#46039f"
            ],
            [
             0.2222222222222222,
             "#7201a8"
            ],
            [
             0.3333333333333333,
             "#9c179e"
            ],
            [
             0.4444444444444444,
             "#bd3786"
            ],
            [
             0.5555555555555556,
             "#d8576b"
            ],
            [
             0.6666666666666666,
             "#ed7953"
            ],
            [
             0.7777777777777778,
             "#fb9f3a"
            ],
            [
             0.8888888888888888,
             "#fdca26"
            ],
            [
             1,
             "#f0f921"
            ]
           ]
          },
          "colorway": [
           "#636efa",
           "#EF553B",
           "#00cc96",
           "#ab63fa",
           "#FFA15A",
           "#19d3f3",
           "#FF6692",
           "#B6E880",
           "#FF97FF",
           "#FECB52"
          ],
          "font": {
           "color": "#2a3f5f"
          },
          "geo": {
           "bgcolor": "white",
           "lakecolor": "white",
           "landcolor": "#E5ECF6",
           "showlakes": true,
           "showland": true,
           "subunitcolor": "white"
          },
          "hoverlabel": {
           "align": "left"
          },
          "hovermode": "closest",
          "mapbox": {
           "style": "light"
          },
          "paper_bgcolor": "white",
          "plot_bgcolor": "#E5ECF6",
          "polar": {
           "angularaxis": {
            "gridcolor": "white",
            "linecolor": "white",
            "ticks": ""
           },
           "bgcolor": "#E5ECF6",
           "radialaxis": {
            "gridcolor": "white",
            "linecolor": "white",
            "ticks": ""
           }
          },
          "scene": {
           "xaxis": {
            "backgroundcolor": "#E5ECF6",
            "gridcolor": "white",
            "gridwidth": 2,
            "linecolor": "white",
            "showbackground": true,
            "ticks": "",
            "zerolinecolor": "white"
           },
           "yaxis": {
            "backgroundcolor": "#E5ECF6",
            "gridcolor": "white",
            "gridwidth": 2,
            "linecolor": "white",
            "showbackground": true,
            "ticks": "",
            "zerolinecolor": "white"
           },
           "zaxis": {
            "backgroundcolor": "#E5ECF6",
            "gridcolor": "white",
            "gridwidth": 2,
            "linecolor": "white",
            "showbackground": true,
            "ticks": "",
            "zerolinecolor": "white"
           }
          },
          "shapedefaults": {
           "line": {
            "color": "#2a3f5f"
           }
          },
          "ternary": {
           "aaxis": {
            "gridcolor": "white",
            "linecolor": "white",
            "ticks": ""
           },
           "baxis": {
            "gridcolor": "white",
            "linecolor": "white",
            "ticks": ""
           },
           "bgcolor": "#E5ECF6",
           "caxis": {
            "gridcolor": "white",
            "linecolor": "white",
            "ticks": ""
           }
          },
          "title": {
           "x": 0.05
          },
          "xaxis": {
           "automargin": true,
           "gridcolor": "white",
           "linecolor": "white",
           "ticks": "",
           "title": {
            "standoff": 15
           },
           "zerolinecolor": "white",
           "zerolinewidth": 2
          },
          "yaxis": {
           "automargin": true,
           "gridcolor": "white",
           "linecolor": "white",
           "ticks": "",
           "title": {
            "standoff": 15
           },
           "zerolinecolor": "white",
           "zerolinewidth": 2
          }
         }
        }
       }
      },
      "text/html": [
       "<div>                            <div id=\"7c62c7e2-8bbd-4754-9ac6-7d1ba87044cc\" class=\"plotly-graph-div\" style=\"height:525px; width:100%;\"></div>            <script type=\"text/javascript\">                require([\"plotly\"], function(Plotly) {                    window.PLOTLYENV=window.PLOTLYENV || {};                                    if (document.getElementById(\"7c62c7e2-8bbd-4754-9ac6-7d1ba87044cc\")) {                    Plotly.newPlot(                        \"7c62c7e2-8bbd-4754-9ac6-7d1ba87044cc\",                        [{\"mode\":\"lines+markers\",\"name\":\"lines+markers\",\"x\":[0,1,2,3,4,5,6,7,8,9,10,11],\"y\":[0.175168,-0.16269,0.562816,0.413447,0.296086,0.239183,0.086258,0.310311,0.107596,0.445454,0.377883,0.552147],\"type\":\"scatter\"}],                        {\"template\":{\"data\":{\"histogram2dcontour\":[{\"type\":\"histogram2dcontour\",\"colorbar\":{\"outlinewidth\":0,\"ticks\":\"\"},\"colorscale\":[[0.0,\"#0d0887\"],[0.1111111111111111,\"#46039f\"],[0.2222222222222222,\"#7201a8\"],[0.3333333333333333,\"#9c179e\"],[0.4444444444444444,\"#bd3786\"],[0.5555555555555556,\"#d8576b\"],[0.6666666666666666,\"#ed7953\"],[0.7777777777777778,\"#fb9f3a\"],[0.8888888888888888,\"#fdca26\"],[1.0,\"#f0f921\"]]}],\"choropleth\":[{\"type\":\"choropleth\",\"colorbar\":{\"outlinewidth\":0,\"ticks\":\"\"}}],\"histogram2d\":[{\"type\":\"histogram2d\",\"colorbar\":{\"outlinewidth\":0,\"ticks\":\"\"},\"colorscale\":[[0.0,\"#0d0887\"],[0.1111111111111111,\"#46039f\"],[0.2222222222222222,\"#7201a8\"],[0.3333333333333333,\"#9c179e\"],[0.4444444444444444,\"#bd3786\"],[0.5555555555555556,\"#d8576b\"],[0.6666666666666666,\"#ed7953\"],[0.7777777777777778,\"#fb9f3a\"],[0.8888888888888888,\"#fdca26\"],[1.0,\"#f0f921\"]]}],\"heatmap\":[{\"type\":\"heatmap\",\"colorbar\":{\"outlinewidth\":0,\"ticks\":\"\"},\"colorscale\":[[0.0,\"#0d0887\"],[0.1111111111111111,\"#46039f\"],[0.2222222222222222,\"#7201a8\"],[0.3333333333333333,\"#9c179e\"],[0.4444444444444444,\"#bd3786\"],[0.5555555555555556,\"#d8576b\"],[0.6666666666666666,\"#ed7953\"],[0.7777777777777778,\"#fb9f3a\"],[0.8888888888888888,\"#fdca26\"],[1.0,\"#f0f921\"]]}],\"heatmapgl\":[{\"type\":\"heatmapgl\",\"colorbar\":{\"outlinewidth\":0,\"ticks\":\"\"},\"colorscale\":[[0.0,\"#0d0887\"],[0.1111111111111111,\"#46039f\"],[0.2222222222222222,\"#7201a8\"],[0.3333333333333333,\"#9c179e\"],[0.4444444444444444,\"#bd3786\"],[0.5555555555555556,\"#d8576b\"],[0.6666666666666666,\"#ed7953\"],[0.7777777777777778,\"#fb9f3a\"],[0.8888888888888888,\"#fdca26\"],[1.0,\"#f0f921\"]]}],\"contourcarpet\":[{\"type\":\"contourcarpet\",\"colorbar\":{\"outlinewidth\":0,\"ticks\":\"\"}}],\"contour\":[{\"type\":\"contour\",\"colorbar\":{\"outlinewidth\":0,\"ticks\":\"\"},\"colorscale\":[[0.0,\"#0d0887\"],[0.1111111111111111,\"#46039f\"],[0.2222222222222222,\"#7201a8\"],[0.3333333333333333,\"#9c179e\"],[0.4444444444444444,\"#bd3786\"],[0.5555555555555556,\"#d8576b\"],[0.6666666666666666,\"#ed7953\"],[0.7777777777777778,\"#fb9f3a\"],[0.8888888888888888,\"#fdca26\"],[1.0,\"#f0f921\"]]}],\"surface\":[{\"type\":\"surface\",\"colorbar\":{\"outlinewidth\":0,\"ticks\":\"\"},\"colorscale\":[[0.0,\"#0d0887\"],[0.1111111111111111,\"#46039f\"],[0.2222222222222222,\"#7201a8\"],[0.3333333333333333,\"#9c179e\"],[0.4444444444444444,\"#bd3786\"],[0.5555555555555556,\"#d8576b\"],[0.6666666666666666,\"#ed7953\"],[0.7777777777777778,\"#fb9f3a\"],[0.8888888888888888,\"#fdca26\"],[1.0,\"#f0f921\"]]}],\"mesh3d\":[{\"type\":\"mesh3d\",\"colorbar\":{\"outlinewidth\":0,\"ticks\":\"\"}}],\"scatter\":[{\"fillpattern\":{\"fillmode\":\"overlay\",\"size\":10,\"solidity\":0.2},\"type\":\"scatter\"}],\"parcoords\":[{\"type\":\"parcoords\",\"line\":{\"colorbar\":{\"outlinewidth\":0,\"ticks\":\"\"}}}],\"scatterpolargl\":[{\"type\":\"scatterpolargl\",\"marker\":{\"colorbar\":{\"outlinewidth\":0,\"ticks\":\"\"}}}],\"bar\":[{\"error_x\":{\"color\":\"#2a3f5f\"},\"error_y\":{\"color\":\"#2a3f5f\"},\"marker\":{\"line\":{\"color\":\"#E5ECF6\",\"width\":0.5},\"pattern\":{\"fillmode\":\"overlay\",\"size\":10,\"solidity\":0.2}},\"type\":\"bar\"}],\"scattergeo\":[{\"type\":\"scattergeo\",\"marker\":{\"colorbar\":{\"outlinewidth\":0,\"ticks\":\"\"}}}],\"scatterpolar\":[{\"type\":\"scatterpolar\",\"marker\":{\"colorbar\":{\"outlinewidth\":0,\"ticks\":\"\"}}}],\"histogram\":[{\"marker\":{\"pattern\":{\"fillmode\":\"overlay\",\"size\":10,\"solidity\":0.2}},\"type\":\"histogram\"}],\"scattergl\":[{\"type\":\"scattergl\",\"marker\":{\"colorbar\":{\"outlinewidth\":0,\"ticks\":\"\"}}}],\"scatter3d\":[{\"type\":\"scatter3d\",\"line\":{\"colorbar\":{\"outlinewidth\":0,\"ticks\":\"\"}},\"marker\":{\"colorbar\":{\"outlinewidth\":0,\"ticks\":\"\"}}}],\"scattermapbox\":[{\"type\":\"scattermapbox\",\"marker\":{\"colorbar\":{\"outlinewidth\":0,\"ticks\":\"\"}}}],\"scatterternary\":[{\"type\":\"scatterternary\",\"marker\":{\"colorbar\":{\"outlinewidth\":0,\"ticks\":\"\"}}}],\"scattercarpet\":[{\"type\":\"scattercarpet\",\"marker\":{\"colorbar\":{\"outlinewidth\":0,\"ticks\":\"\"}}}],\"carpet\":[{\"aaxis\":{\"endlinecolor\":\"#2a3f5f\",\"gridcolor\":\"white\",\"linecolor\":\"white\",\"minorgridcolor\":\"white\",\"startlinecolor\":\"#2a3f5f\"},\"baxis\":{\"endlinecolor\":\"#2a3f5f\",\"gridcolor\":\"white\",\"linecolor\":\"white\",\"minorgridcolor\":\"white\",\"startlinecolor\":\"#2a3f5f\"},\"type\":\"carpet\"}],\"table\":[{\"cells\":{\"fill\":{\"color\":\"#EBF0F8\"},\"line\":{\"color\":\"white\"}},\"header\":{\"fill\":{\"color\":\"#C8D4E3\"},\"line\":{\"color\":\"white\"}},\"type\":\"table\"}],\"barpolar\":[{\"marker\":{\"line\":{\"color\":\"#E5ECF6\",\"width\":0.5},\"pattern\":{\"fillmode\":\"overlay\",\"size\":10,\"solidity\":0.2}},\"type\":\"barpolar\"}],\"pie\":[{\"automargin\":true,\"type\":\"pie\"}]},\"layout\":{\"autotypenumbers\":\"strict\",\"colorway\":[\"#636efa\",\"#EF553B\",\"#00cc96\",\"#ab63fa\",\"#FFA15A\",\"#19d3f3\",\"#FF6692\",\"#B6E880\",\"#FF97FF\",\"#FECB52\"],\"font\":{\"color\":\"#2a3f5f\"},\"hovermode\":\"closest\",\"hoverlabel\":{\"align\":\"left\"},\"paper_bgcolor\":\"white\",\"plot_bgcolor\":\"#E5ECF6\",\"polar\":{\"bgcolor\":\"#E5ECF6\",\"angularaxis\":{\"gridcolor\":\"white\",\"linecolor\":\"white\",\"ticks\":\"\"},\"radialaxis\":{\"gridcolor\":\"white\",\"linecolor\":\"white\",\"ticks\":\"\"}},\"ternary\":{\"bgcolor\":\"#E5ECF6\",\"aaxis\":{\"gridcolor\":\"white\",\"linecolor\":\"white\",\"ticks\":\"\"},\"baxis\":{\"gridcolor\":\"white\",\"linecolor\":\"white\",\"ticks\":\"\"},\"caxis\":{\"gridcolor\":\"white\",\"linecolor\":\"white\",\"ticks\":\"\"}},\"coloraxis\":{\"colorbar\":{\"outlinewidth\":0,\"ticks\":\"\"}},\"colorscale\":{\"sequential\":[[0.0,\"#0d0887\"],[0.1111111111111111,\"#46039f\"],[0.2222222222222222,\"#7201a8\"],[0.3333333333333333,\"#9c179e\"],[0.4444444444444444,\"#bd3786\"],[0.5555555555555556,\"#d8576b\"],[0.6666666666666666,\"#ed7953\"],[0.7777777777777778,\"#fb9f3a\"],[0.8888888888888888,\"#fdca26\"],[1.0,\"#f0f921\"]],\"sequentialminus\":[[0.0,\"#0d0887\"],[0.1111111111111111,\"#46039f\"],[0.2222222222222222,\"#7201a8\"],[0.3333333333333333,\"#9c179e\"],[0.4444444444444444,\"#bd3786\"],[0.5555555555555556,\"#d8576b\"],[0.6666666666666666,\"#ed7953\"],[0.7777777777777778,\"#fb9f3a\"],[0.8888888888888888,\"#fdca26\"],[1.0,\"#f0f921\"]],\"diverging\":[[0,\"#8e0152\"],[0.1,\"#c51b7d\"],[0.2,\"#de77ae\"],[0.3,\"#f1b6da\"],[0.4,\"#fde0ef\"],[0.5,\"#f7f7f7\"],[0.6,\"#e6f5d0\"],[0.7,\"#b8e186\"],[0.8,\"#7fbc41\"],[0.9,\"#4d9221\"],[1,\"#276419\"]]},\"xaxis\":{\"gridcolor\":\"white\",\"linecolor\":\"white\",\"ticks\":\"\",\"title\":{\"standoff\":15},\"zerolinecolor\":\"white\",\"automargin\":true,\"zerolinewidth\":2},\"yaxis\":{\"gridcolor\":\"white\",\"linecolor\":\"white\",\"ticks\":\"\",\"title\":{\"standoff\":15},\"zerolinecolor\":\"white\",\"automargin\":true,\"zerolinewidth\":2},\"scene\":{\"xaxis\":{\"backgroundcolor\":\"#E5ECF6\",\"gridcolor\":\"white\",\"linecolor\":\"white\",\"showbackground\":true,\"ticks\":\"\",\"zerolinecolor\":\"white\",\"gridwidth\":2},\"yaxis\":{\"backgroundcolor\":\"#E5ECF6\",\"gridcolor\":\"white\",\"linecolor\":\"white\",\"showbackground\":true,\"ticks\":\"\",\"zerolinecolor\":\"white\",\"gridwidth\":2},\"zaxis\":{\"backgroundcolor\":\"#E5ECF6\",\"gridcolor\":\"white\",\"linecolor\":\"white\",\"showbackground\":true,\"ticks\":\"\",\"zerolinecolor\":\"white\",\"gridwidth\":2}},\"shapedefaults\":{\"line\":{\"color\":\"#2a3f5f\"}},\"annotationdefaults\":{\"arrowcolor\":\"#2a3f5f\",\"arrowhead\":0,\"arrowwidth\":1},\"geo\":{\"bgcolor\":\"white\",\"landcolor\":\"#E5ECF6\",\"subunitcolor\":\"white\",\"showland\":true,\"showlakes\":true,\"lakecolor\":\"white\"},\"title\":{\"x\":0.05},\"mapbox\":{\"style\":\"light\"}}}},                        {\"responsive\": true}                    ).then(function(){\n",
       "                            \n",
       "var gd = document.getElementById('7c62c7e2-8bbd-4754-9ac6-7d1ba87044cc');\n",
       "var x = new MutationObserver(function (mutations, observer) {{\n",
       "        var display = window.getComputedStyle(gd).display;\n",
       "        if (!display || display === 'none') {{\n",
       "            console.log([gd, 'removed!']);\n",
       "            Plotly.purge(gd);\n",
       "            observer.disconnect();\n",
       "        }}\n",
       "}});\n",
       "\n",
       "// Listen for the removal of the full notebook cells\n",
       "var notebookContainer = gd.closest('#notebook-container');\n",
       "if (notebookContainer) {{\n",
       "    x.observe(notebookContainer, {childList: true});\n",
       "}}\n",
       "\n",
       "// Listen for the clearing of the current output cell\n",
       "var outputEl = gd.closest('.output');\n",
       "if (outputEl) {{\n",
       "    x.observe(outputEl, {childList: true});\n",
       "}}\n",
       "\n",
       "                        })                };                });            </script>        </div>"
      ]
     },
     "metadata": {},
     "output_type": "display_data"
    }
   ],
   "source": [
    "# test with Plotly\n",
    "fig = go.Figure()\n",
    "\n",
    "fig.add_trace(go.Scatter(x=df_median_per_class.index, y=df_median_per_class['lower margin'],\n",
    "                    mode='lines+markers',\n",
    "                    name='lines+markers'))\n",
    "fig.show()"
   ]
  },
  {
   "cell_type": "code",
   "execution_count": 188,
   "id": "83c959cb",
   "metadata": {},
   "outputs": [],
   "source": [
    "def median_per_class(feature):\n",
    "    palette = ['salmon', 'cornflowerblue', 'lightgreen', 'thistle', 'navajowhite', \n",
    "              'cadetblue', 'tan', 'lightpink', 'rebeccapurple', 'rosybrown']\n",
    "    def get_feature_index(feature):\n",
    "        cpt = 0\n",
    "        for column in list(df_median_per_class.columns):\n",
    "            if feature == column:\n",
    "                break\n",
    "            cpt += 1\n",
    "        return cpt\n",
    "    \n",
    "    fig = go.Figure(layout=go.Layout(\n",
    "        width=1000,  # Set the initial width in pixels\n",
    "        height=600  # Set the initial height in pixels\n",
    "    ))\n",
    "    fig.add_trace(go.Scatter(x=df_median_per_class.index.astype(str), y=df_median_per_class[feature],\n",
    "                             mode='lines+markers',\n",
    "                             name='lines+markers',\n",
    "                             line=dict(color=palette[get_feature_index(feature)],\n",
    "                                      width=1.5),\n",
    "                            marker=dict(size=8.5)))\n",
    "    fig.update_layout(title=f'{feature.title()} Median per Class')\n",
    "    \n",
    "    plot = pn.pane.Plotly(fig)\n",
    "    return plot"
   ]
  },
  {
   "cell_type": "code",
   "execution_count": 189,
   "id": "d31902c8",
   "metadata": {},
   "outputs": [
    {
     "data": {},
     "metadata": {},
     "output_type": "display_data"
    },
    {
     "data": {
      "application/vnd.holoviews_exec.v0+json": "",
      "text/html": [
       "<div id='1561'>\n",
       "  <div class=\"bk-root\" id=\"89abe1f6-c65e-4010-8cf4-0a68123d7662\" data-root-id=\"1561\"></div>\n",
       "</div>\n",
       "<script type=\"application/javascript\">(function(root) {\n",
       "  function embed_document(root) {\n",
       "    var docs_json = {\"18e8cc29-aeaa-4943-a1f9-1bcf2db0314d\":{\"defs\":[{\"extends\":null,\"module\":null,\"name\":\"ReactiveHTML1\",\"overrides\":[],\"properties\":[]},{\"extends\":null,\"module\":null,\"name\":\"FlexBox1\",\"overrides\":[],\"properties\":[{\"default\":\"flex-start\",\"kind\":null,\"name\":\"align_content\"},{\"default\":\"flex-start\",\"kind\":null,\"name\":\"align_items\"},{\"default\":\"row\",\"kind\":null,\"name\":\"flex_direction\"},{\"default\":\"wrap\",\"kind\":null,\"name\":\"flex_wrap\"},{\"default\":\"flex-start\",\"kind\":null,\"name\":\"justify_content\"}]},{\"extends\":null,\"module\":null,\"name\":\"GridStack1\",\"overrides\":[],\"properties\":[{\"default\":\"warn\",\"kind\":null,\"name\":\"mode\"},{\"default\":null,\"kind\":null,\"name\":\"ncols\"},{\"default\":null,\"kind\":null,\"name\":\"nrows\"},{\"default\":true,\"kind\":null,\"name\":\"allow_resize\"},{\"default\":true,\"kind\":null,\"name\":\"allow_drag\"},{\"default\":[],\"kind\":null,\"name\":\"state\"}]},{\"extends\":null,\"module\":null,\"name\":\"click1\",\"overrides\":[],\"properties\":[{\"default\":\"\",\"kind\":null,\"name\":\"terminal_output\"},{\"default\":\"\",\"kind\":null,\"name\":\"debug_name\"},{\"default\":0,\"kind\":null,\"name\":\"clears\"}]},{\"extends\":null,\"module\":null,\"name\":\"NotificationAreaBase1\",\"overrides\":[],\"properties\":[{\"default\":\"bottom-right\",\"kind\":null,\"name\":\"position\"},{\"default\":0,\"kind\":null,\"name\":\"_clear\"}]},{\"extends\":null,\"module\":null,\"name\":\"NotificationArea1\",\"overrides\":[],\"properties\":[{\"default\":[],\"kind\":null,\"name\":\"notifications\"},{\"default\":\"bottom-right\",\"kind\":null,\"name\":\"position\"},{\"default\":0,\"kind\":null,\"name\":\"_clear\"},{\"default\":[{\"background\":\"#ffc107\",\"icon\":{\"className\":\"fas fa-exclamation-triangle\",\"color\":\"white\",\"tagName\":\"i\"},\"type\":\"warning\"},{\"background\":\"#007bff\",\"icon\":{\"className\":\"fas fa-info-circle\",\"color\":\"white\",\"tagName\":\"i\"},\"type\":\"info\"}],\"kind\":null,\"name\":\"types\"}]},{\"extends\":null,\"module\":null,\"name\":\"Notification\",\"overrides\":[],\"properties\":[{\"default\":null,\"kind\":null,\"name\":\"background\"},{\"default\":3000,\"kind\":null,\"name\":\"duration\"},{\"default\":null,\"kind\":null,\"name\":\"icon\"},{\"default\":\"\",\"kind\":null,\"name\":\"message\"},{\"default\":null,\"kind\":null,\"name\":\"notification_type\"},{\"default\":false,\"kind\":null,\"name\":\"_destroyed\"}]},{\"extends\":null,\"module\":null,\"name\":\"TemplateActions1\",\"overrides\":[],\"properties\":[{\"default\":0,\"kind\":null,\"name\":\"open_modal\"},{\"default\":0,\"kind\":null,\"name\":\"close_modal\"}]},{\"extends\":null,\"module\":null,\"name\":\"MaterialTemplateActions1\",\"overrides\":[],\"properties\":[{\"default\":0,\"kind\":null,\"name\":\"open_modal\"},{\"default\":0,\"kind\":null,\"name\":\"close_modal\"}]}],\"roots\":{\"references\":[{\"attributes\":{\"client_comm_id\":\"eb053e1f64054931b5a7b2ea24c5610e\",\"comm_id\":\"5e1bf946e22041fda1f4b733a5ef167e\",\"plot_id\":\"1561\"},\"id\":\"1562\",\"type\":\"panel.models.comm_manager.CommManager\"},{\"attributes\":{\"margin\":[5,10,5,10],\"options\":[\"intercolumnar distance\",\"upper margin\",\"lower margin\",\"exploitation\",\"row number\",\"modular ratio\",\"interlinear spacing\",\"weight\",\"peak number\",\"modular ratio / interlinear spacing\"],\"title\":\"Feature to get the median\",\"value\":\"intercolumnar distance\"},\"id\":\"1561\",\"type\":\"panel.models.widgets.CustomSelect\"}],\"root_ids\":[\"1561\",\"1562\"]},\"title\":\"Bokeh Application\",\"version\":\"2.4.3\"}};\n",
       "    var render_items = [{\"docid\":\"18e8cc29-aeaa-4943-a1f9-1bcf2db0314d\",\"root_ids\":[\"1561\"],\"roots\":{\"1561\":\"89abe1f6-c65e-4010-8cf4-0a68123d7662\"}}];\n",
       "    root.Bokeh.embed.embed_items_notebook(docs_json, render_items);\n",
       "  }\n",
       "  if (root.Bokeh !== undefined && root.Bokeh.Panel !== undefined && ( root['Plotly'] !== undefined)) {\n",
       "    embed_document(root);\n",
       "  } else {\n",
       "    var attempts = 0;\n",
       "    var timer = setInterval(function(root) {\n",
       "      if (root.Bokeh !== undefined && root.Bokeh.Panel !== undefined && (root['Plotly'] !== undefined)) {\n",
       "        clearInterval(timer);\n",
       "        embed_document(root);\n",
       "      } else if (document.readyState == \"complete\") {\n",
       "        attempts++;\n",
       "        if (attempts > 200) {\n",
       "          clearInterval(timer);\n",
       "          console.log(\"Bokeh: ERROR: Unable to run BokehJS code because BokehJS library is missing\");\n",
       "        }\n",
       "      }\n",
       "    }, 25, root)\n",
       "  }\n",
       "})(window);</script>"
      ],
      "text/plain": [
       "Select(name='Feature to get t..., options=['intercolumnar distance',...], value='intercolumnar distance')"
      ]
     },
     "execution_count": 189,
     "metadata": {
      "application/vnd.holoviews_exec.v0+json": {
       "id": "1561"
      }
     },
     "output_type": "execute_result"
    }
   ],
   "source": [
    "features = pn.widgets.Select(name='Feature to get the median', \n",
    "                             options=list(avila.drop('class', axis=1).columns), value='intercolumnar distance')\n",
    "features"
   ]
  },
  {
   "cell_type": "code",
   "execution_count": 190,
   "id": "21ff1c3d",
   "metadata": {},
   "outputs": [],
   "source": [
    "interactive_plot = pn.bind(median_per_class, features)"
   ]
  },
  {
   "cell_type": "code",
   "execution_count": 191,
   "id": "11ab5338",
   "metadata": {},
   "outputs": [
    {
     "data": {},
     "metadata": {},
     "output_type": "display_data"
    },
    {
     "data": {
      "application/vnd.holoviews_exec.v0+json": "",
      "text/html": [
       "<div id='1563'>\n",
       "  <div class=\"bk-root\" id=\"091b53c8-e5ae-45b9-924e-3f28761cc6b0\" data-root-id=\"1563\"></div>\n",
       "</div>\n",
       "<script type=\"application/javascript\">(function(root) {\n",
       "  function embed_document(root) {\n",
       "    var docs_json = {\"cb1d33f1-6555-4597-98b1-969d97c40f49\":{\"defs\":[{\"extends\":null,\"module\":null,\"name\":\"ReactiveHTML1\",\"overrides\":[],\"properties\":[]},{\"extends\":null,\"module\":null,\"name\":\"FlexBox1\",\"overrides\":[],\"properties\":[{\"default\":\"flex-start\",\"kind\":null,\"name\":\"align_content\"},{\"default\":\"flex-start\",\"kind\":null,\"name\":\"align_items\"},{\"default\":\"row\",\"kind\":null,\"name\":\"flex_direction\"},{\"default\":\"wrap\",\"kind\":null,\"name\":\"flex_wrap\"},{\"default\":\"flex-start\",\"kind\":null,\"name\":\"justify_content\"}]},{\"extends\":null,\"module\":null,\"name\":\"GridStack1\",\"overrides\":[],\"properties\":[{\"default\":\"warn\",\"kind\":null,\"name\":\"mode\"},{\"default\":null,\"kind\":null,\"name\":\"ncols\"},{\"default\":null,\"kind\":null,\"name\":\"nrows\"},{\"default\":true,\"kind\":null,\"name\":\"allow_resize\"},{\"default\":true,\"kind\":null,\"name\":\"allow_drag\"},{\"default\":[],\"kind\":null,\"name\":\"state\"}]},{\"extends\":null,\"module\":null,\"name\":\"click1\",\"overrides\":[],\"properties\":[{\"default\":\"\",\"kind\":null,\"name\":\"terminal_output\"},{\"default\":\"\",\"kind\":null,\"name\":\"debug_name\"},{\"default\":0,\"kind\":null,\"name\":\"clears\"}]},{\"extends\":null,\"module\":null,\"name\":\"NotificationAreaBase1\",\"overrides\":[],\"properties\":[{\"default\":\"bottom-right\",\"kind\":null,\"name\":\"position\"},{\"default\":0,\"kind\":null,\"name\":\"_clear\"}]},{\"extends\":null,\"module\":null,\"name\":\"NotificationArea1\",\"overrides\":[],\"properties\":[{\"default\":[],\"kind\":null,\"name\":\"notifications\"},{\"default\":\"bottom-right\",\"kind\":null,\"name\":\"position\"},{\"default\":0,\"kind\":null,\"name\":\"_clear\"},{\"default\":[{\"background\":\"#ffc107\",\"icon\":{\"className\":\"fas fa-exclamation-triangle\",\"color\":\"white\",\"tagName\":\"i\"},\"type\":\"warning\"},{\"background\":\"#007bff\",\"icon\":{\"className\":\"fas fa-info-circle\",\"color\":\"white\",\"tagName\":\"i\"},\"type\":\"info\"}],\"kind\":null,\"name\":\"types\"}]},{\"extends\":null,\"module\":null,\"name\":\"Notification\",\"overrides\":[],\"properties\":[{\"default\":null,\"kind\":null,\"name\":\"background\"},{\"default\":3000,\"kind\":null,\"name\":\"duration\"},{\"default\":null,\"kind\":null,\"name\":\"icon\"},{\"default\":\"\",\"kind\":null,\"name\":\"message\"},{\"default\":null,\"kind\":null,\"name\":\"notification_type\"},{\"default\":false,\"kind\":null,\"name\":\"_destroyed\"}]},{\"extends\":null,\"module\":null,\"name\":\"TemplateActions1\",\"overrides\":[],\"properties\":[{\"default\":0,\"kind\":null,\"name\":\"open_modal\"},{\"default\":0,\"kind\":null,\"name\":\"close_modal\"}]},{\"extends\":null,\"module\":null,\"name\":\"MaterialTemplateActions1\",\"overrides\":[],\"properties\":[{\"default\":0,\"kind\":null,\"name\":\"open_modal\"},{\"default\":0,\"kind\":null,\"name\":\"close_modal\"}]}],\"roots\":{\"references\":[{\"attributes\":{},\"id\":\"1570\",\"type\":\"Selection\"},{\"attributes\":{\"children\":[{\"id\":\"1564\"},{\"id\":\"1566\"}],\"margin\":[0,0,0,0],\"name\":\"Column00596\"},\"id\":\"1563\",\"type\":\"Column\"},{\"attributes\":{\"children\":[{\"id\":\"1568\"}],\"margin\":[0,0,0,0],\"name\":\"Row00593\"},\"id\":\"1566\",\"type\":\"Row\"},{\"attributes\":{\"data\":[{\"line\":{\"color\":\"salmon\",\"width\":1.5},\"marker\":{\"size\":8.5},\"mode\":\"lines+markers\",\"name\":\"lines+markers\",\"type\":\"scatter\"}],\"data_sources\":[{\"id\":\"1567\"}],\"layout\":{\"height\":600,\"template\":{\"data\":{\"bar\":[{\"error_x\":{\"color\":\"#2a3f5f\"},\"error_y\":{\"color\":\"#2a3f5f\"},\"marker\":{\"line\":{\"color\":\"#E5ECF6\",\"width\":0.5},\"pattern\":{\"fillmode\":\"overlay\",\"size\":10,\"solidity\":0.2}},\"type\":\"bar\"}],\"barpolar\":[{\"marker\":{\"line\":{\"color\":\"#E5ECF6\",\"width\":0.5},\"pattern\":{\"fillmode\":\"overlay\",\"size\":10,\"solidity\":0.2}},\"type\":\"barpolar\"}],\"carpet\":[{\"aaxis\":{\"endlinecolor\":\"#2a3f5f\",\"gridcolor\":\"white\",\"linecolor\":\"white\",\"minorgridcolor\":\"white\",\"startlinecolor\":\"#2a3f5f\"},\"baxis\":{\"endlinecolor\":\"#2a3f5f\",\"gridcolor\":\"white\",\"linecolor\":\"white\",\"minorgridcolor\":\"white\",\"startlinecolor\":\"#2a3f5f\"},\"type\":\"carpet\"}],\"choropleth\":[{\"colorbar\":{\"outlinewidth\":0,\"ticks\":\"\"},\"type\":\"choropleth\"}],\"contour\":[{\"colorbar\":{\"outlinewidth\":0,\"ticks\":\"\"},\"colorscale\":[[0.0,\"#0d0887\"],[0.1111111111111111,\"#46039f\"],[0.2222222222222222,\"#7201a8\"],[0.3333333333333333,\"#9c179e\"],[0.4444444444444444,\"#bd3786\"],[0.5555555555555556,\"#d8576b\"],[0.6666666666666666,\"#ed7953\"],[0.7777777777777778,\"#fb9f3a\"],[0.8888888888888888,\"#fdca26\"],[1.0,\"#f0f921\"]],\"type\":\"contour\"}],\"contourcarpet\":[{\"colorbar\":{\"outlinewidth\":0,\"ticks\":\"\"},\"type\":\"contourcarpet\"}],\"heatmap\":[{\"colorbar\":{\"outlinewidth\":0,\"ticks\":\"\"},\"colorscale\":[[0.0,\"#0d0887\"],[0.1111111111111111,\"#46039f\"],[0.2222222222222222,\"#7201a8\"],[0.3333333333333333,\"#9c179e\"],[0.4444444444444444,\"#bd3786\"],[0.5555555555555556,\"#d8576b\"],[0.6666666666666666,\"#ed7953\"],[0.7777777777777778,\"#fb9f3a\"],[0.8888888888888888,\"#fdca26\"],[1.0,\"#f0f921\"]],\"type\":\"heatmap\"}],\"heatmapgl\":[{\"colorbar\":{\"outlinewidth\":0,\"ticks\":\"\"},\"colorscale\":[[0.0,\"#0d0887\"],[0.1111111111111111,\"#46039f\"],[0.2222222222222222,\"#7201a8\"],[0.3333333333333333,\"#9c179e\"],[0.4444444444444444,\"#bd3786\"],[0.5555555555555556,\"#d8576b\"],[0.6666666666666666,\"#ed7953\"],[0.7777777777777778,\"#fb9f3a\"],[0.8888888888888888,\"#fdca26\"],[1.0,\"#f0f921\"]],\"type\":\"heatmapgl\"}],\"histogram\":[{\"marker\":{\"pattern\":{\"fillmode\":\"overlay\",\"size\":10,\"solidity\":0.2}},\"type\":\"histogram\"}],\"histogram2d\":[{\"colorbar\":{\"outlinewidth\":0,\"ticks\":\"\"},\"colorscale\":[[0.0,\"#0d0887\"],[0.1111111111111111,\"#46039f\"],[0.2222222222222222,\"#7201a8\"],[0.3333333333333333,\"#9c179e\"],[0.4444444444444444,\"#bd3786\"],[0.5555555555555556,\"#d8576b\"],[0.6666666666666666,\"#ed7953\"],[0.7777777777777778,\"#fb9f3a\"],[0.8888888888888888,\"#fdca26\"],[1.0,\"#f0f921\"]],\"type\":\"histogram2d\"}],\"histogram2dcontour\":[{\"colorbar\":{\"outlinewidth\":0,\"ticks\":\"\"},\"colorscale\":[[0.0,\"#0d0887\"],[0.1111111111111111,\"#46039f\"],[0.2222222222222222,\"#7201a8\"],[0.3333333333333333,\"#9c179e\"],[0.4444444444444444,\"#bd3786\"],[0.5555555555555556,\"#d8576b\"],[0.6666666666666666,\"#ed7953\"],[0.7777777777777778,\"#fb9f3a\"],[0.8888888888888888,\"#fdca26\"],[1.0,\"#f0f921\"]],\"type\":\"histogram2dcontour\"}],\"mesh3d\":[{\"colorbar\":{\"outlinewidth\":0,\"ticks\":\"\"},\"type\":\"mesh3d\"}],\"parcoords\":[{\"line\":{\"colorbar\":{\"outlinewidth\":0,\"ticks\":\"\"}},\"type\":\"parcoords\"}],\"pie\":[{\"automargin\":true,\"type\":\"pie\"}],\"scatter\":[{\"fillpattern\":{\"fillmode\":\"overlay\",\"size\":10,\"solidity\":0.2},\"type\":\"scatter\"}],\"scatter3d\":[{\"line\":{\"colorbar\":{\"outlinewidth\":0,\"ticks\":\"\"}},\"marker\":{\"colorbar\":{\"outlinewidth\":0,\"ticks\":\"\"}},\"type\":\"scatter3d\"}],\"scattercarpet\":[{\"marker\":{\"colorbar\":{\"outlinewidth\":0,\"ticks\":\"\"}},\"type\":\"scattercarpet\"}],\"scattergeo\":[{\"marker\":{\"colorbar\":{\"outlinewidth\":0,\"ticks\":\"\"}},\"type\":\"scattergeo\"}],\"scattergl\":[{\"marker\":{\"colorbar\":{\"outlinewidth\":0,\"ticks\":\"\"}},\"type\":\"scattergl\"}],\"scattermapbox\":[{\"marker\":{\"colorbar\":{\"outlinewidth\":0,\"ticks\":\"\"}},\"type\":\"scattermapbox\"}],\"scatterpolar\":[{\"marker\":{\"colorbar\":{\"outlinewidth\":0,\"ticks\":\"\"}},\"type\":\"scatterpolar\"}],\"scatterpolargl\":[{\"marker\":{\"colorbar\":{\"outlinewidth\":0,\"ticks\":\"\"}},\"type\":\"scatterpolargl\"}],\"scatterternary\":[{\"marker\":{\"colorbar\":{\"outlinewidth\":0,\"ticks\":\"\"}},\"type\":\"scatterternary\"}],\"surface\":[{\"colorbar\":{\"outlinewidth\":0,\"ticks\":\"\"},\"colorscale\":[[0.0,\"#0d0887\"],[0.1111111111111111,\"#46039f\"],[0.2222222222222222,\"#7201a8\"],[0.3333333333333333,\"#9c179e\"],[0.4444444444444444,\"#bd3786\"],[0.5555555555555556,\"#d8576b\"],[0.6666666666666666,\"#ed7953\"],[0.7777777777777778,\"#fb9f3a\"],[0.8888888888888888,\"#fdca26\"],[1.0,\"#f0f921\"]],\"type\":\"surface\"}],\"table\":[{\"cells\":{\"fill\":{\"color\":\"#EBF0F8\"},\"line\":{\"color\":\"white\"}},\"header\":{\"fill\":{\"color\":\"#C8D4E3\"},\"line\":{\"color\":\"white\"}},\"type\":\"table\"}]},\"layout\":{\"annotationdefaults\":{\"arrowcolor\":\"#2a3f5f\",\"arrowhead\":0,\"arrowwidth\":1},\"autotypenumbers\":\"strict\",\"coloraxis\":{\"colorbar\":{\"outlinewidth\":0,\"ticks\":\"\"}},\"colorscale\":{\"diverging\":[[0,\"#8e0152\"],[0.1,\"#c51b7d\"],[0.2,\"#de77ae\"],[0.3,\"#f1b6da\"],[0.4,\"#fde0ef\"],[0.5,\"#f7f7f7\"],[0.6,\"#e6f5d0\"],[0.7,\"#b8e186\"],[0.8,\"#7fbc41\"],[0.9,\"#4d9221\"],[1,\"#276419\"]],\"sequential\":[[0.0,\"#0d0887\"],[0.1111111111111111,\"#46039f\"],[0.2222222222222222,\"#7201a8\"],[0.3333333333333333,\"#9c179e\"],[0.4444444444444444,\"#bd3786\"],[0.5555555555555556,\"#d8576b\"],[0.6666666666666666,\"#ed7953\"],[0.7777777777777778,\"#fb9f3a\"],[0.8888888888888888,\"#fdca26\"],[1.0,\"#f0f921\"]],\"sequentialminus\":[[0.0,\"#0d0887\"],[0.1111111111111111,\"#46039f\"],[0.2222222222222222,\"#7201a8\"],[0.3333333333333333,\"#9c179e\"],[0.4444444444444444,\"#bd3786\"],[0.5555555555555556,\"#d8576b\"],[0.6666666666666666,\"#ed7953\"],[0.7777777777777778,\"#fb9f3a\"],[0.8888888888888888,\"#fdca26\"],[1.0,\"#f0f921\"]]},\"colorway\":[\"#636efa\",\"#EF553B\",\"#00cc96\",\"#ab63fa\",\"#FFA15A\",\"#19d3f3\",\"#FF6692\",\"#B6E880\",\"#FF97FF\",\"#FECB52\"],\"font\":{\"color\":\"#2a3f5f\"},\"geo\":{\"bgcolor\":\"white\",\"lakecolor\":\"white\",\"landcolor\":\"#E5ECF6\",\"showlakes\":true,\"showland\":true,\"subunitcolor\":\"white\"},\"hoverlabel\":{\"align\":\"left\"},\"hovermode\":\"closest\",\"mapbox\":{\"style\":\"light\"},\"paper_bgcolor\":\"white\",\"plot_bgcolor\":\"#E5ECF6\",\"polar\":{\"angularaxis\":{\"gridcolor\":\"white\",\"linecolor\":\"white\",\"ticks\":\"\"},\"bgcolor\":\"#E5ECF6\",\"radialaxis\":{\"gridcolor\":\"white\",\"linecolor\":\"white\",\"ticks\":\"\"}},\"scene\":{\"xaxis\":{\"backgroundcolor\":\"#E5ECF6\",\"gridcolor\":\"white\",\"gridwidth\":2,\"linecolor\":\"white\",\"showbackground\":true,\"ticks\":\"\",\"zerolinecolor\":\"white\"},\"yaxis\":{\"backgroundcolor\":\"#E5ECF6\",\"gridcolor\":\"white\",\"gridwidth\":2,\"linecolor\":\"white\",\"showbackground\":true,\"ticks\":\"\",\"zerolinecolor\":\"white\"},\"zaxis\":{\"backgroundcolor\":\"#E5ECF6\",\"gridcolor\":\"white\",\"gridwidth\":2,\"linecolor\":\"white\",\"showbackground\":true,\"ticks\":\"\",\"zerolinecolor\":\"white\"}},\"shapedefaults\":{\"line\":{\"color\":\"#2a3f5f\"}},\"ternary\":{\"aaxis\":{\"gridcolor\":\"white\",\"linecolor\":\"white\",\"ticks\":\"\"},\"baxis\":{\"gridcolor\":\"white\",\"linecolor\":\"white\",\"ticks\":\"\"},\"bgcolor\":\"#E5ECF6\",\"caxis\":{\"gridcolor\":\"white\",\"linecolor\":\"white\",\"ticks\":\"\"}},\"title\":{\"x\":0.05},\"xaxis\":{\"automargin\":true,\"gridcolor\":\"white\",\"linecolor\":\"white\",\"ticks\":\"\",\"title\":{\"standoff\":15},\"zerolinecolor\":\"white\",\"zerolinewidth\":2},\"yaxis\":{\"automargin\":true,\"gridcolor\":\"white\",\"linecolor\":\"white\",\"ticks\":\"\",\"title\":{\"standoff\":15},\"zerolinecolor\":\"white\",\"zerolinewidth\":2}}},\"title\":{\"text\":\"Intercolumnar Distance Median per Class\"},\"width\":1000},\"margin\":[5,5,5,5],\"name\":\"Plotly00594\",\"viewport_update_throttle\":200},\"id\":\"1568\",\"type\":\"panel.models.plotly.PlotlyPlot\"},{\"attributes\":{},\"id\":\"1569\",\"type\":\"UnionRenderers\"},{\"attributes\":{\"client_comm_id\":\"ca948b1f8749479b9029fa043cfd3288\",\"comm_id\":\"33fd9665a20a4fc991f6f9fdec9522d1\",\"plot_id\":\"1563\"},\"id\":\"1575\",\"type\":\"panel.models.comm_manager.CommManager\"},{\"attributes\":{\"data\":{\"x\":[[\"0\",\"1\",\"2\",\"3\",\"4\",\"5\",\"6\",\"7\",\"8\",\"9\",\"10\",\"11\"]],\"y\":[{\"__ndarray__\":\"HqhTHt0Iuz8VxEDXvoDAv37/5sWJr7q/vsCsUKT7yb8UBfpEniTNv/RuLCgMyqw/R+aRPxh4pj/0biwoDMqsP0FjJlEv+OM/V81zRL5L5r+dDflnBvHQvxXEQNe+gMC/\",\"dtype\":\"float64\",\"order\":\"little\",\"shape\":[12]}]},\"selected\":{\"id\":\"1570\"},\"selection_policy\":{\"id\":\"1569\"}},\"id\":\"1567\",\"type\":\"ColumnDataSource\"},{\"attributes\":{\"children\":[{\"id\":\"1565\"}],\"css_classes\":[\"panel-widget-box\"],\"margin\":[5,5,5,5],\"name\":\"WidgetBox00588\"},\"id\":\"1564\",\"type\":\"Column\"},{\"attributes\":{\"margin\":[5,10,5,10],\"options\":[\"intercolumnar distance\",\"upper margin\",\"lower margin\",\"exploitation\",\"row number\",\"modular ratio\",\"interlinear spacing\",\"weight\",\"peak number\",\"modular ratio / interlinear spacing\"],\"title\":\"Feature to get the median\",\"value\":\"intercolumnar distance\"},\"id\":\"1565\",\"type\":\"panel.models.widgets.CustomSelect\"}],\"root_ids\":[\"1563\",\"1575\"]},\"title\":\"Bokeh Application\",\"version\":\"2.4.3\"}};\n",
       "    var render_items = [{\"docid\":\"cb1d33f1-6555-4597-98b1-969d97c40f49\",\"root_ids\":[\"1563\"],\"roots\":{\"1563\":\"091b53c8-e5ae-45b9-924e-3f28761cc6b0\"}}];\n",
       "    root.Bokeh.embed.embed_items_notebook(docs_json, render_items);\n",
       "  }\n",
       "  if (root.Bokeh !== undefined && root.Bokeh.Panel !== undefined && ( root['Plotly'] !== undefined)) {\n",
       "    embed_document(root);\n",
       "  } else {\n",
       "    var attempts = 0;\n",
       "    var timer = setInterval(function(root) {\n",
       "      if (root.Bokeh !== undefined && root.Bokeh.Panel !== undefined && (root['Plotly'] !== undefined)) {\n",
       "        clearInterval(timer);\n",
       "        embed_document(root);\n",
       "      } else if (document.readyState == \"complete\") {\n",
       "        attempts++;\n",
       "        if (attempts > 200) {\n",
       "          clearInterval(timer);\n",
       "          console.log(\"Bokeh: ERROR: Unable to run BokehJS code because BokehJS library is missing\");\n",
       "        }\n",
       "      }\n",
       "    }, 25, root)\n",
       "  }\n",
       "})(window);</script>"
      ],
      "text/plain": [
       "Column\n",
       "    [0] WidgetBox\n",
       "        [0] Select(name='Feature to get t..., options=['intercolumnar distance',...], value='intercolumnar distance')\n",
       "    [1] ParamFunction(function)"
      ]
     },
     "execution_count": 191,
     "metadata": {
      "application/vnd.holoviews_exec.v0+json": {
       "id": "1563"
      }
     },
     "output_type": "execute_result"
    }
   ],
   "source": [
    "plots = pn.Column(pn.WidgetBox(features),\n",
    "                  interactive_plot)\n",
    "plots"
   ]
  },
  {
   "cell_type": "markdown",
   "id": "197a968a",
   "metadata": {},
   "source": [
    "<a name=\"modeling\">\n",
    "    <h2>3. Modeling</h2>\n",
    "</a>\n",
    "Using the scikit-learn library to try several algorithms, change the hyper parameters, do a grid search, compare the results of your models using graphics"
   ]
  },
  {
   "cell_type": "code",
   "execution_count": 220,
   "id": "00d83dc7",
   "metadata": {},
   "outputs": [],
   "source": [
    "# Classification models\n",
    "from sklearn.linear_model import LogisticRegression\n",
    "from sklearn.ensemble import RandomForestClassifier\n",
    "from sklearn.svm import SVC\n",
    "from sklearn.neighbors import KNeighborsClassifier\n",
    "from sklearn.naive_bayes import GaussianNB\n",
    "from sklearn.neural_network import MLPClassifier\n",
    "from sklearn.tree import DecisionTreeClassifier\n",
    "from sklearn.discriminant_analysis import LinearDiscriminantAnalysis\n",
    "from sklearn.ensemble import AdaBoostClassifier, BaggingClassifier\n",
    "from sklearn.gaussian_process import GaussianProcessClassifier\n",
    "from sklearn.gaussian_process.kernels import RBF\n",
    "\n",
    "# Other necessary imports\n",
    "from sklearn.model_selection import cross_val_score\n",
    "\n",
    "## Metrics\n",
    "from sklearn.metrics import classification_report, matthews_corrcoef, multilabel_confusion_matrix, log_loss"
   ]
  },
  {
   "cell_type": "markdown",
   "id": "99d5a18d",
   "metadata": {},
   "source": [
    "### 3.0 Reporting the possible classifiers"
   ]
  },
  {
   "cell_type": "code",
   "execution_count": 221,
   "id": "ba9d99e0",
   "metadata": {},
   "outputs": [],
   "source": [
    "classifiers = {\n",
    "    'Logistic Regression': LogisticRegression(random_state=42),\n",
    "    'Random Forest': RandomForestClassifier(random_state=42),\n",
    "    'Gaussian Naive Bayes': GaussianNB(),\n",
    "    'KNN': KNeighborsClassifier(),\n",
    "    'Support Vector Machine (SVM)': SVC(random_state=42),\n",
    "    'Neural Network': MLPClassifier(random_state=42),\n",
    "    'Decision Tree': DecisionTreeClassifier(random_state=42),\n",
    "    'LDA': LinearDiscriminantAnalysis(),\n",
    "    'Ada Boost': AdaBoostClassifier(random_state=42),\n",
    "    'Bagging': BaggingClassifier(random_state=42),\n",
    "    #'Gaussian Process': GaussianProcessClassifier(),\n",
    "    #'RBF': RBF()\n",
    "}"
   ]
  },
  {
   "cell_type": "markdown",
   "id": "4dbbe725",
   "metadata": {},
   "source": [
    "### 3.1 Function definitions"
   ]
  },
  {
   "cell_type": "code",
   "execution_count": 222,
   "id": "ad911227",
   "metadata": {},
   "outputs": [],
   "source": [
    "def print_matrix(y_true, y_pred, name):\n",
    "    ConfusionMatrixDisplay.from_predictions(y_true, y_pred)\n",
    "    \n",
    "    plt.title(f\"Confusion matrix of the {name} model's data\")\n",
    "    #plt.legend()\n",
    "    plt.tight_layout()\n",
    "    plt.show()"
   ]
  },
  {
   "cell_type": "code",
   "execution_count": 223,
   "id": "9113168e",
   "metadata": {},
   "outputs": [],
   "source": [
    "def evalulate_model(model, name):\n",
    "    model.fit(x_train, y_train)\n",
    "    y_pred = model.predict(x_test)\n",
    "    matt = matthews_corrcoef(y_test, y_pred)\n",
    "    \n",
    "    print(f'------------------- {name} model -------------------')\n",
    "    print(classification_report(y_test, y_pred))\n",
    "    print(f'Matthews Correlation Coefficient (MCC): {matt}\\n\\n')\n",
    "    \n",
    "    return matt"
   ]
  },
  {
   "cell_type": "markdown",
   "id": "b083d0dd",
   "metadata": {},
   "source": [
    "### 3.2 Testing the models to find the most promising"
   ]
  },
  {
   "cell_type": "code",
   "execution_count": 224,
   "id": "1d0b0dbe",
   "metadata": {},
   "outputs": [],
   "source": [
    "import warnings\n",
    "warnings.filterwarnings('ignore')"
   ]
  },
  {
   "cell_type": "code",
   "execution_count": 225,
   "id": "b7660dfc",
   "metadata": {
    "scrolled": false
   },
   "outputs": [
    {
     "name": "stdout",
     "output_type": "stream",
     "text": [
      "------------------- Logistic Regression model -------------------\n",
      "              precision    recall  f1-score   support\n",
      "\n",
      "           0       0.53      0.94      0.68      4286\n",
      "           1       1.00      1.00      1.00         5\n",
      "           2       0.25      0.01      0.02       103\n",
      "           3       0.00      0.00      0.00       353\n",
      "           4       0.53      0.25      0.34      1095\n",
      "           5       0.37      0.09      0.15      1962\n",
      "           6       0.00      0.00      0.00       447\n",
      "           7       0.47      0.18      0.26       520\n",
      "           8       0.85      0.87      0.86       832\n",
      "           9       0.29      0.04      0.08        45\n",
      "          10       0.74      0.70      0.72       522\n",
      "          11       0.71      0.64      0.67       267\n",
      "\n",
      "    accuracy                           0.56     10437\n",
      "   macro avg       0.48      0.39      0.40     10437\n",
      "weighted avg       0.49      0.56      0.48     10437\n",
      "\n",
      "Matthews Correlation Coefficient (MCC): 0.40106551855587835\n",
      "\n",
      "\n",
      "------------------- Random Forest model -------------------\n",
      "              precision    recall  f1-score   support\n",
      "\n",
      "           0       0.98      0.99      0.98      4286\n",
      "           1       1.00      1.00      1.00         5\n",
      "           2       0.97      0.97      0.97       103\n",
      "           3       1.00      0.98      0.99       353\n",
      "           4       0.98      0.98      0.98      1095\n",
      "           5       0.99      0.97      0.98      1962\n",
      "           6       0.99      0.97      0.98       447\n",
      "           7       0.99      0.96      0.97       520\n",
      "           8       1.00      1.00      1.00       832\n",
      "           9       1.00      1.00      1.00        45\n",
      "          10       1.00      0.98      0.99       522\n",
      "          11       1.00      1.00      1.00       267\n",
      "\n",
      "    accuracy                           0.98     10437\n",
      "   macro avg       0.99      0.98      0.99     10437\n",
      "weighted avg       0.98      0.98      0.98     10437\n",
      "\n",
      "Matthews Correlation Coefficient (MCC): 0.9799608711443792\n",
      "\n",
      "\n",
      "------------------- Gaussian Naive Bayes model -------------------\n",
      "              precision    recall  f1-score   support\n",
      "\n",
      "           0       0.51      0.06      0.11      4286\n",
      "           1       1.00      1.00      1.00         5\n",
      "           2       0.05      0.08      0.06       103\n",
      "           3       0.15      0.24      0.19       353\n",
      "           4       0.26      0.09      0.13      1095\n",
      "           5       0.29      0.42      0.34      1962\n",
      "           6       0.15      0.70      0.25       447\n",
      "           7       0.22      0.82      0.34       520\n",
      "           8       0.72      0.68      0.70       832\n",
      "           9       0.12      0.51      0.20        45\n",
      "          10       0.46      0.66      0.55       522\n",
      "          11       0.46      0.38      0.42       267\n",
      "\n",
      "    accuracy                           0.29     10437\n",
      "   macro avg       0.37      0.47      0.36     10437\n",
      "weighted avg       0.41      0.29      0.25     10437\n",
      "\n",
      "Matthews Correlation Coefficient (MCC): 0.23375167869818958\n",
      "\n",
      "\n",
      "------------------- KNN model -------------------\n",
      "              precision    recall  f1-score   support\n",
      "\n",
      "           0       0.74      0.86      0.79      4286\n",
      "           1       1.00      1.00      1.00         5\n",
      "           2       0.64      0.33      0.44       103\n",
      "           3       0.77      0.51      0.61       353\n",
      "           4       0.76      0.65      0.70      1095\n",
      "           5       0.65      0.65      0.65      1962\n",
      "           6       0.71      0.53      0.60       447\n",
      "           7       0.72      0.52      0.60       520\n",
      "           8       0.96      0.93      0.95       832\n",
      "           9       1.00      0.44      0.62        45\n",
      "          10       0.93      0.82      0.87       522\n",
      "          11       0.83      0.75      0.78       267\n",
      "\n",
      "    accuracy                           0.75     10437\n",
      "   macro avg       0.81      0.67      0.72     10437\n",
      "weighted avg       0.75      0.75      0.74     10437\n",
      "\n",
      "Matthews Correlation Coefficient (MCC): 0.6668147503288695\n",
      "\n",
      "\n",
      "------------------- Support Vector Machine (SVM) model -------------------\n",
      "              precision    recall  f1-score   support\n",
      "\n",
      "           0       0.62      0.93      0.75      4286\n",
      "           1       1.00      1.00      1.00         5\n",
      "           2       1.00      0.04      0.07       103\n",
      "           3       0.88      0.04      0.08       353\n",
      "           4       0.67      0.66      0.66      1095\n",
      "           5       0.58      0.27      0.36      1962\n",
      "           6       0.68      0.34      0.46       447\n",
      "           7       0.72      0.40      0.51       520\n",
      "           8       0.98      0.96      0.97       832\n",
      "           9       1.00      0.20      0.33        45\n",
      "          10       0.89      0.81      0.85       522\n",
      "          11       0.84      0.75      0.79       267\n",
      "\n",
      "    accuracy                           0.67     10437\n",
      "   macro avg       0.82      0.53      0.57     10437\n",
      "weighted avg       0.69      0.67      0.63     10437\n",
      "\n",
      "Matthews Correlation Coefficient (MCC): 0.5673033941924198\n",
      "\n",
      "\n",
      "------------------- Neural Network model -------------------\n",
      "              precision    recall  f1-score   support\n",
      "\n",
      "           0       0.77      0.88      0.82      4286\n",
      "           1       1.00      1.00      1.00         5\n",
      "           2       0.78      0.41      0.54       103\n",
      "           3       0.74      0.60      0.66       353\n",
      "           4       0.75      0.77      0.76      1095\n",
      "           5       0.72      0.58      0.64      1962\n",
      "           6       0.67      0.60      0.63       447\n",
      "           7       0.77      0.70      0.73       520\n",
      "           8       0.99      0.97      0.98       832\n",
      "           9       0.95      0.84      0.89        45\n",
      "          10       0.92      0.86      0.89       522\n",
      "          11       0.85      0.89      0.87       267\n",
      "\n",
      "    accuracy                           0.78     10437\n",
      "   macro avg       0.83      0.76      0.78     10437\n",
      "weighted avg       0.78      0.78      0.78     10437\n",
      "\n",
      "Matthews Correlation Coefficient (MCC): 0.7153366456411582\n",
      "\n",
      "\n",
      "------------------- Decision Tree model -------------------\n",
      "              precision    recall  f1-score   support\n",
      "\n",
      "           0       0.98      0.98      0.98      4286\n",
      "           1       1.00      1.00      1.00         5\n",
      "           2       0.97      0.97      0.97       103\n",
      "           3       0.94      0.96      0.95       353\n",
      "           4       0.94      0.95      0.94      1095\n",
      "           5       0.98      0.98      0.98      1962\n",
      "           6       0.99      0.95      0.97       447\n",
      "           7       0.94      0.97      0.95       520\n",
      "           8       0.98      0.98      0.98       832\n",
      "           9       0.83      0.96      0.89        45\n",
      "          10       0.93      0.92      0.92       522\n",
      "          11       0.95      0.93      0.94       267\n",
      "\n",
      "    accuracy                           0.97     10437\n",
      "   macro avg       0.95      0.96      0.96     10437\n",
      "weighted avg       0.97      0.97      0.97     10437\n",
      "\n",
      "Matthews Correlation Coefficient (MCC): 0.9608171151174155\n",
      "\n",
      "\n",
      "------------------- LDA model -------------------\n",
      "              precision    recall  f1-score   support\n",
      "\n",
      "           0       0.49      0.92      0.64      4286\n",
      "           1       0.12      1.00      0.22         5\n",
      "           2       0.00      0.00      0.00       103\n",
      "           3       0.00      0.00      0.00       353\n",
      "           4       0.46      0.05      0.09      1095\n",
      "           5       0.32      0.06      0.10      1962\n",
      "           6       0.00      0.00      0.00       447\n",
      "           7       0.38      0.10      0.16       520\n",
      "           8       0.80      0.82      0.81       832\n",
      "           9       0.06      0.31      0.10        45\n",
      "          10       0.85      0.50      0.63       522\n",
      "          11       0.57      0.53      0.55       267\n",
      "\n",
      "    accuracy                           0.51     10437\n",
      "   macro avg       0.34      0.36      0.27     10437\n",
      "weighted avg       0.45      0.51      0.41     10437\n",
      "\n",
      "Matthews Correlation Coefficient (MCC): 0.31053671873917194\n",
      "\n",
      "\n",
      "------------------- Ada Boost model -------------------\n",
      "              precision    recall  f1-score   support\n",
      "\n",
      "           0       0.44      0.99      0.61      4286\n",
      "           1       0.00      0.00      0.00         5\n",
      "           2       0.00      0.00      0.00       103\n",
      "           3       0.00      0.00      0.00       353\n",
      "           4       0.00      0.00      0.00      1095\n",
      "           5       0.00      0.00      0.00      1962\n",
      "           6       0.00      0.00      0.00       447\n",
      "           7       0.00      0.00      0.00       520\n",
      "           8       0.97      0.88      0.92       832\n",
      "           9       0.00      0.00      0.00        45\n",
      "          10       0.00      0.00      0.00       522\n",
      "          11       0.00      0.00      0.00       267\n",
      "\n",
      "    accuracy                           0.48     10437\n",
      "   macro avg       0.12      0.16      0.13     10437\n",
      "weighted avg       0.26      0.48      0.32     10437\n",
      "\n",
      "Matthews Correlation Coefficient (MCC): 0.27574731352160475\n",
      "\n",
      "\n"
     ]
    },
    {
     "name": "stdout",
     "output_type": "stream",
     "text": [
      "------------------- Bagging model -------------------\n",
      "              precision    recall  f1-score   support\n",
      "\n",
      "           0       0.99      1.00      0.99      4286\n",
      "           1       1.00      1.00      1.00         5\n",
      "           2       0.97      1.00      0.99       103\n",
      "           3       0.97      0.96      0.97       353\n",
      "           4       0.97      0.97      0.97      1095\n",
      "           5       0.99      0.98      0.99      1962\n",
      "           6       1.00      0.98      0.99       447\n",
      "           7       0.98      0.97      0.98       520\n",
      "           8       1.00      0.99      1.00       832\n",
      "           9       0.90      0.98      0.94        45\n",
      "          10       0.94      0.95      0.95       522\n",
      "          11       0.99      0.92      0.95       267\n",
      "\n",
      "    accuracy                           0.98     10437\n",
      "   macro avg       0.97      0.98      0.98     10437\n",
      "weighted avg       0.98      0.98      0.98     10437\n",
      "\n",
      "Matthews Correlation Coefficient (MCC): 0.9795761996254195\n",
      "\n",
      "\n"
     ]
    }
   ],
   "source": [
    "coeffs = {}\n",
    "\n",
    "for name, model in classifiers.items():\n",
    "    coeffs[name] = evaluate_model(model, name)"
   ]
  },
  {
   "cell_type": "markdown",
   "id": "5045b638",
   "metadata": {},
   "source": [
    "#### 3.2.1 Matthews Correlation Coefficient (MCC)"
   ]
  },
  {
   "cell_type": "markdown",
   "id": "8c436a57",
   "metadata": {},
   "source": [
    "***explain MCC***"
   ]
  },
  {
   "cell_type": "code",
   "execution_count": 226,
   "id": "541c8f93",
   "metadata": {},
   "outputs": [
    {
     "data": {
      "text/html": [
       "<div>\n",
       "<style scoped>\n",
       "    .dataframe tbody tr th:only-of-type {\n",
       "        vertical-align: middle;\n",
       "    }\n",
       "\n",
       "    .dataframe tbody tr th {\n",
       "        vertical-align: top;\n",
       "    }\n",
       "\n",
       "    .dataframe thead th {\n",
       "        text-align: right;\n",
       "    }\n",
       "</style>\n",
       "<table border=\"1\" class=\"dataframe\">\n",
       "  <thead>\n",
       "    <tr style=\"text-align: right;\">\n",
       "      <th></th>\n",
       "      <th>MCC</th>\n",
       "    </tr>\n",
       "  </thead>\n",
       "  <tbody>\n",
       "    <tr>\n",
       "      <th>Logistic Regression</th>\n",
       "      <td>0.401066</td>\n",
       "    </tr>\n",
       "    <tr>\n",
       "      <th>Random Forest</th>\n",
       "      <td>0.979961</td>\n",
       "    </tr>\n",
       "    <tr>\n",
       "      <th>Gaussian Naive Bayes</th>\n",
       "      <td>0.233752</td>\n",
       "    </tr>\n",
       "    <tr>\n",
       "      <th>KNN</th>\n",
       "      <td>0.666815</td>\n",
       "    </tr>\n",
       "    <tr>\n",
       "      <th>Support Vector Machine (SVM)</th>\n",
       "      <td>0.567303</td>\n",
       "    </tr>\n",
       "    <tr>\n",
       "      <th>Neural Network</th>\n",
       "      <td>0.715337</td>\n",
       "    </tr>\n",
       "    <tr>\n",
       "      <th>Decision Tree</th>\n",
       "      <td>0.960817</td>\n",
       "    </tr>\n",
       "    <tr>\n",
       "      <th>LDA</th>\n",
       "      <td>0.310537</td>\n",
       "    </tr>\n",
       "    <tr>\n",
       "      <th>Ada Boost</th>\n",
       "      <td>0.275747</td>\n",
       "    </tr>\n",
       "    <tr>\n",
       "      <th>Bagging</th>\n",
       "      <td>0.979576</td>\n",
       "    </tr>\n",
       "  </tbody>\n",
       "</table>\n",
       "</div>"
      ],
      "text/plain": [
       "                                   MCC\n",
       "Logistic Regression           0.401066\n",
       "Random Forest                 0.979961\n",
       "Gaussian Naive Bayes          0.233752\n",
       "KNN                           0.666815\n",
       "Support Vector Machine (SVM)  0.567303\n",
       "Neural Network                0.715337\n",
       "Decision Tree                 0.960817\n",
       "LDA                           0.310537\n",
       "Ada Boost                     0.275747\n",
       "Bagging                       0.979576"
      ]
     },
     "execution_count": 226,
     "metadata": {},
     "output_type": "execute_result"
    }
   ],
   "source": [
    "coeff_df = pd.DataFrame.from_dict(coeffs, orient='index', columns=['MCC'])\n",
    "coeff_df"
   ]
  },
  {
   "cell_type": "code",
   "execution_count": 227,
   "id": "f611bc42",
   "metadata": {},
   "outputs": [
    {
     "data": {
      "text/html": [
       "<div>\n",
       "<style scoped>\n",
       "    .dataframe tbody tr th:only-of-type {\n",
       "        vertical-align: middle;\n",
       "    }\n",
       "\n",
       "    .dataframe tbody tr th {\n",
       "        vertical-align: top;\n",
       "    }\n",
       "\n",
       "    .dataframe thead th {\n",
       "        text-align: right;\n",
       "    }\n",
       "</style>\n",
       "<table border=\"1\" class=\"dataframe\">\n",
       "  <thead>\n",
       "    <tr style=\"text-align: right;\">\n",
       "      <th></th>\n",
       "      <th>MCC</th>\n",
       "    </tr>\n",
       "  </thead>\n",
       "  <tbody>\n",
       "    <tr>\n",
       "      <th>Random Forest</th>\n",
       "      <td>0.979961</td>\n",
       "    </tr>\n",
       "    <tr>\n",
       "      <th>Bagging</th>\n",
       "      <td>0.979576</td>\n",
       "    </tr>\n",
       "    <tr>\n",
       "      <th>Decision Tree</th>\n",
       "      <td>0.960817</td>\n",
       "    </tr>\n",
       "  </tbody>\n",
       "</table>\n",
       "</div>"
      ],
      "text/plain": [
       "                    MCC\n",
       "Random Forest  0.979961\n",
       "Bagging        0.979576\n",
       "Decision Tree  0.960817"
      ]
     },
     "execution_count": 227,
     "metadata": {},
     "output_type": "execute_result"
    }
   ],
   "source": [
    "coeff_df.sort_values(by='MCC', ascending=False).head(3)"
   ]
  },
  {
   "cell_type": "markdown",
   "id": "be890cbb",
   "metadata": {},
   "source": [
    "Three models stand out:\n",
    "* Random Forest\n",
    "* Decision Tree\n",
    "* Bagging"
   ]
  },
  {
   "cell_type": "markdown",
   "id": "6b9d1b6d",
   "metadata": {},
   "source": [
    "### 3.3 Finding the best hyperparameters"
   ]
  },
  {
   "cell_type": "code",
   "execution_count": 257,
   "id": "40b75326",
   "metadata": {},
   "outputs": [],
   "source": [
    "from sklearn.model_selection import GridSearchCV\n",
    "from sklearn.model_selection import learning_curve"
   ]
  },
  {
   "cell_type": "markdown",
   "id": "43938831",
   "metadata": {},
   "source": [
    "#### 3.3.1 Method to find the hyperparameters"
   ]
  },
  {
   "cell_type": "code",
   "execution_count": 240,
   "id": "2d339915",
   "metadata": {},
   "outputs": [],
   "source": [
    "def find_best_hyperparameters(model, param, x, y):\n",
    "    grid_search = GridSearchCV(model, param, cv=5)\n",
    "    grid_search.fit(x, y)\n",
    "    \n",
    "    best_params = grid_search.best_params_\n",
    "    best_model = grid_search.best_estimator_\n",
    "    best_score = grid_search.best_score_\n",
    "    return best_params, best_score, best_model"
   ]
  },
  {
   "cell_type": "code",
   "execution_count": 241,
   "id": "8effd8b9",
   "metadata": {},
   "outputs": [],
   "source": [
    "# method to compare the values of the test pool and the predicted ones\n",
    "def compare_values(test, pred):\n",
    "    sns.kdeplot(pred, color='r', label='Predicted Values')\n",
    "    sns.kdeplot(test, color='b', label='Actual Values')\n",
    "    plt.title('Actual vs Predicted Values', fontsize=12)\n",
    "    plt.xlabel('Values', fontsize=12)\n",
    "    plt.ylabel('Frequency', fontsize=12)\n",
    "    plt.legend(loc='upper left', fontsize=13)"
   ]
  },
  {
   "cell_type": "code",
   "execution_count": 269,
   "id": "bff294bd",
   "metadata": {},
   "outputs": [],
   "source": [
    "def show_learning_curve(model):\n",
    "    # learning curve\n",
    "    N, train_scores, test_scores = learning_curve(model, x_train, y_train,\n",
    "                                                  train_sizes=np.linspace(0.2, 1.0, 5), cv=5)\n",
    "    print(N)\n",
    "\n",
    "    plt.plot(N, train_scores.mean(axis=1), label='train')\n",
    "    plt.plot(N, test_scores.mean(axis=1), label='validation')\n",
    "    plt.xlabel('train_sizes')\n",
    "    plt.legend()"
   ]
  },
  {
   "cell_type": "markdown",
   "id": "b17d4074",
   "metadata": {},
   "source": [
    "#### 3.3.2 Random Forest Classifier"
   ]
  },
  {
   "cell_type": "code",
   "execution_count": 260,
   "id": "d9c29109",
   "metadata": {},
   "outputs": [
    {
     "data": {
      "text/plain": [
       "RandomForestClassifier(random_state=42)"
      ]
     },
     "execution_count": 260,
     "metadata": {},
     "output_type": "execute_result"
    }
   ],
   "source": [
    "rf_model = classifiers['Random Forest']\n",
    "rf_model"
   ]
  },
  {
   "cell_type": "code",
   "execution_count": 261,
   "id": "57cd830a",
   "metadata": {},
   "outputs": [],
   "source": [
    "param_grid = {\n",
    "    'n_estimators': [10, 100],\n",
    "    'criterion': ['gini', 'entropy','log_loss'],\n",
    "    'max_depth': [None, 1, 5],\n",
    "}"
   ]
  },
  {
   "cell_type": "code",
   "execution_count": 270,
   "id": "708799ea",
   "metadata": {},
   "outputs": [
    {
     "data": {
      "text/plain": [
       "({'criterion': 'gini', 'max_depth': None, 'n_estimators': 10},\n",
       " 0.9641418983700862,\n",
       " RandomForestClassifier(n_estimators=10, random_state=42))"
      ]
     },
     "execution_count": 270,
     "metadata": {},
     "output_type": "execute_result"
    }
   ],
   "source": [
    "best_params, best_score, best_model = find_best_hyperparameters(rf_model, param_grid, x_train, y_train)\n",
    "best_params, best_score, best_model"
   ]
  },
  {
   "cell_type": "code",
   "execution_count": 271,
   "id": "38506cef",
   "metadata": {},
   "outputs": [
    {
     "name": "stdout",
     "output_type": "stream",
     "text": [
      "Matthews Correlation Coefficient (MCC):  0.9562701475410874\n"
     ]
    },
    {
     "data": {
      "image/png": "[encoded data removed]",
      "text/plain": [
       "<Figure size 640x480 with 1 Axes>"
      ]
     },
     "metadata": {},
     "output_type": "display_data"
    }
   ],
   "source": [
    "forest_model = best_model\n",
    "forest_model.fit(x_train, y_train)\n",
    "forest_y_pred = forest_model.predict(x_test)\n",
    "print('Matthews Correlation Coefficient (MCC): ', matthews_corrcoef(y_test, forest_y_pred))\n",
    "\n",
    "# simple comparaison\n",
    "compare_values(y_test, forest_y_pred)"
   ]
  },
  {
   "cell_type": "code",
   "execution_count": 272,
   "id": "4a9cc812",
   "metadata": {},
   "outputs": [
    {
     "name": "stdout",
     "output_type": "stream",
     "text": [
      "[1668 3337 5006 6675 8344]\n"
     ]
    },
    {
     "data": {
      "image/png": "[encoded data removed]",
      "text/plain": [
       "<Figure size 640x480 with 1 Axes>"
      ]
     },
     "metadata": {},
     "output_type": "display_data"
    }
   ],
   "source": [
    "show_learning_curve(forest_model)"
   ]
  },
  {
   "cell_type": "markdown",
   "id": "a8d1a08d",
   "metadata": {},
   "source": [
    "#### 3.3.3 Decision Tree Classifier"
   ]
  },
  {
   "cell_type": "code",
   "execution_count": 273,
   "id": "bb51f19a",
   "metadata": {},
   "outputs": [
    {
     "data": {
      "text/plain": [
       "DecisionTreeClassifier(random_state=42)"
      ]
     },
     "execution_count": 273,
     "metadata": {},
     "output_type": "execute_result"
    }
   ],
   "source": [
    "tree_model = classifiers['Decision Tree']\n",
    "tree_model"
   ]
  },
  {
   "cell_type": "code",
   "execution_count": 274,
   "id": "10550be6",
   "metadata": {},
   "outputs": [],
   "source": [
    "param_grid = {\n",
    "    'criterion': ['gini', 'entropy','log_loss'],\n",
    "    'splitter': ['best', 'random'],\n",
    "    'max_depth': [None, 1, 5, 10]\n",
    "}"
   ]
  },
  {
   "cell_type": "code",
   "execution_count": 275,
   "id": "f7b9ceda",
   "metadata": {},
   "outputs": [
    {
     "data": {
      "text/plain": [
       "({'criterion': 'gini', 'max_depth': None, 'splitter': 'best'},\n",
       " 0.9627037392138064,\n",
       " DecisionTreeClassifier(random_state=42))"
      ]
     },
     "execution_count": 275,
     "metadata": {},
     "output_type": "execute_result"
    }
   ],
   "source": [
    "best_params, best_score, best_model = find_best_hyperparameters(tree_model, param_grid, x_train, y_train)\n",
    "best_params, best_score, best_model"
   ]
  },
  {
   "cell_type": "code",
   "execution_count": 276,
   "id": "f9b17401",
   "metadata": {},
   "outputs": [
    {
     "name": "stdout",
     "output_type": "stream",
     "text": [
      "Matthews Correlation Coefficient (MCC):  0.9608171151174155\n"
     ]
    },
    {
     "data": {
      "image/png": "[encoded data removed]",
      "text/plain": [
       "<Figure size 640x480 with 1 Axes>"
      ]
     },
     "metadata": {},
     "output_type": "display_data"
    }
   ],
   "source": [
    "tree_model = best_model\n",
    "tree_model.fit(x_train, y_train)\n",
    "tree_y_pred = tree_model.predict(x_test)\n",
    "print('Matthews Correlation Coefficient (MCC): ', matthews_corrcoef(y_test, tree_y_pred))\n",
    "\n",
    "# simple comparaison\n",
    "compare_values(y_test, tree_y_pred)"
   ]
  },
  {
   "cell_type": "code",
   "execution_count": 277,
   "id": "50407e6a",
   "metadata": {},
   "outputs": [
    {
     "name": "stdout",
     "output_type": "stream",
     "text": [
      "[1668 3337 5006 6675 8344]\n"
     ]
    },
    {
     "data": {
      "image/png": "[encoded data removed]",
      "text/plain": [
       "<Figure size 640x480 with 1 Axes>"
      ]
     },
     "metadata": {},
     "output_type": "display_data"
    }
   ],
   "source": [
    "show_learning_curve(tree_model)"
   ]
  },
  {
   "cell_type": "markdown",
   "id": "bc28c6de",
   "metadata": {},
   "source": [
    "#### 3.3.4 Bagging Classifier"
   ]
  },
  {
   "cell_type": "code",
   "execution_count": 322,
   "id": "60a1e1ca",
   "metadata": {},
   "outputs": [
    {
     "data": {
      "text/plain": [
       "BaggingClassifier(random_state=42)"
      ]
     },
     "execution_count": 322,
     "metadata": {},
     "output_type": "execute_result"
    }
   ],
   "source": [
    "bagging_model = classifiers['Bagging']\n",
    "bagging_model"
   ]
  },
  {
   "cell_type": "code",
   "execution_count": 325,
   "id": "a851cc5c",
   "metadata": {},
   "outputs": [],
   "source": [
    "param_grid = {\n",
    "    'n_estimators': [1, 10, 50, 100],\n",
    "    'max_features': [1, 2, 5, 10],\n",
    "    'max_samples': [10, 20, 50, 100, 1000],\n",
    "    'bootstrap': [True, False]\n",
    "}"
   ]
  },
  {
   "cell_type": "code",
   "execution_count": 326,
   "id": "b485c28d",
   "metadata": {},
   "outputs": [
    {
     "data": {
      "text/plain": [
       "({'bootstrap': False,\n",
       "  'max_features': 10,\n",
       "  'max_samples': 1000,\n",
       "  'n_estimators': 100},\n",
       " 0.8883988494726749,\n",
       " BaggingClassifier(bootstrap=False, max_features=10, max_samples=1000,\n",
       "                   n_estimators=100, random_state=42))"
      ]
     },
     "execution_count": 326,
     "metadata": {},
     "output_type": "execute_result"
    }
   ],
   "source": [
    "best_params, best_score, best_model = find_best_hyperparameters(bagging_model, param_grid, x_train, y_train)\n",
    "best_params, best_score, best_model"
   ]
  },
  {
   "cell_type": "code",
   "execution_count": 327,
   "id": "bb43496d",
   "metadata": {},
   "outputs": [
    {
     "name": "stdout",
     "output_type": "stream",
     "text": [
      "Matthews Correlation Coefficient (MCC):  0.8642843027754116\n"
     ]
    },
    {
     "data": {
      "image/png": "[encoded data removed]",
      "text/plain": [
       "<Figure size 640x480 with 1 Axes>"
      ]
     },
     "metadata": {},
     "output_type": "display_data"
    }
   ],
   "source": [
    "bagging_model = best_model\n",
    "bagging_model.fit(x_train, y_train)\n",
    "bagging_y_pred = bagging_model.predict(x_test)\n",
    "print('Matthews Correlation Coefficient (MCC): ', matthews_corrcoef(y_test, bagging_y_pred))\n",
    "\n",
    "# simple comparaison\n",
    "compare_values(y_test, bagging_y_pred)"
   ]
  },
  {
   "cell_type": "code",
   "execution_count": 328,
   "id": "6e410722",
   "metadata": {},
   "outputs": [
    {
     "name": "stdout",
     "output_type": "stream",
     "text": [
      "[1668 3337 5006 6675 8344]\n"
     ]
    },
    {
     "data": {
      "image/png": "[encoded data removed]",
      "text/plain": [
       "<Figure size 640x480 with 1 Axes>"
      ]
     },
     "metadata": {},
     "output_type": "display_data"
    }
   ],
   "source": [
    "show_learning_curve(bagging_model)"
   ]
  }
 ],
 "metadata": {
  "kernelspec": {
   "display_name": "Python 3 (ipykernel)",
   "language": "python",
   "name": "python3"
  },
  "language_info": {
   "codemirror_mode": {
    "name": "ipython",
    "version": 3
   },
   "file_extension": ".py",
   "mimetype": "text/x-python",
   "name": "python",
   "nbconvert_exporter": "python",
   "pygments_lexer": "ipython3",
   "version": "3.9.13"
  }
 },
 "nbformat": 4,
 "nbformat_minor": 5
}
